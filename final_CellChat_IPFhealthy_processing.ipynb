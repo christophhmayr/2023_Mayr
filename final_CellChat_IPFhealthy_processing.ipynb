{
 "cells": [
  {
   "cell_type": "markdown",
   "id": "f458401e-d050-486d-af1f-1b624eaf7a78",
   "metadata": {},
   "source": [
    "#### This notebook describes:"
   ]
  },
  {
   "cell_type": "markdown",
   "id": "90637e46-49bf-463b-a33d-e8cb7ec146d3",
   "metadata": {},
   "source": [
    "#### 1) How the input for the CellChat analysis was created from the scRNAseq data"
   ]
  },
  {
   "cell_type": "markdown",
   "id": "9356a2bb-182d-453c-bbfb-c9d5e7017408",
   "metadata": {},
   "source": [
    "#### 2) How the CellChat processing was run separately for IPF and Control"
   ]
  },
  {
   "cell_type": "markdown",
   "id": "7503f92b-b667-487c-b3e7-3228d0bd5d63",
   "metadata": {},
   "source": [
    "# Cell-cell and cell-ligant analysis"
   ]
  },
  {
   "cell_type": "markdown",
   "id": "a97b9879-aaf1-4bdc-b390-9a6ee51c2f08",
   "metadata": {},
   "source": [
    "This notebook is based on CellChat vignette:\n",
    "https://github.com/sqjin/CellChat <br/>\n"
   ]
  },
  {
   "cell_type": "markdown",
   "id": "259c6ea2-d854-4b9c-a4a0-daf632bd7844",
   "metadata": {
    "tags": []
   },
   "source": [
    "## load environment"
   ]
  },
  {
   "cell_type": "code",
   "execution_count": 1,
   "id": "f6d285f5-1b8b-439e-b6c2-d85f56c49111",
   "metadata": {},
   "outputs": [],
   "source": [
    "import numpy as np\n",
    "import pandas as pd\n",
    "import scanpy as sc\n",
    "from matplotlib import rcParams\n",
    "import matplotlib.pyplot as plt"
   ]
  },
  {
   "cell_type": "code",
   "execution_count": null,
   "id": "c512e933-a26d-4eea-8ea1-3ffc970b5c09",
   "metadata": {},
   "outputs": [],
   "source": [
    "import rpy2.rinterface_lib.callbacks\n",
    "import logging\n",
    "\n",
    "from rpy2.robjects import pandas2ri\n",
    "import anndata2ri"
   ]
  },
  {
   "cell_type": "code",
   "execution_count": 1,
   "id": "87bec69e-1ba4-4902-bc99-49e1c9206d1e",
   "metadata": {},
   "outputs": [],
   "source": [
    "# R 4.1.0 : Biocondutor 3.13 : Python 3.9.5 "
   ]
  },
  {
   "cell_type": "code",
   "execution_count": 4,
   "id": "2d96858a-50aa-4dd6-aa34-8d1d91991525",
   "metadata": {},
   "outputs": [],
   "source": [
    "# Automatically convert rpy2 outputs to pandas dataframes\n",
    "pandas2ri.activate()\n",
    "anndata2ri.activate()\n",
    "%load_ext rpy2.ipython"
   ]
  },
  {
   "cell_type": "code",
   "execution_count": null,
   "id": "21867180-5def-4bd1-9be8-4329a753b4b1",
   "metadata": {},
   "outputs": [],
   "source": [
    "%%R\n",
    "library(CellChat)"
   ]
  },
  {
   "cell_type": "code",
   "execution_count": 4,
   "id": "1c9859b6-30eb-4181-ad1f-93328fe7938c",
   "metadata": {},
   "outputs": [],
   "source": [
    "%%R\n",
    "options(bitmapType='cairo')"
   ]
  },
  {
   "cell_type": "markdown",
   "id": "941e638d-85d5-4c13-89d9-8932a708094d",
   "metadata": {
    "tags": []
   },
   "source": [
    "## load R libraries"
   ]
  },
  {
   "cell_type": "markdown",
   "id": "f49996c0-b675-40e1-b7bb-aa35d249abc7",
   "metadata": {},
   "source": [
    "if CellChat not installed then: `devtools::install_github(\"sqjin/CellChat\")`"
   ]
  },
  {
   "cell_type": "code",
   "execution_count": null,
   "id": "8431f1c7-51cd-495e-9d79-7b82df0681c0",
   "metadata": {
    "tags": []
   },
   "outputs": [],
   "source": [
    "%%R\n",
    "library(CellChat)\n",
    "library(patchwork)\n",
    "library(scater)\n",
    "library(tidyverse)\n",
    "library(cowplot)\n",
    "library(Matrix.utils)\n",
    "library(dplyr)\n",
    "library(magrittr)\n",
    "library(Matrix)\n",
    "library(purrr)\n",
    "library(reshape2)\n",
    "library(S4Vectors)\n",
    "library(tibble)\n",
    "library(RColorBrewer)\n",
    "library(openxlsx)\n",
    "options(stringsAsFactors = FALSE)\n",
    "library(NMF)\n",
    "library(ggalluvial)"
   ]
  },
  {
   "cell_type": "markdown",
   "id": "d9db7a1d-fb69-450b-9645-afab62ef9be0",
   "metadata": {
    "tags": []
   },
   "source": [
    "## Set the ligand-receptor interaction database"
   ]
  },
  {
   "cell_type": "markdown",
   "id": "f889434c-bfda-4da4-85fa-eb49abc1c7bb",
   "metadata": {},
   "source": [
    "CellChatDB:\n",
    "- manually curated database of literature-supported ligand-receptor interactions in both human and mouse\n",
    "- in mouse contains 2,021 validated molecular interactions, including:\n",
    "    - 60% of secrete autocrine/paracrine signaling interactions\n",
    "    - 21% of extracellular matrix (ECM)-receptor interactions\n",
    "    - 19% of cell-cell contact interactions\n",
    "- in human contains 1,939 validated molecular interactions, including:\n",
    "    - 61.8% of paracrine/autocrine signaling interactions\n",
    "    - 21.7% of extracellular matrix (ECM)-receptor interactions\n",
    "    - 16.5% of cell-cell contact interactions.\n",
    "\n",
    "CellChatDB can be updated by adding custom curated ligand-receptor pairs. The tutorial on how to do it is available in CellChat main repository."
   ]
  },
  {
   "cell_type": "code",
   "execution_count": 6,
   "id": "e75f0b3d-baee-4f9d-8757-000d1ef32aef",
   "metadata": {},
   "outputs": [
    {
     "data": {
      "image/png": "[encoded data removed]"
     },
     "metadata": {},
     "output_type": "display_data"
    }
   ],
   "source": [
    "%%R -w 1200 -h 600\n",
    "# use CellChatDB.human if running on human data\n",
    "CellChatDB <- CellChatDB.human \n",
    "showDatabaseCategory(CellChatDB)"
   ]
  },
  {
   "cell_type": "code",
   "execution_count": 7,
   "id": "8c548dd4-a52d-4d61-b8bb-db695daf4834",
   "metadata": {},
   "outputs": [
    {
     "name": "stdout",
     "output_type": "stream",
     "text": [
      "'data.frame':\t41787 obs. of  6 variables:\n",
      " $ Symbol         : chr  \"A1BG\" \"A1BG-AS1\" \"A1CF\" \"A2M\" ...\n",
      " $ Name           : chr  \"alpha-1-B glycoprotein\" \"A1BG antisense RNA 1\" \"APOBEC1 complementation factor\" \"alpha-2-macroglobulin\" ...\n",
      " $ EntrezGene.ID  : int  1 503538 29974 2 144571 144568 NA NA 3 127550 ...\n",
      " $ Ensembl.Gene.ID: chr  \"ENSG00000121410\" \"ENSG00000268895\" \"ENSG00000148584\" \"ENSG00000175899\" ...\n",
      " $ MGI.ID         : chr  \"MGI:2152878\" \"\" \"MGI:1917115\" \"MGI:2449119\" ...\n",
      " $ Gene.group.name: chr  \"Immunoglobulin like domain containing\" \"Antisense RNAs\" \"RNA binding motif containing\" \"C3 and PZP like, alpha-2-macroglobulin domain containing\" ...\n"
     ]
    }
   ],
   "source": [
    "%%R\n",
    "str(CellChatDB$geneInfo)"
   ]
  },
  {
   "cell_type": "code",
   "execution_count": 8,
   "id": "5d15a8ae-2c0e-4756-a97e-14a73004f407",
   "metadata": {},
   "outputs": [
    {
     "name": "stdout",
     "output_type": "stream",
     "text": [
      "Rows: 1,939\n",
      "Columns: 11\n",
      "$ interaction_name   <chr> \"TGFB1_TGFBR1_TGFBR2\", \"TGFB2_TGFBR1_TGFBR2\", \"TGFB…\n",
      "$ pathway_name       <chr> \"TGFb\", \"TGFb\", \"TGFb\", \"TGFb\", \"TGFb\", \"TGFb\", \"TG…\n",
      "$ ligand             <chr> \"TGFB1\", \"TGFB2\", \"TGFB3\", \"TGFB1\", \"TGFB1\", \"TGFB2…\n",
      "$ receptor           <chr> \"TGFbR1_R2\", \"TGFbR1_R2\", \"TGFbR1_R2\", \"ACVR1B_TGFb…\n",
      "$ agonist            <chr> \"TGFb agonist\", \"TGFb agonist\", \"TGFb agonist\", \"TG…\n",
      "$ antagonist         <chr> \"TGFb antagonist\", \"TGFb antagonist\", \"TGFb antagon…\n",
      "$ co_A_receptor      <chr> \"\", \"\", \"\", \"\", \"\", \"\", \"\", \"\", \"\", \"\", \"\", \"\", \"\",…\n",
      "$ co_I_receptor      <chr> \"TGFb inhibition receptor\", \"TGFb inhibition recept…\n",
      "$ evidence           <chr> \"KEGG: hsa04350\", \"KEGG: hsa04350\", \"KEGG: hsa04350…\n",
      "$ annotation         <chr> \"Secreted Signaling\", \"Secreted Signaling\", \"Secret…\n",
      "$ interaction_name_2 <chr> \"TGFB1 - (TGFBR1+TGFBR2)\", \"TGFB2 - (TGFBR1+TGFBR2)…\n"
     ]
    }
   ],
   "source": [
    "%%R\n",
    "# Show the structure of the database\n",
    "dplyr::glimpse(CellChatDB$interaction)"
   ]
  },
  {
   "cell_type": "code",
   "execution_count": 9,
   "id": "08776bb4-1090-4d7f-b495-a3129933ff88",
   "metadata": {},
   "outputs": [],
   "source": [
    "%%R -o gene_key\n",
    "gene_key <- CellChatDB$geneInfo"
   ]
  },
  {
   "cell_type": "markdown",
   "id": "f24957b7-f18b-4609-8a24-9f2f6f71463c",
   "metadata": {
    "tags": []
   },
   "source": [
    "## Cell-chat analysis"
   ]
  },
  {
   "cell_type": "markdown",
   "id": "4e22acf9-d527-4a12-ade6-8373d474393f",
   "metadata": {
    "tags": []
   },
   "source": [
    "### Create a CellChat object"
   ]
  },
  {
   "cell_type": "markdown",
   "id": "ee616e2b-61c4-4168-a4e1-5cb6e0a8b472",
   "metadata": {},
   "source": [
    "CellChat object can be generated from:\n",
    "1. a data matrix, \n",
    "2. Seurat \n",
    "3. SingleCellExperiment (SCE) object.\n",
    "\n",
    "Data matrix for the gene expression data matrix formatting:\n",
    "- genes should be in rows with their names as rownames \n",
    "- cells should be used in columns with colnames\n",
    "\n",
    "Generally, normalized data (e.g., library-size normalization folowed by log-transformed with a pseudocount of 1) is required as input for CellChat analysis. \\\n",
    "<br/>\n",
    "**Strongly advisable: use raw count input data**\\\n",
    "<br/>\n",
    "If count data is provided:\n",
    "- use `normalizeData` function to account for library size and then do log-transformed\n",
    "- for the cell group information, provide a dataframe with rownames (required as input for CellChat)\n",
    "<br/>\n",
    "**Please note:**\n",
    "- if using Seurat or SCE object, the meta data in the object will be used by default \n",
    "- for Seurat and SCE `group.by` must be provided to define the cell groups. e.g, `group.by = “ident”` for the default cell identities in Seurat object."
   ]
  },
  {
   "cell_type": "markdown",
   "id": "9758b02c-78a2-4f14-9e44-aafdc47e1615",
   "metadata": {},
   "source": [
    "### Format count matrix"
   ]
  },
  {
   "cell_type": "markdown",
   "id": "b683b000-1341-4b72-827e-f12a81663eaa",
   "metadata": {},
   "source": [
    "for ensembl gene id please use:"
   ]
  },
  {
   "cell_type": "code",
   "execution_count": 12,
   "id": "a7b97604-b854-4aae-8961-b5516c1ecf07",
   "metadata": {},
   "outputs": [],
   "source": [
    "adata = sc.read_h5ad(\".h5ad\")"
   ]
  },
  {
   "cell_type": "code",
   "execution_count": 13,
   "id": "58a79b19-726f-4d77-8e62-0853b0fdbf06",
   "metadata": {},
   "outputs": [
    {
     "data": {
      "text/plain": [
       "AnnData object with n_obs × n_vars = 206947 × 30647\n",
       "    obs: 'sampleID', 'study', 'diagnosis', 'Disease_study', 'compartment', 'cell type', 'cell subtype', 'n_genes', 'log1p_n_genes_by_counts', 'total_counts', 'pct_counts_mitochondrial', 'Source', 'n_genes_by_counts', 'log1p_total_counts', 'total_counts_mitochondrial', 'log1p_total_counts_mitochondrial', 'cell_type_CM', 'cell_type_CM2'\n",
       "    var: 'gene_ids', 'gene_name', 'mitochondrial', 'n_cells_by_counts', 'mean_counts', 'log1p_mean_counts', 'pct_dropout_by_counts', 'total_counts', 'log1p_total_counts'\n",
       "    uns: 'cell subtype_colors', 'cell type_colors', 'cell_type_CM2_colors', 'cell_type_CM_colors', 'compartment_colors', 'diagnosis_colors', 'neighbors', 'study_colors', 'umap'\n",
       "    obsm: 'X_scVI', 'X_umap'\n",
       "    layers: 'counts', 'log1p'\n",
       "    obsp: 'connectivities', 'distances'"
      ]
     },
     "execution_count": 13,
     "metadata": {},
     "output_type": "execute_result"
    }
   ],
   "source": [
    "adata"
   ]
  },
  {
   "cell_type": "code",
   "execution_count": 14,
   "id": "b2232ec3-7510-45e8-872b-4f03c439c0dd",
   "metadata": {},
   "outputs": [
    {
     "data": {
      "text/html": [
       "<div>\n",
       "<style scoped>\n",
       "    .dataframe tbody tr th:only-of-type {\n",
       "        vertical-align: middle;\n",
       "    }\n",
       "\n",
       "    .dataframe tbody tr th {\n",
       "        vertical-align: top;\n",
       "    }\n",
       "\n",
       "    .dataframe thead th {\n",
       "        text-align: right;\n",
       "    }\n",
       "</style>\n",
       "<table border=\"1\" class=\"dataframe\">\n",
       "  <thead>\n",
       "    <tr style=\"text-align: right;\">\n",
       "      <th></th>\n",
       "      <th>gene_ids</th>\n",
       "      <th>gene_name</th>\n",
       "      <th>mitochondrial</th>\n",
       "      <th>n_cells_by_counts</th>\n",
       "      <th>mean_counts</th>\n",
       "      <th>log1p_mean_counts</th>\n",
       "      <th>pct_dropout_by_counts</th>\n",
       "      <th>total_counts</th>\n",
       "      <th>log1p_total_counts</th>\n",
       "    </tr>\n",
       "  </thead>\n",
       "  <tbody>\n",
       "    <tr>\n",
       "      <th>ENSG00000243485</th>\n",
       "      <td>ENSG00000243485</td>\n",
       "      <td>RP11-34P13.3</td>\n",
       "      <td>False</td>\n",
       "      <td>64</td>\n",
       "      <td>0.004586</td>\n",
       "      <td>0.004576</td>\n",
       "      <td>99.978023</td>\n",
       "      <td>1.335534e+03</td>\n",
       "      <td>7.197835</td>\n",
       "    </tr>\n",
       "    <tr>\n",
       "      <th>ENSG00000237613</th>\n",
       "      <td>ENSG00000237613</td>\n",
       "      <td>FAM138A</td>\n",
       "      <td>False</td>\n",
       "      <td>12</td>\n",
       "      <td>0.000775</td>\n",
       "      <td>0.000775</td>\n",
       "      <td>99.995879</td>\n",
       "      <td>2.258354e+02</td>\n",
       "      <td>5.424225</td>\n",
       "    </tr>\n",
       "    <tr>\n",
       "      <th>ENSG00000186092</th>\n",
       "      <td>ENSG00000186092</td>\n",
       "      <td>OR4F5</td>\n",
       "      <td>False</td>\n",
       "      <td>38</td>\n",
       "      <td>0.002558</td>\n",
       "      <td>0.002554</td>\n",
       "      <td>99.986951</td>\n",
       "      <td>7.448303e+02</td>\n",
       "      <td>6.614498</td>\n",
       "    </tr>\n",
       "    <tr>\n",
       "      <th>ENSG00000238009</th>\n",
       "      <td>ENSG00000238009</td>\n",
       "      <td>RP11-34P13.7</td>\n",
       "      <td>False</td>\n",
       "      <td>2422</td>\n",
       "      <td>0.197062</td>\n",
       "      <td>0.179870</td>\n",
       "      <td>99.168309</td>\n",
       "      <td>5.738715e+04</td>\n",
       "      <td>10.957593</td>\n",
       "    </tr>\n",
       "    <tr>\n",
       "      <th>ENSG00000239906</th>\n",
       "      <td>ENSG00000239906</td>\n",
       "      <td>RP11-34P13.14</td>\n",
       "      <td>False</td>\n",
       "      <td>4</td>\n",
       "      <td>0.000181</td>\n",
       "      <td>0.000181</td>\n",
       "      <td>99.998626</td>\n",
       "      <td>5.262234e+01</td>\n",
       "      <td>3.981966</td>\n",
       "    </tr>\n",
       "    <tr>\n",
       "      <th>...</th>\n",
       "      <td>...</td>\n",
       "      <td>...</td>\n",
       "      <td>...</td>\n",
       "      <td>...</td>\n",
       "      <td>...</td>\n",
       "      <td>...</td>\n",
       "      <td>...</td>\n",
       "      <td>...</td>\n",
       "      <td>...</td>\n",
       "    </tr>\n",
       "    <tr>\n",
       "      <th>ENSG00000276345</th>\n",
       "      <td>ENSG00000276345</td>\n",
       "      <td>AC004556.1</td>\n",
       "      <td>False</td>\n",
       "      <td>46462</td>\n",
       "      <td>3.659548</td>\n",
       "      <td>1.538918</td>\n",
       "      <td>84.045410</td>\n",
       "      <td>1.065712e+06</td>\n",
       "      <td>13.879154</td>\n",
       "    </tr>\n",
       "    <tr>\n",
       "      <th>ENSG00000277856</th>\n",
       "      <td>ENSG00000277856</td>\n",
       "      <td>AC233755.2</td>\n",
       "      <td>False</td>\n",
       "      <td>62</td>\n",
       "      <td>0.009259</td>\n",
       "      <td>0.009216</td>\n",
       "      <td>99.978710</td>\n",
       "      <td>2.696299e+03</td>\n",
       "      <td>7.900006</td>\n",
       "    </tr>\n",
       "    <tr>\n",
       "      <th>ENSG00000275063</th>\n",
       "      <td>ENSG00000275063</td>\n",
       "      <td>AC233755.1</td>\n",
       "      <td>False</td>\n",
       "      <td>120</td>\n",
       "      <td>0.012317</td>\n",
       "      <td>0.012242</td>\n",
       "      <td>99.958793</td>\n",
       "      <td>3.586823e+03</td>\n",
       "      <td>8.185301</td>\n",
       "    </tr>\n",
       "    <tr>\n",
       "      <th>ENSG00000271254</th>\n",
       "      <td>ENSG00000271254</td>\n",
       "      <td>AC240274.1</td>\n",
       "      <td>False</td>\n",
       "      <td>17702</td>\n",
       "      <td>1.243489</td>\n",
       "      <td>0.808032</td>\n",
       "      <td>93.921309</td>\n",
       "      <td>3.621213e+05</td>\n",
       "      <td>12.799737</td>\n",
       "    </tr>\n",
       "    <tr>\n",
       "      <th>ENSG00000268674</th>\n",
       "      <td>ENSG00000268674</td>\n",
       "      <td>FAM231B</td>\n",
       "      <td>False</td>\n",
       "      <td>3</td>\n",
       "      <td>0.000141</td>\n",
       "      <td>0.000141</td>\n",
       "      <td>99.998970</td>\n",
       "      <td>4.111079e+01</td>\n",
       "      <td>3.740304</td>\n",
       "    </tr>\n",
       "  </tbody>\n",
       "</table>\n",
       "<p>30647 rows × 9 columns</p>\n",
       "</div>"
      ],
      "text/plain": [
       "                        gene_ids      gene_name  mitochondrial  \\\n",
       "ENSG00000243485  ENSG00000243485   RP11-34P13.3          False   \n",
       "ENSG00000237613  ENSG00000237613        FAM138A          False   \n",
       "ENSG00000186092  ENSG00000186092          OR4F5          False   \n",
       "ENSG00000238009  ENSG00000238009   RP11-34P13.7          False   \n",
       "ENSG00000239906  ENSG00000239906  RP11-34P13.14          False   \n",
       "...                          ...            ...            ...   \n",
       "ENSG00000276345  ENSG00000276345     AC004556.1          False   \n",
       "ENSG00000277856  ENSG00000277856     AC233755.2          False   \n",
       "ENSG00000275063  ENSG00000275063     AC233755.1          False   \n",
       "ENSG00000271254  ENSG00000271254     AC240274.1          False   \n",
       "ENSG00000268674  ENSG00000268674        FAM231B          False   \n",
       "\n",
       "                 n_cells_by_counts  mean_counts  log1p_mean_counts  \\\n",
       "ENSG00000243485                 64     0.004586           0.004576   \n",
       "ENSG00000237613                 12     0.000775           0.000775   \n",
       "ENSG00000186092                 38     0.002558           0.002554   \n",
       "ENSG00000238009               2422     0.197062           0.179870   \n",
       "ENSG00000239906                  4     0.000181           0.000181   \n",
       "...                            ...          ...                ...   \n",
       "ENSG00000276345              46462     3.659548           1.538918   \n",
       "ENSG00000277856                 62     0.009259           0.009216   \n",
       "ENSG00000275063                120     0.012317           0.012242   \n",
       "ENSG00000271254              17702     1.243489           0.808032   \n",
       "ENSG00000268674                  3     0.000141           0.000141   \n",
       "\n",
       "                 pct_dropout_by_counts  total_counts  log1p_total_counts  \n",
       "ENSG00000243485              99.978023  1.335534e+03            7.197835  \n",
       "ENSG00000237613              99.995879  2.258354e+02            5.424225  \n",
       "ENSG00000186092              99.986951  7.448303e+02            6.614498  \n",
       "ENSG00000238009              99.168309  5.738715e+04           10.957593  \n",
       "ENSG00000239906              99.998626  5.262234e+01            3.981966  \n",
       "...                                ...           ...                 ...  \n",
       "ENSG00000276345              84.045410  1.065712e+06           13.879154  \n",
       "ENSG00000277856              99.978710  2.696299e+03            7.900006  \n",
       "ENSG00000275063              99.958793  3.586823e+03            8.185301  \n",
       "ENSG00000271254              93.921309  3.621213e+05           12.799737  \n",
       "ENSG00000268674              99.998970  4.111079e+01            3.740304  \n",
       "\n",
       "[30647 rows x 9 columns]"
      ]
     },
     "execution_count": 14,
     "metadata": {},
     "output_type": "execute_result"
    }
   ],
   "source": [
    "adata.var"
   ]
  },
  {
   "cell_type": "code",
   "execution_count": 15,
   "id": "1387e0d8-575a-4dc7-8169-532eb1e8eb6c",
   "metadata": {},
   "outputs": [],
   "source": [
    "adata.var[\"ensembl_id\"] = adata.var_names"
   ]
  },
  {
   "cell_type": "code",
   "execution_count": 16,
   "id": "04ee0c6c-b152-4139-8681-0e50a2212e8c",
   "metadata": {},
   "outputs": [],
   "source": [
    "adata.var_names = adata.var[\"gene_name\"].tolist().copy()"
   ]
  },
  {
   "cell_type": "code",
   "execution_count": 17,
   "id": "81c19d16-e576-48cf-b67f-8cd897152e5f",
   "metadata": {},
   "outputs": [
    {
     "data": {
      "text/html": [
       "<div>\n",
       "<style scoped>\n",
       "    .dataframe tbody tr th:only-of-type {\n",
       "        vertical-align: middle;\n",
       "    }\n",
       "\n",
       "    .dataframe tbody tr th {\n",
       "        vertical-align: top;\n",
       "    }\n",
       "\n",
       "    .dataframe thead th {\n",
       "        text-align: right;\n",
       "    }\n",
       "</style>\n",
       "<table border=\"1\" class=\"dataframe\">\n",
       "  <thead>\n",
       "    <tr style=\"text-align: right;\">\n",
       "      <th></th>\n",
       "      <th>gene_ids</th>\n",
       "      <th>gene_name</th>\n",
       "      <th>mitochondrial</th>\n",
       "      <th>n_cells_by_counts</th>\n",
       "      <th>mean_counts</th>\n",
       "      <th>log1p_mean_counts</th>\n",
       "      <th>pct_dropout_by_counts</th>\n",
       "      <th>total_counts</th>\n",
       "      <th>log1p_total_counts</th>\n",
       "      <th>ensembl_id</th>\n",
       "    </tr>\n",
       "  </thead>\n",
       "  <tbody>\n",
       "    <tr>\n",
       "      <th>RP11-34P13.3</th>\n",
       "      <td>ENSG00000243485</td>\n",
       "      <td>RP11-34P13.3</td>\n",
       "      <td>False</td>\n",
       "      <td>64</td>\n",
       "      <td>0.004586</td>\n",
       "      <td>0.004576</td>\n",
       "      <td>99.978023</td>\n",
       "      <td>1.335534e+03</td>\n",
       "      <td>7.197835</td>\n",
       "      <td>ENSG00000243485</td>\n",
       "    </tr>\n",
       "    <tr>\n",
       "      <th>FAM138A</th>\n",
       "      <td>ENSG00000237613</td>\n",
       "      <td>FAM138A</td>\n",
       "      <td>False</td>\n",
       "      <td>12</td>\n",
       "      <td>0.000775</td>\n",
       "      <td>0.000775</td>\n",
       "      <td>99.995879</td>\n",
       "      <td>2.258354e+02</td>\n",
       "      <td>5.424225</td>\n",
       "      <td>ENSG00000237613</td>\n",
       "    </tr>\n",
       "    <tr>\n",
       "      <th>OR4F5</th>\n",
       "      <td>ENSG00000186092</td>\n",
       "      <td>OR4F5</td>\n",
       "      <td>False</td>\n",
       "      <td>38</td>\n",
       "      <td>0.002558</td>\n",
       "      <td>0.002554</td>\n",
       "      <td>99.986951</td>\n",
       "      <td>7.448303e+02</td>\n",
       "      <td>6.614498</td>\n",
       "      <td>ENSG00000186092</td>\n",
       "    </tr>\n",
       "    <tr>\n",
       "      <th>RP11-34P13.7</th>\n",
       "      <td>ENSG00000238009</td>\n",
       "      <td>RP11-34P13.7</td>\n",
       "      <td>False</td>\n",
       "      <td>2422</td>\n",
       "      <td>0.197062</td>\n",
       "      <td>0.179870</td>\n",
       "      <td>99.168309</td>\n",
       "      <td>5.738715e+04</td>\n",
       "      <td>10.957593</td>\n",
       "      <td>ENSG00000238009</td>\n",
       "    </tr>\n",
       "    <tr>\n",
       "      <th>RP11-34P13.14</th>\n",
       "      <td>ENSG00000239906</td>\n",
       "      <td>RP11-34P13.14</td>\n",
       "      <td>False</td>\n",
       "      <td>4</td>\n",
       "      <td>0.000181</td>\n",
       "      <td>0.000181</td>\n",
       "      <td>99.998626</td>\n",
       "      <td>5.262234e+01</td>\n",
       "      <td>3.981966</td>\n",
       "      <td>ENSG00000239906</td>\n",
       "    </tr>\n",
       "    <tr>\n",
       "      <th>...</th>\n",
       "      <td>...</td>\n",
       "      <td>...</td>\n",
       "      <td>...</td>\n",
       "      <td>...</td>\n",
       "      <td>...</td>\n",
       "      <td>...</td>\n",
       "      <td>...</td>\n",
       "      <td>...</td>\n",
       "      <td>...</td>\n",
       "      <td>...</td>\n",
       "    </tr>\n",
       "    <tr>\n",
       "      <th>AC004556.1</th>\n",
       "      <td>ENSG00000276345</td>\n",
       "      <td>AC004556.1</td>\n",
       "      <td>False</td>\n",
       "      <td>46462</td>\n",
       "      <td>3.659548</td>\n",
       "      <td>1.538918</td>\n",
       "      <td>84.045410</td>\n",
       "      <td>1.065712e+06</td>\n",
       "      <td>13.879154</td>\n",
       "      <td>ENSG00000276345</td>\n",
       "    </tr>\n",
       "    <tr>\n",
       "      <th>AC233755.2</th>\n",
       "      <td>ENSG00000277856</td>\n",
       "      <td>AC233755.2</td>\n",
       "      <td>False</td>\n",
       "      <td>62</td>\n",
       "      <td>0.009259</td>\n",
       "      <td>0.009216</td>\n",
       "      <td>99.978710</td>\n",
       "      <td>2.696299e+03</td>\n",
       "      <td>7.900006</td>\n",
       "      <td>ENSG00000277856</td>\n",
       "    </tr>\n",
       "    <tr>\n",
       "      <th>AC233755.1</th>\n",
       "      <td>ENSG00000275063</td>\n",
       "      <td>AC233755.1</td>\n",
       "      <td>False</td>\n",
       "      <td>120</td>\n",
       "      <td>0.012317</td>\n",
       "      <td>0.012242</td>\n",
       "      <td>99.958793</td>\n",
       "      <td>3.586823e+03</td>\n",
       "      <td>8.185301</td>\n",
       "      <td>ENSG00000275063</td>\n",
       "    </tr>\n",
       "    <tr>\n",
       "      <th>AC240274.1</th>\n",
       "      <td>ENSG00000271254</td>\n",
       "      <td>AC240274.1</td>\n",
       "      <td>False</td>\n",
       "      <td>17702</td>\n",
       "      <td>1.243489</td>\n",
       "      <td>0.808032</td>\n",
       "      <td>93.921309</td>\n",
       "      <td>3.621213e+05</td>\n",
       "      <td>12.799737</td>\n",
       "      <td>ENSG00000271254</td>\n",
       "    </tr>\n",
       "    <tr>\n",
       "      <th>FAM231B</th>\n",
       "      <td>ENSG00000268674</td>\n",
       "      <td>FAM231B</td>\n",
       "      <td>False</td>\n",
       "      <td>3</td>\n",
       "      <td>0.000141</td>\n",
       "      <td>0.000141</td>\n",
       "      <td>99.998970</td>\n",
       "      <td>4.111079e+01</td>\n",
       "      <td>3.740304</td>\n",
       "      <td>ENSG00000268674</td>\n",
       "    </tr>\n",
       "  </tbody>\n",
       "</table>\n",
       "<p>30647 rows × 10 columns</p>\n",
       "</div>"
      ],
      "text/plain": [
       "                      gene_ids      gene_name  mitochondrial  \\\n",
       "RP11-34P13.3   ENSG00000243485   RP11-34P13.3          False   \n",
       "FAM138A        ENSG00000237613        FAM138A          False   \n",
       "OR4F5          ENSG00000186092          OR4F5          False   \n",
       "RP11-34P13.7   ENSG00000238009   RP11-34P13.7          False   \n",
       "RP11-34P13.14  ENSG00000239906  RP11-34P13.14          False   \n",
       "...                        ...            ...            ...   \n",
       "AC004556.1     ENSG00000276345     AC004556.1          False   \n",
       "AC233755.2     ENSG00000277856     AC233755.2          False   \n",
       "AC233755.1     ENSG00000275063     AC233755.1          False   \n",
       "AC240274.1     ENSG00000271254     AC240274.1          False   \n",
       "FAM231B        ENSG00000268674        FAM231B          False   \n",
       "\n",
       "               n_cells_by_counts  mean_counts  log1p_mean_counts  \\\n",
       "RP11-34P13.3                  64     0.004586           0.004576   \n",
       "FAM138A                       12     0.000775           0.000775   \n",
       "OR4F5                         38     0.002558           0.002554   \n",
       "RP11-34P13.7                2422     0.197062           0.179870   \n",
       "RP11-34P13.14                  4     0.000181           0.000181   \n",
       "...                          ...          ...                ...   \n",
       "AC004556.1                 46462     3.659548           1.538918   \n",
       "AC233755.2                    62     0.009259           0.009216   \n",
       "AC233755.1                   120     0.012317           0.012242   \n",
       "AC240274.1                 17702     1.243489           0.808032   \n",
       "FAM231B                        3     0.000141           0.000141   \n",
       "\n",
       "               pct_dropout_by_counts  total_counts  log1p_total_counts  \\\n",
       "RP11-34P13.3               99.978023  1.335534e+03            7.197835   \n",
       "FAM138A                    99.995879  2.258354e+02            5.424225   \n",
       "OR4F5                      99.986951  7.448303e+02            6.614498   \n",
       "RP11-34P13.7               99.168309  5.738715e+04           10.957593   \n",
       "RP11-34P13.14              99.998626  5.262234e+01            3.981966   \n",
       "...                              ...           ...                 ...   \n",
       "AC004556.1                 84.045410  1.065712e+06           13.879154   \n",
       "AC233755.2                 99.978710  2.696299e+03            7.900006   \n",
       "AC233755.1                 99.958793  3.586823e+03            8.185301   \n",
       "AC240274.1                 93.921309  3.621213e+05           12.799737   \n",
       "FAM231B                    99.998970  4.111079e+01            3.740304   \n",
       "\n",
       "                    ensembl_id  \n",
       "RP11-34P13.3   ENSG00000243485  \n",
       "FAM138A        ENSG00000237613  \n",
       "OR4F5          ENSG00000186092  \n",
       "RP11-34P13.7   ENSG00000238009  \n",
       "RP11-34P13.14  ENSG00000239906  \n",
       "...                        ...  \n",
       "AC004556.1     ENSG00000276345  \n",
       "AC233755.2     ENSG00000277856  \n",
       "AC233755.1     ENSG00000275063  \n",
       "AC240274.1     ENSG00000271254  \n",
       "FAM231B        ENSG00000268674  \n",
       "\n",
       "[30647 rows x 10 columns]"
      ]
     },
     "execution_count": 17,
     "metadata": {},
     "output_type": "execute_result"
    }
   ],
   "source": [
    "adata.var"
   ]
  },
  {
   "cell_type": "code",
   "execution_count": 18,
   "id": "8e8daa4c-4586-4f2c-b0ab-c8825a437396",
   "metadata": {},
   "outputs": [
    {
     "data": {
      "text/plain": [
       "Index(['Control', 'IPF'], dtype='object')"
      ]
     },
     "execution_count": 18,
     "metadata": {},
     "output_type": "execute_result"
    }
   ],
   "source": [
    "adata.obs[\"diagnosis\"].cat.categories"
   ]
  },
  {
   "cell_type": "code",
   "execution_count": 19,
   "id": "c4acb39f-53d9-45a7-9e0a-69fa2ff392ab",
   "metadata": {},
   "outputs": [],
   "source": [
    "# extract the counts and metadata for enriched dataset as simple variables for R\n",
    "counts = adata.layers[\"counts\"].toarray()\n",
    "#counts = adata.layers['counts']\n",
    "metadata = adata.obs.copy()\n",
    "features = adata.var.copy()\n",
    "features_orig = adata.var.copy()"
   ]
  },
  {
   "cell_type": "markdown",
   "id": "68f0e3ae-5ec0-4391-b97f-ecd49a2ab850",
   "metadata": {
    "tags": []
   },
   "source": [
    "#### Generate the gene key that is compatible with CellChat"
   ]
  },
  {
   "cell_type": "code",
   "execution_count": 20,
   "id": "53d23e4b-8506-4cf7-86c6-4bfef87ab4d8",
   "metadata": {
    "tags": []
   },
   "outputs": [
    {
     "data": {
      "text/html": [
       "<div>\n",
       "<style scoped>\n",
       "    .dataframe tbody tr th:only-of-type {\n",
       "        vertical-align: middle;\n",
       "    }\n",
       "\n",
       "    .dataframe tbody tr th {\n",
       "        vertical-align: top;\n",
       "    }\n",
       "\n",
       "    .dataframe thead th {\n",
       "        text-align: right;\n",
       "    }\n",
       "</style>\n",
       "<table border=\"1\" class=\"dataframe\">\n",
       "  <thead>\n",
       "    <tr style=\"text-align: right;\">\n",
       "      <th></th>\n",
       "      <th>Symbol</th>\n",
       "    </tr>\n",
       "    <tr>\n",
       "      <th>ensembl_id</th>\n",
       "      <th></th>\n",
       "    </tr>\n",
       "  </thead>\n",
       "  <tbody>\n",
       "    <tr>\n",
       "      <th>ENSG00000121410</th>\n",
       "      <td>A1BG</td>\n",
       "    </tr>\n",
       "    <tr>\n",
       "      <th>ENSG00000268895</th>\n",
       "      <td>A1BG-AS1</td>\n",
       "    </tr>\n",
       "    <tr>\n",
       "      <th>ENSG00000148584</th>\n",
       "      <td>A1CF</td>\n",
       "    </tr>\n",
       "    <tr>\n",
       "      <th>ENSG00000175899</th>\n",
       "      <td>A2M</td>\n",
       "    </tr>\n",
       "    <tr>\n",
       "      <th>ENSG00000245105</th>\n",
       "      <td>A2M-AS1</td>\n",
       "    </tr>\n",
       "    <tr>\n",
       "      <th>...</th>\n",
       "      <td>...</td>\n",
       "    </tr>\n",
       "    <tr>\n",
       "      <th>ENSG00000162378</th>\n",
       "      <td>ZYG11B</td>\n",
       "    </tr>\n",
       "    <tr>\n",
       "      <th>ENSG00000159840</th>\n",
       "      <td>ZYX</td>\n",
       "    </tr>\n",
       "    <tr>\n",
       "      <th>ENSG00000274572</th>\n",
       "      <td>ZYXP1</td>\n",
       "    </tr>\n",
       "    <tr>\n",
       "      <th>ENSG00000074755</th>\n",
       "      <td>ZZEF1</td>\n",
       "    </tr>\n",
       "    <tr>\n",
       "      <th>ENSG00000036549</th>\n",
       "      <td>ZZZ3</td>\n",
       "    </tr>\n",
       "  </tbody>\n",
       "</table>\n",
       "<p>36917 rows × 1 columns</p>\n",
       "</div>"
      ],
      "text/plain": [
       "                   Symbol\n",
       "ensembl_id               \n",
       "ENSG00000121410      A1BG\n",
       "ENSG00000268895  A1BG-AS1\n",
       "ENSG00000148584      A1CF\n",
       "ENSG00000175899       A2M\n",
       "ENSG00000245105   A2M-AS1\n",
       "...                   ...\n",
       "ENSG00000162378    ZYG11B\n",
       "ENSG00000159840       ZYX\n",
       "ENSG00000274572     ZYXP1\n",
       "ENSG00000074755     ZZEF1\n",
       "ENSG00000036549      ZZZ3\n",
       "\n",
       "[36917 rows x 1 columns]"
      ]
     },
     "execution_count": 20,
     "metadata": {},
     "output_type": "execute_result"
    }
   ],
   "source": [
    "gene_key = gene_key[['Symbol', 'Ensembl.Gene.ID']]\n",
    "gene_key = (\n",
    "    gene_key[gene_key['Ensembl.Gene.ID'].str.startswith('ENS')]\n",
    "    .assign(ensembl_id = lambda x: x['Ensembl.Gene.ID']) \n",
    "    .set_index('ensembl_id')\n",
    ")\n",
    "gene_key = gene_key[['Symbol']].drop_duplicates()\n",
    "gene_key"
   ]
  },
  {
   "cell_type": "markdown",
   "id": "c2e1818d-e3ed-44fc-b642-6f74cc30b600",
   "metadata": {
    "tags": []
   },
   "source": [
    "#### CellChat annotate features df"
   ]
  },
  {
   "cell_type": "code",
   "execution_count": 21,
   "id": "869658a5-f03c-4aab-8ca3-1ebc3ed01c46",
   "metadata": {
    "tags": []
   },
   "outputs": [],
   "source": [
    "features = (\n",
    "    features\n",
    "    .join(gene_key, on = 'ensembl_id')\n",
    "    .assign(gene_id = lambda x: x.index.copy())\n",
    "    .reset_index()\n",
    "    .assign(gene_test = lambda x: [True if x.loc[i, 'gene_id'] == x.loc[i, 'Symbol'] else False for i in list(x.index)])\n",
    "    .assign(\n",
    "        cellchat_symbol = lambda x: \n",
    "        [x.loc[i, 'Symbol'] if (x.loc[i, 'gene_test'] == False) & (pd.notnull(x.loc[i,'Symbol'])) else x.loc[i, 'gene_id'] for i in list(x.index)]\n",
    "    )\n",
    ")"
   ]
  },
  {
   "cell_type": "markdown",
   "id": "b6e7a558-a8fb-4786-8d33-d0cca6fe9204",
   "metadata": {
    "tags": []
   },
   "source": [
    "#### Test if the result complements current annotation"
   ]
  },
  {
   "cell_type": "code",
   "execution_count": 22,
   "id": "a21249f6-8085-4588-a5d3-6b61b96bdb6d",
   "metadata": {},
   "outputs": [
    {
     "data": {
      "text/html": [
       "<div>\n",
       "<style scoped>\n",
       "    .dataframe tbody tr th:only-of-type {\n",
       "        vertical-align: middle;\n",
       "    }\n",
       "\n",
       "    .dataframe tbody tr th {\n",
       "        vertical-align: top;\n",
       "    }\n",
       "\n",
       "    .dataframe thead th {\n",
       "        text-align: right;\n",
       "    }\n",
       "</style>\n",
       "<table border=\"1\" class=\"dataframe\">\n",
       "  <thead>\n",
       "    <tr style=\"text-align: right;\">\n",
       "      <th></th>\n",
       "      <th>gene_test</th>\n",
       "      <th>Symbol</th>\n",
       "      <th>gene_id</th>\n",
       "      <th>cellchat_symbol</th>\n",
       "    </tr>\n",
       "  </thead>\n",
       "  <tbody>\n",
       "    <tr>\n",
       "      <th>0</th>\n",
       "      <td>False</td>\n",
       "      <td>MIR1302-2HG</td>\n",
       "      <td>RP11-34P13.3</td>\n",
       "      <td>MIR1302-2HG</td>\n",
       "    </tr>\n",
       "    <tr>\n",
       "      <th>9</th>\n",
       "      <td>False</td>\n",
       "      <td>LINC01409</td>\n",
       "      <td>RP11-206L10.9</td>\n",
       "      <td>LINC01409</td>\n",
       "    </tr>\n",
       "    <tr>\n",
       "      <th>13</th>\n",
       "      <td>False</td>\n",
       "      <td>LINC02593</td>\n",
       "      <td>RP11-54O7.3</td>\n",
       "      <td>LINC02593</td>\n",
       "    </tr>\n",
       "    <tr>\n",
       "      <th>35</th>\n",
       "      <td>False</td>\n",
       "      <td>C1QTNF12</td>\n",
       "      <td>FAM132A</td>\n",
       "      <td>C1QTNF12</td>\n",
       "    </tr>\n",
       "    <tr>\n",
       "      <th>38</th>\n",
       "      <td>False</td>\n",
       "      <td>LINC01786</td>\n",
       "      <td>RP5-902P8.10</td>\n",
       "      <td>LINC01786</td>\n",
       "    </tr>\n",
       "    <tr>\n",
       "      <th>...</th>\n",
       "      <td>...</td>\n",
       "      <td>...</td>\n",
       "      <td>...</td>\n",
       "      <td>...</td>\n",
       "    </tr>\n",
       "    <tr>\n",
       "      <th>30546</th>\n",
       "      <td>False</td>\n",
       "      <td>LRRC3-DT</td>\n",
       "      <td>LRRC3-AS1</td>\n",
       "      <td>LRRC3-DT</td>\n",
       "    </tr>\n",
       "    <tr>\n",
       "      <th>30549</th>\n",
       "      <td>False</td>\n",
       "      <td>LINC02575</td>\n",
       "      <td>AP001065.15</td>\n",
       "      <td>LINC02575</td>\n",
       "    </tr>\n",
       "    <tr>\n",
       "      <th>30570</th>\n",
       "      <td>False</td>\n",
       "      <td>PICSAR</td>\n",
       "      <td>LINC00162</td>\n",
       "      <td>PICSAR</td>\n",
       "    </tr>\n",
       "    <tr>\n",
       "      <th>30584</th>\n",
       "      <td>False</td>\n",
       "      <td>LINC01694</td>\n",
       "      <td>AL133493.2</td>\n",
       "      <td>LINC01694</td>\n",
       "    </tr>\n",
       "    <tr>\n",
       "      <th>30587</th>\n",
       "      <td>False</td>\n",
       "      <td>PCBP3-AS1</td>\n",
       "      <td>AL592528.1</td>\n",
       "      <td>PCBP3-AS1</td>\n",
       "    </tr>\n",
       "  </tbody>\n",
       "</table>\n",
       "<p>2450 rows × 4 columns</p>\n",
       "</div>"
      ],
      "text/plain": [
       "       gene_test       Symbol        gene_id cellchat_symbol\n",
       "0          False  MIR1302-2HG   RP11-34P13.3     MIR1302-2HG\n",
       "9          False    LINC01409  RP11-206L10.9       LINC01409\n",
       "13         False    LINC02593    RP11-54O7.3       LINC02593\n",
       "35         False     C1QTNF12        FAM132A        C1QTNF12\n",
       "38         False    LINC01786   RP5-902P8.10       LINC01786\n",
       "...          ...          ...            ...             ...\n",
       "30546      False     LRRC3-DT      LRRC3-AS1        LRRC3-DT\n",
       "30549      False    LINC02575    AP001065.15       LINC02575\n",
       "30570      False       PICSAR      LINC00162          PICSAR\n",
       "30584      False    LINC01694     AL133493.2       LINC01694\n",
       "30587      False    PCBP3-AS1     AL592528.1       PCBP3-AS1\n",
       "\n",
       "[2450 rows x 4 columns]"
      ]
     },
     "execution_count": 22,
     "metadata": {},
     "output_type": "execute_result"
    }
   ],
   "source": [
    "features[(features.gene_test == False) & (features.Symbol.notnull())][['gene_test', 'Symbol','gene_id', 'cellchat_symbol']]"
   ]
  },
  {
   "cell_type": "code",
   "execution_count": 23,
   "id": "ec684827-bac9-4a42-8038-89244a8ec825",
   "metadata": {},
   "outputs": [
    {
     "data": {
      "text/plain": [
       "((30647, 15), (30647, 10))"
      ]
     },
     "execution_count": 23,
     "metadata": {},
     "output_type": "execute_result"
    }
   ],
   "source": [
    "features.shape, adata.var.shape"
   ]
  },
  {
   "cell_type": "markdown",
   "id": "d41ab829-416a-48b4-ac20-a618dda59abe",
   "metadata": {},
   "source": [
    "Fix the duplicates in CellChat compatible gene names"
   ]
  },
  {
   "cell_type": "code",
   "execution_count": 24,
   "id": "d02a3ceb-29fc-44c1-9529-715585a76197",
   "metadata": {},
   "outputs": [],
   "source": [
    "duplicated_entries = list(set([x for x in features.cellchat_symbol.tolist() if features.cellchat_symbol.tolist().count(x) > 1]))"
   ]
  },
  {
   "cell_type": "code",
   "execution_count": 25,
   "id": "9f39e23f-b612-4a77-b9f7-1345004b7937",
   "metadata": {},
   "outputs": [
    {
     "data": {
      "text/html": [
       "<div>\n",
       "<style scoped>\n",
       "    .dataframe tbody tr th:only-of-type {\n",
       "        vertical-align: middle;\n",
       "    }\n",
       "\n",
       "    .dataframe tbody tr th {\n",
       "        vertical-align: top;\n",
       "    }\n",
       "\n",
       "    .dataframe thead th {\n",
       "        text-align: right;\n",
       "    }\n",
       "</style>\n",
       "<table border=\"1\" class=\"dataframe\">\n",
       "  <thead>\n",
       "    <tr style=\"text-align: right;\">\n",
       "      <th></th>\n",
       "      <th>index</th>\n",
       "      <th>gene_ids</th>\n",
       "      <th>gene_name</th>\n",
       "      <th>mitochondrial</th>\n",
       "      <th>n_cells_by_counts</th>\n",
       "      <th>mean_counts</th>\n",
       "      <th>log1p_mean_counts</th>\n",
       "      <th>pct_dropout_by_counts</th>\n",
       "      <th>total_counts</th>\n",
       "      <th>log1p_total_counts</th>\n",
       "      <th>ensembl_id</th>\n",
       "      <th>Symbol</th>\n",
       "      <th>gene_id</th>\n",
       "      <th>gene_test</th>\n",
       "      <th>cellchat_symbol</th>\n",
       "    </tr>\n",
       "  </thead>\n",
       "  <tbody>\n",
       "    <tr>\n",
       "      <th>20490</th>\n",
       "      <td>LINC00383</td>\n",
       "      <td>ENSG00000237534</td>\n",
       "      <td>LINC00383</td>\n",
       "      <td>False</td>\n",
       "      <td>99</td>\n",
       "      <td>0.007526</td>\n",
       "      <td>0.007498</td>\n",
       "      <td>99.966004</td>\n",
       "      <td>2191.605957</td>\n",
       "      <td>7.692846</td>\n",
       "      <td>ENSG00000237534</td>\n",
       "      <td>NaN</td>\n",
       "      <td>LINC00383</td>\n",
       "      <td>False</td>\n",
       "      <td>LINC00383</td>\n",
       "    </tr>\n",
       "    <tr>\n",
       "      <th>20491</th>\n",
       "      <td>RP11-459J23.1</td>\n",
       "      <td>ENSG00000235221</td>\n",
       "      <td>RP11-459J23.1</td>\n",
       "      <td>False</td>\n",
       "      <td>2</td>\n",
       "      <td>0.000216</td>\n",
       "      <td>0.000216</td>\n",
       "      <td>99.999313</td>\n",
       "      <td>62.913731</td>\n",
       "      <td>4.157534</td>\n",
       "      <td>ENSG00000235221</td>\n",
       "      <td>LINC00383</td>\n",
       "      <td>RP11-459J23.1</td>\n",
       "      <td>False</td>\n",
       "      <td>LINC00383</td>\n",
       "    </tr>\n",
       "    <tr>\n",
       "      <th>21740</th>\n",
       "      <td>MEG8</td>\n",
       "      <td>ENSG00000258399</td>\n",
       "      <td>MEG8</td>\n",
       "      <td>False</td>\n",
       "      <td>1951</td>\n",
       "      <td>0.240080</td>\n",
       "      <td>0.215176</td>\n",
       "      <td>99.330046</td>\n",
       "      <td>69914.585938</td>\n",
       "      <td>11.155044</td>\n",
       "      <td>ENSG00000258399</td>\n",
       "      <td>NaN</td>\n",
       "      <td>MEG8</td>\n",
       "      <td>False</td>\n",
       "      <td>MEG8</td>\n",
       "    </tr>\n",
       "    <tr>\n",
       "      <th>21741</th>\n",
       "      <td>SNHG23</td>\n",
       "      <td>ENSG00000225746</td>\n",
       "      <td>SNHG23</td>\n",
       "      <td>False</td>\n",
       "      <td>6618</td>\n",
       "      <td>0.484419</td>\n",
       "      <td>0.395024</td>\n",
       "      <td>97.727444</td>\n",
       "      <td>141069.734375</td>\n",
       "      <td>11.857017</td>\n",
       "      <td>ENSG00000225746</td>\n",
       "      <td>MEG8</td>\n",
       "      <td>SNHG23</td>\n",
       "      <td>False</td>\n",
       "      <td>MEG8</td>\n",
       "    </tr>\n",
       "    <tr>\n",
       "      <th>24701</th>\n",
       "      <td>TBC1D26</td>\n",
       "      <td>ENSG00000255104</td>\n",
       "      <td>TBC1D26</td>\n",
       "      <td>False</td>\n",
       "      <td>406</td>\n",
       "      <td>0.034706</td>\n",
       "      <td>0.034118</td>\n",
       "      <td>99.860584</td>\n",
       "      <td>10106.986328</td>\n",
       "      <td>9.221081</td>\n",
       "      <td>ENSG00000255104</td>\n",
       "      <td>NaN</td>\n",
       "      <td>TBC1D26</td>\n",
       "      <td>False</td>\n",
       "      <td>TBC1D26</td>\n",
       "    </tr>\n",
       "    <tr>\n",
       "      <th>24702</th>\n",
       "      <td>TBC1D26-1</td>\n",
       "      <td>ENSG00000214946</td>\n",
       "      <td>TBC1D26-1</td>\n",
       "      <td>False</td>\n",
       "      <td>27</td>\n",
       "      <td>0.002043</td>\n",
       "      <td>0.002040</td>\n",
       "      <td>99.990728</td>\n",
       "      <td>594.813293</td>\n",
       "      <td>6.389927</td>\n",
       "      <td>ENSG00000214946</td>\n",
       "      <td>TBC1D26</td>\n",
       "      <td>TBC1D26-1</td>\n",
       "      <td>False</td>\n",
       "      <td>TBC1D26</td>\n",
       "    </tr>\n",
       "    <tr>\n",
       "      <th>28376</th>\n",
       "      <td>LINC00904</td>\n",
       "      <td>ENSG00000271649</td>\n",
       "      <td>LINC00904</td>\n",
       "      <td>False</td>\n",
       "      <td>65</td>\n",
       "      <td>0.005226</td>\n",
       "      <td>0.005213</td>\n",
       "      <td>99.977680</td>\n",
       "      <td>1521.972534</td>\n",
       "      <td>7.328419</td>\n",
       "      <td>ENSG00000271649</td>\n",
       "      <td>NaN</td>\n",
       "      <td>LINC00904</td>\n",
       "      <td>False</td>\n",
       "      <td>LINC00904</td>\n",
       "    </tr>\n",
       "    <tr>\n",
       "      <th>28378</th>\n",
       "      <td>CTC-523E23.15</td>\n",
       "      <td>ENSG00000271171</td>\n",
       "      <td>CTC-523E23.15</td>\n",
       "      <td>False</td>\n",
       "      <td>0</td>\n",
       "      <td>0.000000</td>\n",
       "      <td>0.000000</td>\n",
       "      <td>100.000000</td>\n",
       "      <td>0.000000</td>\n",
       "      <td>0.000000</td>\n",
       "      <td>ENSG00000271171</td>\n",
       "      <td>LINC00904</td>\n",
       "      <td>CTC-523E23.15</td>\n",
       "      <td>False</td>\n",
       "      <td>LINC00904</td>\n",
       "    </tr>\n",
       "  </tbody>\n",
       "</table>\n",
       "</div>"
      ],
      "text/plain": [
       "               index         gene_ids      gene_name  mitochondrial  \\\n",
       "20490      LINC00383  ENSG00000237534      LINC00383          False   \n",
       "20491  RP11-459J23.1  ENSG00000235221  RP11-459J23.1          False   \n",
       "21740           MEG8  ENSG00000258399           MEG8          False   \n",
       "21741         SNHG23  ENSG00000225746         SNHG23          False   \n",
       "24701        TBC1D26  ENSG00000255104        TBC1D26          False   \n",
       "24702      TBC1D26-1  ENSG00000214946      TBC1D26-1          False   \n",
       "28376      LINC00904  ENSG00000271649      LINC00904          False   \n",
       "28378  CTC-523E23.15  ENSG00000271171  CTC-523E23.15          False   \n",
       "\n",
       "       n_cells_by_counts  mean_counts  log1p_mean_counts  \\\n",
       "20490                 99     0.007526           0.007498   \n",
       "20491                  2     0.000216           0.000216   \n",
       "21740               1951     0.240080           0.215176   \n",
       "21741               6618     0.484419           0.395024   \n",
       "24701                406     0.034706           0.034118   \n",
       "24702                 27     0.002043           0.002040   \n",
       "28376                 65     0.005226           0.005213   \n",
       "28378                  0     0.000000           0.000000   \n",
       "\n",
       "       pct_dropout_by_counts   total_counts  log1p_total_counts  \\\n",
       "20490              99.966004    2191.605957            7.692846   \n",
       "20491              99.999313      62.913731            4.157534   \n",
       "21740              99.330046   69914.585938           11.155044   \n",
       "21741              97.727444  141069.734375           11.857017   \n",
       "24701              99.860584   10106.986328            9.221081   \n",
       "24702              99.990728     594.813293            6.389927   \n",
       "28376              99.977680    1521.972534            7.328419   \n",
       "28378             100.000000       0.000000            0.000000   \n",
       "\n",
       "            ensembl_id     Symbol        gene_id  gene_test cellchat_symbol  \n",
       "20490  ENSG00000237534        NaN      LINC00383      False       LINC00383  \n",
       "20491  ENSG00000235221  LINC00383  RP11-459J23.1      False       LINC00383  \n",
       "21740  ENSG00000258399        NaN           MEG8      False            MEG8  \n",
       "21741  ENSG00000225746       MEG8         SNHG23      False            MEG8  \n",
       "24701  ENSG00000255104        NaN        TBC1D26      False         TBC1D26  \n",
       "24702  ENSG00000214946    TBC1D26      TBC1D26-1      False         TBC1D26  \n",
       "28376  ENSG00000271649        NaN      LINC00904      False       LINC00904  \n",
       "28378  ENSG00000271171  LINC00904  CTC-523E23.15      False       LINC00904  "
      ]
     },
     "execution_count": 25,
     "metadata": {},
     "output_type": "execute_result"
    }
   ],
   "source": [
    "features[features.cellchat_symbol.isin(duplicated_entries)]"
   ]
  },
  {
   "cell_type": "markdown",
   "id": "f7523c00-9b0c-4451-9cdc-28b879834f7b",
   "metadata": {},
   "source": [
    "Manually changing the gene ids"
   ]
  },
  {
   "cell_type": "code",
   "execution_count": 26,
   "id": "2e1f9af2-2234-4017-95f7-f574c2066505",
   "metadata": {},
   "outputs": [],
   "source": [
    "row_num = [20490, 21740, 24701, 28376]\n",
    "for i in row_num:\n",
    "    features.loc[row_num, 'cellchat_symbol'] = features.loc[row_num, 'cellchat_symbol'] + '.1'"
   ]
  },
  {
   "cell_type": "code",
   "execution_count": 27,
   "id": "2e2f765b-5c7a-45b0-819c-ecc2576cd4fc",
   "metadata": {},
   "outputs": [
    {
     "data": {
      "text/html": [
       "<div>\n",
       "<style scoped>\n",
       "    .dataframe tbody tr th:only-of-type {\n",
       "        vertical-align: middle;\n",
       "    }\n",
       "\n",
       "    .dataframe tbody tr th {\n",
       "        vertical-align: top;\n",
       "    }\n",
       "\n",
       "    .dataframe thead th {\n",
       "        text-align: right;\n",
       "    }\n",
       "</style>\n",
       "<table border=\"1\" class=\"dataframe\">\n",
       "  <thead>\n",
       "    <tr style=\"text-align: right;\">\n",
       "      <th></th>\n",
       "      <th>index</th>\n",
       "      <th>gene_ids</th>\n",
       "      <th>gene_name</th>\n",
       "      <th>mitochondrial</th>\n",
       "      <th>n_cells_by_counts</th>\n",
       "      <th>mean_counts</th>\n",
       "      <th>log1p_mean_counts</th>\n",
       "      <th>pct_dropout_by_counts</th>\n",
       "      <th>total_counts</th>\n",
       "      <th>log1p_total_counts</th>\n",
       "      <th>ensembl_id</th>\n",
       "      <th>Symbol</th>\n",
       "      <th>gene_id</th>\n",
       "      <th>gene_test</th>\n",
       "      <th>cellchat_symbol</th>\n",
       "    </tr>\n",
       "  </thead>\n",
       "  <tbody>\n",
       "    <tr>\n",
       "      <th>20491</th>\n",
       "      <td>RP11-459J23.1</td>\n",
       "      <td>ENSG00000235221</td>\n",
       "      <td>RP11-459J23.1</td>\n",
       "      <td>False</td>\n",
       "      <td>2</td>\n",
       "      <td>0.000216</td>\n",
       "      <td>0.000216</td>\n",
       "      <td>99.999313</td>\n",
       "      <td>62.913731</td>\n",
       "      <td>4.157534</td>\n",
       "      <td>ENSG00000235221</td>\n",
       "      <td>LINC00383</td>\n",
       "      <td>RP11-459J23.1</td>\n",
       "      <td>False</td>\n",
       "      <td>LINC00383</td>\n",
       "    </tr>\n",
       "    <tr>\n",
       "      <th>21741</th>\n",
       "      <td>SNHG23</td>\n",
       "      <td>ENSG00000225746</td>\n",
       "      <td>SNHG23</td>\n",
       "      <td>False</td>\n",
       "      <td>6618</td>\n",
       "      <td>0.484419</td>\n",
       "      <td>0.395024</td>\n",
       "      <td>97.727444</td>\n",
       "      <td>141069.734375</td>\n",
       "      <td>11.857017</td>\n",
       "      <td>ENSG00000225746</td>\n",
       "      <td>MEG8</td>\n",
       "      <td>SNHG23</td>\n",
       "      <td>False</td>\n",
       "      <td>MEG8</td>\n",
       "    </tr>\n",
       "    <tr>\n",
       "      <th>24702</th>\n",
       "      <td>TBC1D26-1</td>\n",
       "      <td>ENSG00000214946</td>\n",
       "      <td>TBC1D26-1</td>\n",
       "      <td>False</td>\n",
       "      <td>27</td>\n",
       "      <td>0.002043</td>\n",
       "      <td>0.002040</td>\n",
       "      <td>99.990728</td>\n",
       "      <td>594.813293</td>\n",
       "      <td>6.389927</td>\n",
       "      <td>ENSG00000214946</td>\n",
       "      <td>TBC1D26</td>\n",
       "      <td>TBC1D26-1</td>\n",
       "      <td>False</td>\n",
       "      <td>TBC1D26</td>\n",
       "    </tr>\n",
       "    <tr>\n",
       "      <th>28378</th>\n",
       "      <td>CTC-523E23.15</td>\n",
       "      <td>ENSG00000271171</td>\n",
       "      <td>CTC-523E23.15</td>\n",
       "      <td>False</td>\n",
       "      <td>0</td>\n",
       "      <td>0.000000</td>\n",
       "      <td>0.000000</td>\n",
       "      <td>100.000000</td>\n",
       "      <td>0.000000</td>\n",
       "      <td>0.000000</td>\n",
       "      <td>ENSG00000271171</td>\n",
       "      <td>LINC00904</td>\n",
       "      <td>CTC-523E23.15</td>\n",
       "      <td>False</td>\n",
       "      <td>LINC00904</td>\n",
       "    </tr>\n",
       "  </tbody>\n",
       "</table>\n",
       "</div>"
      ],
      "text/plain": [
       "               index         gene_ids      gene_name  mitochondrial  \\\n",
       "20491  RP11-459J23.1  ENSG00000235221  RP11-459J23.1          False   \n",
       "21741         SNHG23  ENSG00000225746         SNHG23          False   \n",
       "24702      TBC1D26-1  ENSG00000214946      TBC1D26-1          False   \n",
       "28378  CTC-523E23.15  ENSG00000271171  CTC-523E23.15          False   \n",
       "\n",
       "       n_cells_by_counts  mean_counts  log1p_mean_counts  \\\n",
       "20491                  2     0.000216           0.000216   \n",
       "21741               6618     0.484419           0.395024   \n",
       "24702                 27     0.002043           0.002040   \n",
       "28378                  0     0.000000           0.000000   \n",
       "\n",
       "       pct_dropout_by_counts   total_counts  log1p_total_counts  \\\n",
       "20491              99.999313      62.913731            4.157534   \n",
       "21741              97.727444  141069.734375           11.857017   \n",
       "24702              99.990728     594.813293            6.389927   \n",
       "28378             100.000000       0.000000            0.000000   \n",
       "\n",
       "            ensembl_id     Symbol        gene_id  gene_test cellchat_symbol  \n",
       "20491  ENSG00000235221  LINC00383  RP11-459J23.1      False       LINC00383  \n",
       "21741  ENSG00000225746       MEG8         SNHG23      False            MEG8  \n",
       "24702  ENSG00000214946    TBC1D26      TBC1D26-1      False         TBC1D26  \n",
       "28378  ENSG00000271171  LINC00904  CTC-523E23.15      False       LINC00904  "
      ]
     },
     "execution_count": 27,
     "metadata": {},
     "output_type": "execute_result"
    }
   ],
   "source": [
    "features[features.cellchat_symbol.isin(duplicated_entries)]"
   ]
  },
  {
   "cell_type": "code",
   "execution_count": 28,
   "id": "f6a5e340-7762-4978-9219-939911b347c4",
   "metadata": {},
   "outputs": [
    {
     "data": {
      "text/plain": [
       "((30647, 15), (30647, 10))"
      ]
     },
     "execution_count": 28,
     "metadata": {},
     "output_type": "execute_result"
    }
   ],
   "source": [
    "features.shape, adata.var.shape"
   ]
  },
  {
   "cell_type": "code",
   "execution_count": 29,
   "id": "26059a14-9843-4015-8ef6-1b985ef0b7ea",
   "metadata": {},
   "outputs": [
    {
     "name": "stdout",
     "output_type": "stream",
     "text": [
      "True\n",
      "True\n",
      "True\n",
      "True\n"
     ]
    }
   ],
   "source": [
    "for i in row_num:\n",
    "    print(features.loc[i, 'ensembl_id'] == features_orig.reset_index().loc[i, 'ensembl_id'])"
   ]
  },
  {
   "cell_type": "markdown",
   "id": "f8c83569-abea-40a3-8f19-6eeae3198857",
   "metadata": {},
   "source": [
    "## generate input data frame for CellChat"
   ]
  },
  {
   "cell_type": "code",
   "execution_count": 31,
   "id": "de9fccdf-e96a-4044-b548-ef14d04f4cb8",
   "metadata": {},
   "outputs": [],
   "source": [
    "%R -i metadata -i features"
   ]
  },
  {
   "cell_type": "code",
   "execution_count": 32,
   "id": "24de0a2f-c266-41c2-8adb-69b9dcd213c5",
   "metadata": {},
   "outputs": [],
   "source": [
    "%reset_selective -f adata"
   ]
  },
  {
   "cell_type": "code",
   "execution_count": 33,
   "id": "f5b78d5e-aad3-492b-97ab-8249390b808d",
   "metadata": {},
   "outputs": [],
   "source": [
    "%R -i counts"
   ]
  },
  {
   "cell_type": "code",
   "execution_count": 35,
   "id": "004c4676-aa0f-40ed-baa4-2487306e53bd",
   "metadata": {},
   "outputs": [],
   "source": [
    "%reset_selective -f counts"
   ]
  },
  {
   "cell_type": "code",
   "execution_count": 36,
   "id": "23a9bbd4-42a7-4de1-842b-9aa6a9bc0626",
   "metadata": {},
   "outputs": [
    {
     "name": "stdout",
     "output_type": "stream",
     "text": [
      "[1] 206947  30647\n"
     ]
    }
   ],
   "source": [
    "%%R\n",
    "dim(counts)"
   ]
  },
  {
   "cell_type": "code",
   "execution_count": 37,
   "id": "61022299-5fb7-402d-8166-8f40035370e4",
   "metadata": {},
   "outputs": [
    {
     "name": "stdout",
     "output_type": "stream",
     "text": [
      "[1] 30647    15\n"
     ]
    }
   ],
   "source": [
    "%%R\n",
    "dim(features)"
   ]
  },
  {
   "cell_type": "code",
   "execution_count": 38,
   "id": "1cb14569-2f77-49fb-bc14-ad3224c3a48e",
   "metadata": {},
   "outputs": [
    {
     "name": "stdout",
     "output_type": "stream",
     "text": [
      "[1] 206947     18\n"
     ]
    }
   ],
   "source": [
    "%%R\n",
    "dim(metadata)"
   ]
  },
  {
   "cell_type": "code",
   "execution_count": 39,
   "id": "5477c105-73d6-4ab1-9832-493023ea5191",
   "metadata": {},
   "outputs": [
    {
     "name": "stdout",
     "output_type": "stream",
     "text": [
      "'data.frame':\t30647 obs. of  15 variables:\n",
      " $ index                : chr  \"RP11-34P13.3\" \"FAM138A\" \"OR4F5\" \"RP11-34P13.7\" ...\n",
      " $ gene_ids             : chr  \"ENSG00000243485\" \"ENSG00000237613\" \"ENSG00000186092\" \"ENSG00000238009\" ...\n",
      " $ gene_name            : chr  \"RP11-34P13.3\" \"FAM138A\" \"OR4F5\" \"RP11-34P13.7\" ...\n",
      " $ mitochondrial        : logi  FALSE FALSE FALSE FALSE FALSE FALSE ...\n",
      " $ n_cells_by_counts    : int  64 12 38 2422 4 159 57 1 121 4704 ...\n",
      " $ mean_counts          : num  0.004586 0.000775 0.002558 0.197062 0.000181 ...\n",
      " $ log1p_mean_counts    : num  0.004576 0.000775 0.002554 0.17987 0.000181 ...\n",
      " $ pct_dropout_by_counts: num  100 100 100 99.2 100 ...\n",
      " $ total_counts         : num  1335.5 225.8 744.8 57387.2 52.6 ...\n",
      " $ log1p_total_counts   : num  7.2 5.42 6.61 10.96 3.98 ...\n",
      " $ ensembl_id           : chr  \"ENSG00000243485\" \"ENSG00000237613\" \"ENSG00000186092\" \"ENSG00000238009\" ...\n",
      " $ Symbol               : chr  \"MIR1302-2HG\" \"FAM138A\" \"OR4F5\" NA ...\n",
      " $ gene_id              : chr  \"RP11-34P13.3\" \"FAM138A\" \"OR4F5\" \"RP11-34P13.7\" ...\n",
      " $ gene_test            : logi  FALSE TRUE TRUE FALSE FALSE FALSE ...\n",
      " $ cellchat_symbol      : chr  \"MIR1302-2HG\" \"FAM138A\" \"OR4F5\" \"RP11-34P13.7\" ...\n"
     ]
    }
   ],
   "source": [
    "%%R\n",
    "str(features)"
   ]
  },
  {
   "cell_type": "code",
   "execution_count": 40,
   "id": "0c6a4dba-fcd5-41b4-a08f-8eb3ad279c18",
   "metadata": {},
   "outputs": [],
   "source": [
    "%%R\n",
    "\n",
    "# format counts matrix to parse it into CellChat\n",
    "input_df <- as.data.frame(t(counts))\n",
    "colnames(input_df) <- rownames(metadata)\n",
    "rownames(input_df) <- features$cellchat_symbol\n",
    "    \n",
    "# do.log: whether do log transformation with pseudocount 1\n",
    "input_df <- CellChat::normalizeData(\n",
    "    input_df,\n",
    "    scale.factor = 10000, \n",
    "    do.log = TRUE\n",
    ")"
   ]
  },
  {
   "cell_type": "code",
   "execution_count": 42,
   "id": "fcc2520b-214d-4446-9e32-ffba8108fb34",
   "metadata": {},
   "outputs": [
    {
     "name": "stdout",
     "output_type": "stream",
     "text": [
      " num [1:30647, 1:206947] 0 0 0 0 0 0 0 0 0 0 ...\n",
      " - attr(*, \"dimnames\")=List of 2\n",
      "  ..$ : chr [1:30647] \"MIR1302-2HG\" \"FAM138A\" \"OR4F5\" \"RP11-34P13.7\" ...\n",
      "  ..$ : chr [1:206947] \"AAACCTGAGTAGCGGT-1_4-SC56NOR-Morse\" \"AAAGATGGTAGGCTGA-1_4-SC56NOR-Morse\" \"AACCATGCATCCTAGA-1_4-SC56NOR-Morse\" \"AACTCAGGTACCGTTA-1_4-SC56NOR-Morse\" ...\n"
     ]
    }
   ],
   "source": [
    "%%R\n",
    "str(input_df)"
   ]
  },
  {
   "cell_type": "code",
   "execution_count": 43,
   "id": "af5c501b-c73a-4ce4-91dc-79707b9cc14e",
   "metadata": {},
   "outputs": [],
   "source": [
    "%%R\n",
    "saveRDS(input_df, file = \"input_df.rds\")"
   ]
  },
  {
   "cell_type": "markdown",
   "id": "a626aab0-b51d-40bb-b883-67a5fea977ea",
   "metadata": {},
   "source": [
    "### generate subset cellchat object per replicate and treatment type"
   ]
  },
  {
   "cell_type": "code",
   "execution_count": 45,
   "id": "8168308e-35c7-498a-a208-3ea6f80db155",
   "metadata": {
    "tags": []
   },
   "outputs": [
    {
     "name": "stdout",
     "output_type": "stream",
     "text": [
      "                                      diagnosis\n",
      "AAACCTGAGTAGCGGT-1_4-SC56NOR-Morse      Control\n",
      "AAAGATGCACCGGAAA-1_9-SC87IPFLOW-Morse       IPF\n"
     ]
    }
   ],
   "source": [
    "%%R\n",
    "metadata %>%\n",
    "    dplyr::select(\n",
    "            diagnosis,\n",
    "                 ) %>% \n",
    "    unique()"
   ]
  },
  {
   "cell_type": "code",
   "execution_count": 46,
   "id": "57812e54-7013-4e77-929d-09ced45622fb",
   "metadata": {},
   "outputs": [],
   "source": [
    "%%R\n",
    "# set the global conditions for CellChat analysis\n",
    "condition_id = 'Control'"
   ]
  },
  {
   "cell_type": "markdown",
   "id": "f56ab4f1-5acb-48a0-9208-7e35a9b906c2",
   "metadata": {},
   "source": [
    "Parameter list elements:\n",
    "1. conditions to compare\n",
    "2. replicate columns in metadata\n",
    "3. all other filtering parameters for every additional condition ther should only be a single element"
   ]
  },
  {
   "cell_type": "code",
   "execution_count": 47,
   "id": "ed9ae804-9882-4a57-b8cf-a0b19c90d614",
   "metadata": {},
   "outputs": [
    {
     "name": "stdout",
     "output_type": "stream",
     "text": [
      "$diagnosis\n",
      "[1] \"Control\" \"IPF\"    \n",
      "\n"
     ]
    }
   ],
   "source": [
    "%%R\n",
    "\n",
    "parameter_list <- list(\n",
    "    diagnosis = c(\"Control\", \"IPF\")\n",
    ")\n",
    "parameter_list"
   ]
  },
  {
   "cell_type": "code",
   "execution_count": 48,
   "id": "b2543b6b-0df3-4b5d-bddc-bc03fb1146db",
   "metadata": {},
   "outputs": [],
   "source": [
    "%%R\n",
    "\n",
    "get_condition_list <- function(parameter_list) {\n",
    "    condition_list <- list()\n",
    "    parameter_df <- purrr::cross_df(parameter_list) %>% as.data.frame()\n",
    "    for (row_num in seq_len(nrow(parameter_df))) {\n",
    "\n",
    "        condition_vec <- vector()\n",
    "\n",
    "        for (col_name in colnames(parameter_df)) {\n",
    "\n",
    "            condition_vec <- base::append(condition_vec, parameter_df[row_num, col_name])\n",
    "\n",
    "        }\n",
    "\n",
    "        names(condition_vec) <- colnames(parameter_df)    \n",
    "        condition_list[[row_num]] <- condition_vec\n",
    "        names(condition_list)[row_num] <- paste0(condition_vec, collapse = \"_\")\n",
    "\n",
    "    }\n",
    "\n",
    "    return(condition_list)\n",
    "}"
   ]
  },
  {
   "cell_type": "code",
   "execution_count": 49,
   "id": "0120d1ff-2d45-4887-a57c-85447b48bfd4",
   "metadata": {},
   "outputs": [],
   "source": [
    "%%R\n",
    "\n",
    "get_cell_ids <- function(\n",
    "    parameter_vec, # change to vector\n",
    "    metadata_df = metadata\n",
    "){\n",
    "    # Extract unique cell ids from metadata data frame for an experiment with:\n",
    "    # - multiple treatment conditions\n",
    "    # - sample processing methods\n",
    "    #\n",
    "    # Input:\n",
    "    # parameter_vec: named list containing conditions to keep and the instruction to split the data\n",
    "    # metadata_df: data.frame; data frame object with unique cell ids as row names that contains treatment and enrichment columns \n",
    "    \n",
    "    parameter_list <- split(unname(parameter_vec), names(parameter_vec))\n",
    "                            \n",
    "    if ( all(names(parameter_list) %in% colnames(metadata_df))) {\n",
    "     \n",
    "        message(\"Provided metadata conditions are present in the data set\")\n",
    "        \n",
    "        dummy_df <- metadata_df\n",
    "        \n",
    "        for (param in names(parameter_list)) {\n",
    "            \n",
    "            dummy_df <- dummy_df[(dummy_df[[param]] %in% parameter_list[[param]]), ]            \n",
    "            \n",
    "        }\n",
    "                \n",
    "        cell_id <- rownames(dummy_df)\n",
    "        \n",
    "        return(cell_id)\n",
    "                \n",
    "    } else {\n",
    "        \n",
    "        stop('Metadata data frame incorrectly formatted. Treminating.')\n",
    "             \n",
    "    }    \n",
    "            \n",
    "}"
   ]
  },
  {
   "cell_type": "code",
   "execution_count": 50,
   "id": "cb40e7df-c9ef-4387-ba83-e3fcf1fcd88a",
   "metadata": {},
   "outputs": [],
   "source": [
    "%%R\n",
    "get_cellchat_obj <- function(\n",
    "    parameter_vec,\n",
    "    metadata_df,\n",
    "    input_df\n",
    ") {\n",
    "    \n",
    "    cell_id <- get_cell_ids(parameter_vec, metadata_df)\n",
    "    data_input <- input_df[, cell_id]\n",
    "    meta_data <- metadata_df[cell_id, ]\n",
    "    \n",
    "    # If the number of labels and the factors do not match, it needs to be corrected\n",
    "    meta_data$`cell_type_CM2` <- droplevels(meta_data$`cell_type_CM2`)\n",
    "    \n",
    "    cellchat <- createCellChat(\n",
    "        object = data_input, \n",
    "        meta = meta_data, \n",
    "        group.by = \"cell_type_CM2\"\n",
    "    )\n",
    "    \n",
    "    cellchat <- addMeta(cellchat, meta = meta_data)\n",
    "\n",
    "    # set \"cell_type_CM2\" as default cell identity\n",
    "    cellchat <- setIdent(cellchat, ident.use = \"cell_type_CM2\") \n",
    "\n",
    "    # show factor levels of the cell labels\n",
    "    levels(cellchat@idents) \n",
    "\n",
    "    # number of cells in each cell group\n",
    "    groupSize <- as.numeric(table(cellchat@idents))\n",
    "    \n",
    "    # use a subset of CellChatDB for cell-cell communication analysis\n",
    "    # CellChatDB.use <- subsetDB(CellChatDB, search = \"Secreted Signaling\") \n",
    "\n",
    "    # to use all CellChatDB for cell-cell communication analysis simply use the default CellChatDB\n",
    "    CellChatDB.use <- CellChatDB\n",
    "\n",
    "    # set the used database in the object\n",
    "    cellchat@DB <- CellChatDB.use\n",
    "    \n",
    "    # subset the expression data of signaling genes for saving computation cost\n",
    "    # This step is necessary even if using the whole database    \n",
    "    cellchat <- subsetData(cellchat)\n",
    "    #future::plan(\"multiprocess\", workers = 16)\n",
    "    cellchat <- identifyOverExpressedGenes(cellchat)\n",
    "    cellchat <- identifyOverExpressedInteractions(cellchat)\n",
    "\n",
    "    ## project gene expression data onto PPI network (optional)\n",
    "    cellchat <- projectData(cellchat, PPI.human)\n",
    "    \n",
    "    cellchat <- computeCommunProb(cellchat)\n",
    "    # Filter out the cell-cell communication if there are only few number of cells in certain cell groups\n",
    "    cellchat <- filterCommunication(cellchat, min.cells = 10)\n",
    "    cellchat <- computeCommunProbPathway(cellchat)\n",
    "    \n",
    "    cellchat <- aggregateNet(cellchat)\n",
    "    \n",
    "    return(cellchat)\n",
    "    \n",
    "}"
   ]
  },
  {
   "cell_type": "code",
   "execution_count": 51,
   "id": "b92b2a8a-1127-4316-8bba-2a3d7fced9ce",
   "metadata": {},
   "outputs": [],
   "source": [
    "%%R\n",
    "parameter_list1 <- list(\n",
    "    diagnosis = c(\"IPF\")\n",
    ")\n",
    "\n",
    "parameter_list2 <- list(\n",
    "    diagnosis = c(\"Control\")\n",
    ")"
   ]
  },
  {
   "cell_type": "code",
   "execution_count": null,
   "id": "58790ea9-016b-47ad-abe5-6588313090b6",
   "metadata": {
    "collapsed": true,
    "jupyter": {
     "outputs_hidden": true
    },
    "tags": []
   },
   "outputs": [
    {
     "name": "stderr",
     "output_type": "stream",
     "text": [
      "R[write to console]: Provided metadata conditions are present in the data set\n",
      "\n"
     ]
    },
    {
     "name": "stdout",
     "output_type": "stream",
     "text": [
      "[1] \"Create a CellChat object from a data matrix\"\n",
      "Set cell identities for the new CellChat object \n",
      "The cell groups used for CellChat analysis are  AT0 AT1 AT2 Aberrant basaloid Adventitial fibroblast Alveolar fibroblast Artery B/Plasma Basal Basophil/Mast Bronchial Vessel Capillary Capillary Aerocyte Ciliated Ciliated SFTPB+/SCGB1A1+ Dendritic Ionocyte Lymphatic Macrophage C1Q hi Macrophage CHI3L1+/CD9 hi/ Macrophage FABP4+ Macrophage IL1B+ Macrophage LYVE1+ Macrophage RETN+/VCAN+ Mesothelial Monocyte Mucous Myofibroblast NK Peribronchial fibroblast Pericyte Smooth Muscle T cell TB-SC Vein pDC preTB-SC/RAS \n",
      "  |                                                  | 0 % ~calculating   |+                                                 | 1 % ~33s           |++                                                | 3 % ~28s           |+++                                               | 4 % ~27s           |+++                                               | 6 % ~25s           |++++                                              | 7 % ~24s           |+++++                                             | 9 % ~24s           |++++++                                            | 10% ~23s           |++++++                                            | 12% ~23s           |+++++++                                           | 13% ~22s           |++++++++                                          | 15% ~22s           |+++++++++                                         | 16% ~22s           |+++++++++                                         | 18% ~21s           |++++++++++                                        | 19% ~20s           |+++++++++++                                       | 21% ~20s           |++++++++++++                                      | 22% ~20s           |++++++++++++                                      | 24% ~19s           |+++++++++++++                                     | 25% ~19s           |++++++++++++++                                    | 26% ~19s           |++++++++++++++                                    | 28% ~18s           |+++++++++++++++                                   | 29% ~18s           |++++++++++++++++                                  | 31% ~17s           |+++++++++++++++++                                 | 32% ~17s           |+++++++++++++++++                                 | 34% ~17s           |++++++++++++++++++                                | 35% ~16s           |+++++++++++++++++++                               | 37% ~16s           |++++++++++++++++++++                              | 38% ~15s           |++++++++++++++++++++                              | 40% ~15s           |+++++++++++++++++++++                             | 41% ~15s           |++++++++++++++++++++++                            | 43% ~14s           |+++++++++++++++++++++++                           | 44% ~14s           |+++++++++++++++++++++++                           | 46% ~13s           |++++++++++++++++++++++++                          | 47% ~13s           |+++++++++++++++++++++++++                         | 49% ~15s           |+++++++++++++++++++++++++                         | 50% ~15s           |++++++++++++++++++++++++++                        | 51% ~14s           |+++++++++++++++++++++++++++                       | 53% ~14s           |++++++++++++++++++++++++++++                      | 54% ~13s           |++++++++++++++++++++++++++++                      | 56% ~13s           |+++++++++++++++++++++++++++++                     | 57% ~12s           |++++++++++++++++++++++++++++++                    | 59% ~12s           |+++++++++++++++++++++++++++++++                   | 60% ~11s           |+++++++++++++++++++++++++++++++                   | 62% ~11s           |++++++++++++++++++++++++++++++++                  | 63% ~10s           |+++++++++++++++++++++++++++++++++                 | 65% ~10s           |++++++++++++++++++++++++++++++++++                | 66% ~09s           |++++++++++++++++++++++++++++++++++                | 68% ~09s           |+++++++++++++++++++++++++++++++++++               | 69% ~09s           |++++++++++++++++++++++++++++++++++++              | 71% ~08s           |+++++++++++++++++++++++++++++++++++++             | 72% ~08s           |+++++++++++++++++++++++++++++++++++++             | 74% ~07s           |++++++++++++++++++++++++++++++++++++++            | 75% ~07s           |+++++++++++++++++++++++++++++++++++++++           | 76% ~06s           |+++++++++++++++++++++++++++++++++++++++           | 78% ~06s           |++++++++++++++++++++++++++++++++++++++++          | 79% ~06s           |+++++++++++++++++++++++++++++++++++++++++         | 81% ~05s           |++++++++++++++++++++++++++++++++++++++++++        | 82% ~05s           |++++++++++++++++++++++++++++++++++++++++++        | 84% ~04s           |+++++++++++++++++++++++++++++++++++++++++++       | 85% ~04s           |++++++++++++++++++++++++++++++++++++++++++++      | 87% ~04s           |+++++++++++++++++++++++++++++++++++++++++++++     | 88% ~03s           |+++++++++++++++++++++++++++++++++++++++++++++     | 90% ~03s           |++++++++++++++++++++++++++++++++++++++++++++++    | 91% ~02s           |+++++++++++++++++++++++++++++++++++++++++++++++   | 93% ~02s           |++++++++++++++++++++++++++++++++++++++++++++++++  | 94% ~02s           |++++++++++++++++++++++++++++++++++++++++++++++++  | 96% ~01s           |+++++++++++++++++++++++++++++++++++++++++++++++++ | 97% ~01s           |++++++++++++++++++++++++++++++++++++++++++++++++++| 99% ~00s           |++++++++++++++++++++++++++++++++++++++++++++++++++| 100% elapsed=27s  \n",
      "  |                                                  | 0 % ~calculating   |+                                                 | 1 % ~32s           |++                                                | 2 % ~31s           |++                                                | 3 % ~30s           |+++                                               | 5 % ~30s           |+++                                               | 6 % ~29s           |++++                                              | 7 % ~28s           |++++                                              | 8 % ~28s           |+++++                                             | 9 % ~28s           |++++++                                            | 10% ~28s           |++++++                                            | 11% ~28s           |+++++++                                           | 12% ~27s           |+++++++                                           | 14% ~27s           |++++++++                                          | 15% ~27s           |++++++++                                          | 16% ~27s           |+++++++++                                         | 17% ~26s           |++++++++++                                        | 18% ~26s           |++++++++++                                        | 19% ~25s           |+++++++++++                                       | 20% ~25s           |+++++++++++                                       | 22% ~25s           |++++++++++++                                      | 23% ~24s           |++++++++++++                                      | 24% ~24s           |+++++++++++++                                     | 25% ~23s           |++++++++++++++                                    | 26% ~23s           |++++++++++++++                                    | 27% ~23s           |+++++++++++++++                                   | 28% ~23s           |+++++++++++++++                                   | 30% ~28s           |++++++++++++++++                                  | 31% ~29s           |++++++++++++++++                                  | 32% ~28s           |+++++++++++++++++                                 | 33% ~27s           |++++++++++++++++++                                | 34% ~26s           |++++++++++++++++++                                | 35% ~26s           |+++++++++++++++++++                               | 36% ~25s           |+++++++++++++++++++                               | 38% ~24s           |++++++++++++++++++++                              | 39% ~24s           |++++++++++++++++++++                              | 40% ~23s           |+++++++++++++++++++++                             | 41% ~23s           |++++++++++++++++++++++                            | 42% ~22s           |++++++++++++++++++++++                            | 43% ~21s           |+++++++++++++++++++++++                           | 44% ~21s           |+++++++++++++++++++++++                           | 45% ~20s           |++++++++++++++++++++++++                          | 47% ~20s           |++++++++++++++++++++++++                          | 48% ~19s           |+++++++++++++++++++++++++                         | 49% ~19s           |+++++++++++++++++++++++++                         | 50% ~18s           |++++++++++++++++++++++++++                        | 51% ~18s           |+++++++++++++++++++++++++++                       | 52% ~17s           |+++++++++++++++++++++++++++                       | 53% ~17s           |++++++++++++++++++++++++++++                      | 55% ~16s           |++++++++++++++++++++++++++++                      | 56% ~16s           |+++++++++++++++++++++++++++++                     | 57% ~15s           |+++++++++++++++++++++++++++++                     | 58% ~15s           |++++++++++++++++++++++++++++++                    | 59% ~14s           |+++++++++++++++++++++++++++++++                   | 60% ~14s           |+++++++++++++++++++++++++++++++                   | 61% ~13s           |++++++++++++++++++++++++++++++++                  | 62% ~13s           |++++++++++++++++++++++++++++++++                  | 64% ~13s           |+++++++++++++++++++++++++++++++++                 | 65% ~12s           |+++++++++++++++++++++++++++++++++                 | 66% ~12s           |++++++++++++++++++++++++++++++++++                | 67% ~11s           |+++++++++++++++++++++++++++++++++++               | 68% ~11s           |+++++++++++++++++++++++++++++++++++               | 69% ~11s           |++++++++++++++++++++++++++++++++++++              | 70% ~10s           |++++++++++++++++++++++++++++++++++++              | 72% ~10s           |+++++++++++++++++++++++++++++++++++++             | 73% ~09s           |+++++++++++++++++++++++++++++++++++++             | 74% ~09s           |++++++++++++++++++++++++++++++++++++++            | 75% ~09s           |+++++++++++++++++++++++++++++++++++++++           | 76% ~08s           |+++++++++++++++++++++++++++++++++++++++           | 77% ~08s           |++++++++++++++++++++++++++++++++++++++++          | 78% ~07s           |++++++++++++++++++++++++++++++++++++++++          | 80% ~07s           |+++++++++++++++++++++++++++++++++++++++++         | 81% ~07s           |+++++++++++++++++++++++++++++++++++++++++         | 82% ~06s           |++++++++++++++++++++++++++++++++++++++++++        | 83% ~06s           |+++++++++++++++++++++++++++++++++++++++++++       | 84% ~05s           |+++++++++++++++++++++++++++++++++++++++++++       | 85% ~05s           |++++++++++++++++++++++++++++++++++++++++++++      | 86% ~05s           |++++++++++++++++++++++++++++++++++++++++++++      | 88% ~04s           |+++++++++++++++++++++++++++++++++++++++++++++     | 89% ~04s           |+++++++++++++++++++++++++++++++++++++++++++++     | 90% ~03s           |++++++++++++++++++++++++++++++++++++++++++++++    | 91% ~03s           |+++++++++++++++++++++++++++++++++++++++++++++++   | 92% ~03s           |+++++++++++++++++++++++++++++++++++++++++++++++   | 93% ~02s           |++++++++++++++++++++++++++++++++++++++++++++++++  | 94% ~02s           |++++++++++++++++++++++++++++++++++++++++++++++++  | 95% ~01s           |+++++++++++++++++++++++++++++++++++++++++++++++++ | 97% ~01s           |+++++++++++++++++++++++++++++++++++++++++++++++++ | 98% ~01s           |++++++++++++++++++++++++++++++++++++++++++++++++++| 99% ~00s           |++++++++++++++++++++++++++++++++++++++++++++++++++| 100% elapsed=33s  \n",
      "  |                                                  | 0 % ~calculating   |+                                                 | 1 % ~24s           |++                                                | 2 % ~31s           |++                                                | 4 % ~33s           |+++                                               | 5 % ~33s           |++++                                              | 6 % ~34s           |++++                                              | 7 % ~34s           |+++++                                             | 8 % ~34s           |+++++                                             | 10% ~34s           |++++++                                            | 11% ~34s           |+++++++                                           | 12% ~34s           |+++++++                                           | 13% ~34s           |++++++++                                          | 14% ~32s           |++++++++                                          | 16% ~30s           |+++++++++                                         | 17% ~29s           |++++++++++                                        | 18% ~27s           |++++++++++                                        | 19% ~26s           |+++++++++++                                       | 20% ~25s           |+++++++++++                                       | 22% ~24s           |++++++++++++                                      | 23% ~23s           |+++++++++++++                                     | 24% ~23s           |+++++++++++++                                     | 25% ~22s           |++++++++++++++                                    | 27% ~21s           |++++++++++++++                                    | 28% ~21s           |+++++++++++++++                                   | 29% ~20s           |++++++++++++++++                                  | 30% ~20s           |++++++++++++++++                                  | 31% ~19s           |+++++++++++++++++                                 | 33% ~19s           |+++++++++++++++++                                 | 34% ~18s           |++++++++++++++++++                                | 35% ~17s           |+++++++++++++++++++                               | 36% ~17s           |+++++++++++++++++++                               | 37% ~17s           |++++++++++++++++++++                              | 39% ~16s           |++++++++++++++++++++                              | 40% ~16s           |+++++++++++++++++++++                             | 41% ~15s           |++++++++++++++++++++++                            | 42% ~15s           |++++++++++++++++++++++                            | 43% ~14s           |+++++++++++++++++++++++                           | 45% ~14s           |+++++++++++++++++++++++                           | 46% ~14s           |++++++++++++++++++++++++                          | 47% ~13s           |+++++++++++++++++++++++++                         | 48% ~13s           |+++++++++++++++++++++++++                         | 49% ~12s           |++++++++++++++++++++++++++                        | 51% ~12s           |++++++++++++++++++++++++++                        | 52% ~12s           |+++++++++++++++++++++++++++                       | 53% ~11s           |++++++++++++++++++++++++++++                      | 54% ~11s           |++++++++++++++++++++++++++++                      | 55% ~11s           |+++++++++++++++++++++++++++++                     | 57% ~10s           |+++++++++++++++++++++++++++++                     | 58% ~10s           |++++++++++++++++++++++++++++++                    | 59% ~10s           |+++++++++++++++++++++++++++++++                   | 60% ~09s           |+++++++++++++++++++++++++++++++                   | 61% ~09s           |++++++++++++++++++++++++++++++++                  | 63% ~09s           |++++++++++++++++++++++++++++++++                  | 64% ~08s           |+++++++++++++++++++++++++++++++++                 | 65% ~08s           |++++++++++++++++++++++++++++++++++                | 66% ~08s           |++++++++++++++++++++++++++++++++++                | 67% ~08s           |+++++++++++++++++++++++++++++++++++               | 69% ~07s           |+++++++++++++++++++++++++++++++++++               | 70% ~07s           |++++++++++++++++++++++++++++++++++++              | 71% ~07s           |+++++++++++++++++++++++++++++++++++++             | 72% ~06s           |+++++++++++++++++++++++++++++++++++++             | 73% ~06s           |++++++++++++++++++++++++++++++++++++++            | 75% ~06s           |++++++++++++++++++++++++++++++++++++++            | 76% ~06s           |+++++++++++++++++++++++++++++++++++++++           | 77% ~05s           |++++++++++++++++++++++++++++++++++++++++          | 78% ~05s           |++++++++++++++++++++++++++++++++++++++++          | 80% ~05s           |+++++++++++++++++++++++++++++++++++++++++         | 81% ~04s           |+++++++++++++++++++++++++++++++++++++++++         | 82% ~04s           |++++++++++++++++++++++++++++++++++++++++++        | 83% ~04s           |+++++++++++++++++++++++++++++++++++++++++++       | 84% ~04s           |+++++++++++++++++++++++++++++++++++++++++++       | 86% ~03s           |++++++++++++++++++++++++++++++++++++++++++++      | 87% ~03s           |++++++++++++++++++++++++++++++++++++++++++++      | 88% ~03s           |+++++++++++++++++++++++++++++++++++++++++++++     | 89% ~02s           |++++++++++++++++++++++++++++++++++++++++++++++    | 90% ~02s           |++++++++++++++++++++++++++++++++++++++++++++++    | 92% ~02s           |+++++++++++++++++++++++++++++++++++++++++++++++   | 93% ~02s           |+++++++++++++++++++++++++++++++++++++++++++++++   | 94% ~01s           |++++++++++++++++++++++++++++++++++++++++++++++++  | 95% ~01s           |+++++++++++++++++++++++++++++++++++++++++++++++++ | 96% ~01s           |+++++++++++++++++++++++++++++++++++++++++++++++++ | 98% ~01s           |++++++++++++++++++++++++++++++++++++++++++++++++++| 99% ~00s           |++++++++++++++++++++++++++++++++++++++++++++++++++| 100% elapsed=22s  \n",
      "  |                                                  | 0 % ~calculating   |+                                                 | 1 % ~38s           |++                                                | 2 % ~38s           |++                                                | 3 % ~37s           |+++                                               | 4 % ~37s           |+++                                               | 5 % ~38s           |++++                                              | 7 % ~44s           |++++                                              | 8 % ~48s           |+++++                                             | 9 % ~52s           |+++++                                             | 10% ~53s           |++++++                                            | 11% ~55s           |++++++                                            | 12% ~54s           |+++++++                                           | 13% ~51s           |++++++++                                          | 14% ~49s           |++++++++                                          | 15% ~47s           |+++++++++                                         | 16% ~46s           |+++++++++                                         | 17% ~45s           |++++++++++                                        | 18% ~43s           |++++++++++                                        | 20% ~42s           |+++++++++++                                       | 21% ~41s           |+++++++++++                                       | 22% ~40s           |++++++++++++                                      | 23% ~39s           |++++++++++++                                      | 24% ~38s           |+++++++++++++                                     | 25% ~37s           |++++++++++++++                                    | 26% ~36s           |++++++++++++++                                    | 27% ~36s           |+++++++++++++++                                   | 28% ~35s           |+++++++++++++++                                   | 29% ~34s           |++++++++++++++++                                  | 30% ~34s           |++++++++++++++++                                  | 32% ~33s           |+++++++++++++++++                                 | 33% ~32s           |+++++++++++++++++                                 | 34% ~31s           |++++++++++++++++++                                | 35% ~31s           |++++++++++++++++++                                | 36% ~30s           |+++++++++++++++++++                               | 37% ~29s           |++++++++++++++++++++                              | 38% ~29s           |++++++++++++++++++++                              | 39% ~28s           |+++++++++++++++++++++                             | 40% ~28s           |+++++++++++++++++++++                             | 41% ~27s           |++++++++++++++++++++++                            | 42% ~26s           |++++++++++++++++++++++                            | 43% ~26s           |+++++++++++++++++++++++                           | 45% ~25s           |+++++++++++++++++++++++                           | 46% ~25s           |++++++++++++++++++++++++                          | 47% ~24s           |++++++++++++++++++++++++                          | 48% ~24s           |+++++++++++++++++++++++++                         | 49% ~23s           |+++++++++++++++++++++++++                         | 50% ~22s           |++++++++++++++++++++++++++                        | 51% ~22s           |+++++++++++++++++++++++++++                       | 52% ~21s           |+++++++++++++++++++++++++++                       | 53% ~21s           |++++++++++++++++++++++++++++                      | 54% ~20s           |++++++++++++++++++++++++++++                      | 55% ~20s           |+++++++++++++++++++++++++++++                     | 57% ~19s           |+++++++++++++++++++++++++++++                     | 58% ~19s           |++++++++++++++++++++++++++++++                    | 59% ~18s           |++++++++++++++++++++++++++++++                    | 60% ~18s           |+++++++++++++++++++++++++++++++                   | 61% ~17s           |+++++++++++++++++++++++++++++++                   | 62% ~17s           |++++++++++++++++++++++++++++++++                  | 63% ~16s           |+++++++++++++++++++++++++++++++++                 | 64% ~16s           |+++++++++++++++++++++++++++++++++                 | 65% ~15s           |++++++++++++++++++++++++++++++++++                | 66% ~15s           |++++++++++++++++++++++++++++++++++                | 67% ~14s           |+++++++++++++++++++++++++++++++++++               | 68% ~14s           |+++++++++++++++++++++++++++++++++++               | 70% ~13s           |++++++++++++++++++++++++++++++++++++              | 71% ~13s           |++++++++++++++++++++++++++++++++++++              | 72% ~12s           |+++++++++++++++++++++++++++++++++++++             | 73% ~12s           |+++++++++++++++++++++++++++++++++++++             | 74% ~11s           |++++++++++++++++++++++++++++++++++++++            | 75% ~11s           |+++++++++++++++++++++++++++++++++++++++           | 76% ~10s           |+++++++++++++++++++++++++++++++++++++++           | 77% ~10s           |++++++++++++++++++++++++++++++++++++++++          | 78% ~10s           |++++++++++++++++++++++++++++++++++++++++          | 79% ~09s           |+++++++++++++++++++++++++++++++++++++++++         | 80% ~09s           |+++++++++++++++++++++++++++++++++++++++++         | 82% ~09s           |++++++++++++++++++++++++++++++++++++++++++        | 83% ~08s           |++++++++++++++++++++++++++++++++++++++++++        | 84% ~07s           |+++++++++++++++++++++++++++++++++++++++++++       | 85% ~07s           |+++++++++++++++++++++++++++++++++++++++++++       | 86% ~06s           |++++++++++++++++++++++++++++++++++++++++++++      | 87% ~06s           |+++++++++++++++++++++++++++++++++++++++++++++     | 88% ~05s           |+++++++++++++++++++++++++++++++++++++++++++++     | 89% ~05s           |++++++++++++++++++++++++++++++++++++++++++++++    | 90% ~04s           |++++++++++++++++++++++++++++++++++++++++++++++    | 91% ~04s           |+++++++++++++++++++++++++++++++++++++++++++++++   | 92% ~03s           |+++++++++++++++++++++++++++++++++++++++++++++++   | 93% ~03s           |++++++++++++++++++++++++++++++++++++++++++++++++  | 95% ~02s           |++++++++++++++++++++++++++++++++++++++++++++++++  | 96% ~02s           |+++++++++++++++++++++++++++++++++++++++++++++++++ | 97% ~01s           |+++++++++++++++++++++++++++++++++++++++++++++++++ | 98% ~01s           |++++++++++++++++++++++++++++++++++++++++++++++++++| 99% ~00s           |++++++++++++++++++++++++++++++++++++++++++++++++++| 100% elapsed=45s  \n",
      "  |                                                  | 0 % ~calculating   |+                                                 | 1 % ~45s           |++                                                | 2 % ~05m 31s       |++                                                | 3 % ~03m 53s       |+++                                               | 4 % ~03m 03s       |+++                                               | 5 % ~02m 34s       |++++                                              | 6 % ~02m 14s       |++++                                              | 7 % ~01m 59s       |+++++                                             | 8 % ~01m 48s       |+++++                                             | 9 % ~01m 40s       |++++++                                            | 10% ~01m 33s       |++++++                                            | 11% ~01m 28s       |+++++++                                           | 12% ~01m 26s       |+++++++                                           | 13% ~01m 24s       |++++++++                                          | 14% ~01m 22s       |++++++++                                          | 15% ~01m 21s       |+++++++++                                         | 16% ~01m 18s       |+++++++++                                         | 17% ~01m 14s       |++++++++++                                        | 18% ~01m 11s       |++++++++++                                        | 19% ~01m 09s       |+++++++++++                                       | 20% ~01m 06s       |+++++++++++                                       | 21% ~01m 04s       |++++++++++++                                      | 22% ~01m 02s       |++++++++++++                                      | 23% ~01m 00s       |+++++++++++++                                     | 24% ~58s           |+++++++++++++                                     | 26% ~56s           |++++++++++++++                                    | 27% ~55s           |++++++++++++++                                    | 28% ~53s           |+++++++++++++++                                   | 29% ~52s           |+++++++++++++++                                   | 30% ~50s           |++++++++++++++++                                  | 31% ~49s           |++++++++++++++++                                  | 32% ~47s           |+++++++++++++++++                                 | 33% ~46s           |+++++++++++++++++                                 | 34% ~45s           |++++++++++++++++++                                | 35% ~44s           |++++++++++++++++++                                | 36% ~42s           |+++++++++++++++++++                               | 37% ~42s           |+++++++++++++++++++                               | 38% ~40s           |++++++++++++++++++++                              | 39% ~39s           |++++++++++++++++++++                              | 40% ~38s           |+++++++++++++++++++++                             | 41% ~37s           |+++++++++++++++++++++                             | 42% ~37s           |++++++++++++++++++++++                            | 43% ~36s           |++++++++++++++++++++++                            | 44% ~35s           |+++++++++++++++++++++++                           | 45% ~34s           |+++++++++++++++++++++++                           | 46% ~33s           |++++++++++++++++++++++++                          | 47% ~32s           |++++++++++++++++++++++++                          | 48% ~31s           |+++++++++++++++++++++++++                         | 49% ~31s           |+++++++++++++++++++++++++                         | 50% ~30s           |++++++++++++++++++++++++++                        | 51% ~29s           |+++++++++++++++++++++++++++                       | 52% ~28s           |+++++++++++++++++++++++++++                       | 53% ~28s           |++++++++++++++++++++++++++++                      | 54% ~27s           |++++++++++++++++++++++++++++                      | 55% ~26s           |+++++++++++++++++++++++++++++                     | 56% ~25s           |+++++++++++++++++++++++++++++                     | 57% ~25s           |++++++++++++++++++++++++++++++                    | 58% ~24s           |++++++++++++++++++++++++++++++                    | 59% ~23s           |+++++++++++++++++++++++++++++++                   | 60% ~23s           |+++++++++++++++++++++++++++++++                   | 61% ~22s           |++++++++++++++++++++++++++++++++                  | 62% ~21s           |++++++++++++++++++++++++++++++++                  | 63% ~21s           |+++++++++++++++++++++++++++++++++                 | 64% ~20s           |+++++++++++++++++++++++++++++++++                 | 65% ~19s           |++++++++++++++++++++++++++++++++++                | 66% ~19s           |++++++++++++++++++++++++++++++++++                | 67% ~18s           |+++++++++++++++++++++++++++++++++++               | 68% ~17s           |+++++++++++++++++++++++++++++++++++               | 69% ~17s           |++++++++++++++++++++++++++++++++++++              | 70% ~16s           |++++++++++++++++++++++++++++++++++++              | 71% ~16s           |+++++++++++++++++++++++++++++++++++++             | 72% ~15s           |+++++++++++++++++++++++++++++++++++++             | 73% ~14s           |++++++++++++++++++++++++++++++++++++++            | 74% ~14s           |++++++++++++++++++++++++++++++++++++++            | 76% ~13s           |+++++++++++++++++++++++++++++++++++++++           | 77% ~13s           |+++++++++++++++++++++++++++++++++++++++           | 78% ~12s           |++++++++++++++++++++++++++++++++++++++++          | 79% ~12s           |++++++++++++++++++++++++++++++++++++++++          | 80% ~11s           |+++++++++++++++++++++++++++++++++++++++++         | 81% ~11s           |+++++++++++++++++++++++++++++++++++++++++         | 82% ~10s           |++++++++++++++++++++++++++++++++++++++++++        | 83% ~10s           |++++++++++++++++++++++++++++++++++++++++++        | 84% ~09s           |+++++++++++++++++++++++++++++++++++++++++++       | 85% ~09s           |+++++++++++++++++++++++++++++++++++++++++++       | 86% ~08s           |++++++++++++++++++++++++++++++++++++++++++++      | 87% ~07s           |++++++++++++++++++++++++++++++++++++++++++++      | 88% ~07s           |+++++++++++++++++++++++++++++++++++++++++++++     | 89% ~06s           |+++++++++++++++++++++++++++++++++++++++++++++     | 90% ~06s           |++++++++++++++++++++++++++++++++++++++++++++++    | 91% ~05s           |++++++++++++++++++++++++++++++++++++++++++++++    | 92% ~04s           |+++++++++++++++++++++++++++++++++++++++++++++++   | 93% ~04s           |+++++++++++++++++++++++++++++++++++++++++++++++   | 94% ~03s           |++++++++++++++++++++++++++++++++++++++++++++++++  | 95% ~03s           |++++++++++++++++++++++++++++++++++++++++++++++++  | 96% ~02s           |+++++++++++++++++++++++++++++++++++++++++++++++++ | 97% ~02s           |+++++++++++++++++++++++++++++++++++++++++++++++++ | 98% ~01s           |++++++++++++++++++++++++++++++++++++++++++++++++++| 99% ~01s           |++++++++++++++++++++++++++++++++++++++++++++++++++| 100% elapsed=53s  \n",
      "  |                                                  | 0 % ~calculating   |+                                                 | 1 % ~50s           |++                                                | 2 % ~49s           |++                                                | 4 % ~49s           |+++                                               | 5 % ~49s           |+++                                               | 6 % ~49s           |++++                                              | 7 % ~49s           |+++++                                             | 8 % ~48s           |+++++                                             | 9 % ~47s           |++++++                                            | 11% ~47s           |++++++                                            | 12% ~46s           |+++++++                                           | 13% ~45s           |++++++++                                          | 14% ~44s           |++++++++                                          | 15% ~44s           |+++++++++                                         | 16% ~43s           |+++++++++                                         | 18% ~45s           |++++++++++                                        | 19% ~47s           |++++++++++                                        | 20% ~49s           |+++++++++++                                       | 21% ~48s           |++++++++++++                                      | 22% ~47s           |++++++++++++                                      | 24% ~46s           |+++++++++++++                                     | 25% ~45s           |+++++++++++++                                     | 26% ~44s           |++++++++++++++                                    | 27% ~43s           |+++++++++++++++                                   | 28% ~42s           |+++++++++++++++                                   | 29% ~41s           |++++++++++++++++                                  | 31% ~40s           |++++++++++++++++                                  | 32% ~39s           |+++++++++++++++++                                 | 33% ~38s           |++++++++++++++++++                                | 34% ~37s           |++++++++++++++++++                                | 35% ~36s           |+++++++++++++++++++                               | 36% ~35s           |+++++++++++++++++++                               | 38% ~35s           |++++++++++++++++++++                              | 39% ~34s           |++++++++++++++++++++                              | 40% ~33s           |+++++++++++++++++++++                             | 41% ~32s           |++++++++++++++++++++++                            | 42% ~31s           |++++++++++++++++++++++                            | 44% ~31s           |+++++++++++++++++++++++                           | 45% ~30s           |+++++++++++++++++++++++                           | 46% ~29s           |++++++++++++++++++++++++                          | 47% ~29s           |+++++++++++++++++++++++++                         | 48% ~28s           |+++++++++++++++++++++++++                         | 49% ~27s           |++++++++++++++++++++++++++                        | 51% ~27s           |++++++++++++++++++++++++++                        | 52% ~26s           |+++++++++++++++++++++++++++                       | 53% ~25s           |++++++++++++++++++++++++++++                      | 54% ~24s           |++++++++++++++++++++++++++++                      | 55% ~24s           |+++++++++++++++++++++++++++++                     | 56% ~23s           |+++++++++++++++++++++++++++++                     | 58% ~22s           |++++++++++++++++++++++++++++++                    | 59% ~22s           |++++++++++++++++++++++++++++++                    | 60% ~21s           |+++++++++++++++++++++++++++++++                   | 61% ~20s           |++++++++++++++++++++++++++++++++                  | 62% ~20s           |++++++++++++++++++++++++++++++++                  | 64% ~19s           |+++++++++++++++++++++++++++++++++                 | 65% ~18s           |+++++++++++++++++++++++++++++++++                 | 66% ~18s           |++++++++++++++++++++++++++++++++++                | 67% ~17s           |+++++++++++++++++++++++++++++++++++               | 68% ~17s           |+++++++++++++++++++++++++++++++++++               | 69% ~16s           |++++++++++++++++++++++++++++++++++++              | 71% ~15s           |++++++++++++++++++++++++++++++++++++              | 72% ~15s           |+++++++++++++++++++++++++++++++++++++             | 73% ~14s           |++++++++++++++++++++++++++++++++++++++            | 74% ~13s           |++++++++++++++++++++++++++++++++++++++            | 75% ~13s           |+++++++++++++++++++++++++++++++++++++++           | 76% ~12s           |+++++++++++++++++++++++++++++++++++++++           | 78% ~12s           |++++++++++++++++++++++++++++++++++++++++          | 79% ~11s           |++++++++++++++++++++++++++++++++++++++++          | 80% ~11s           |+++++++++++++++++++++++++++++++++++++++++         | 81% ~10s           |++++++++++++++++++++++++++++++++++++++++++        | 82% ~10s           |++++++++++++++++++++++++++++++++++++++++++        | 84% ~09s           |+++++++++++++++++++++++++++++++++++++++++++       | 85% ~08s           |+++++++++++++++++++++++++++++++++++++++++++       | 86% ~08s           |++++++++++++++++++++++++++++++++++++++++++++      | 87% ~07s           |+++++++++++++++++++++++++++++++++++++++++++++     | 88% ~06s           |+++++++++++++++++++++++++++++++++++++++++++++     | 89% ~06s           |++++++++++++++++++++++++++++++++++++++++++++++    | 91% ~05s           |++++++++++++++++++++++++++++++++++++++++++++++    | 92% ~04s           |+++++++++++++++++++++++++++++++++++++++++++++++   | 93% ~04s           |++++++++++++++++++++++++++++++++++++++++++++++++  | 94% ~03s           |++++++++++++++++++++++++++++++++++++++++++++++++  | 95% ~03s           |+++++++++++++++++++++++++++++++++++++++++++++++++ | 96% ~02s           |+++++++++++++++++++++++++++++++++++++++++++++++++ | 98% ~01s           |++++++++++++++++++++++++++++++++++++++++++++++++++| 99% ~01s           |++++++++++++++++++++++++++++++++++++++++++++++++++| 100% elapsed=53s  \n",
      "  |                                                  | 0 % ~calculating   |+                                                 | 1 % ~39s           |++                                                | 2 % ~37s           |++                                                | 4 % ~36s           |+++                                               | 5 % ~35s           |++++                                              | 6 % ~35s           |++++                                              | 7 % ~35s           |+++++                                             | 9 % ~34s           |+++++                                             | 10% ~34s           |++++++                                            | 11% ~34s           |+++++++                                           | 12% ~33s           |+++++++                                           | 13% ~33s           |++++++++                                          | 15% ~33s           |++++++++                                          | 16% ~32s           |+++++++++                                         | 17% ~32s           |++++++++++                                        | 18% ~32s           |++++++++++                                        | 20% ~31s           |+++++++++++                                       | 21% ~31s           |+++++++++++                                       | 22% ~30s           |++++++++++++                                      | 23% ~30s           |+++++++++++++                                     | 24% ~29s           |+++++++++++++                                     | 26% ~29s           |++++++++++++++                                    | 27% ~30s           |+++++++++++++++                                   | 28% ~31s           |+++++++++++++++                                   | 29% ~31s           |++++++++++++++++                                  | 30% ~31s           |++++++++++++++++                                  | 32% ~30s           |+++++++++++++++++                                 | 33% ~30s           |++++++++++++++++++                                | 34% ~29s           |++++++++++++++++++                                | 35% ~28s           |+++++++++++++++++++                               | 37% ~28s           |+++++++++++++++++++                               | 38% ~27s           |++++++++++++++++++++                              | 39% ~26s           |+++++++++++++++++++++                             | 40% ~26s           |+++++++++++++++++++++                             | 41% ~26s           |++++++++++++++++++++++                            | 43% ~25s           |++++++++++++++++++++++                            | 44% ~24s           |+++++++++++++++++++++++                           | 45% ~24s           |++++++++++++++++++++++++                          | 46% ~23s           |++++++++++++++++++++++++                          | 48% ~22s           |+++++++++++++++++++++++++                         | 49% ~22s           |+++++++++++++++++++++++++                         | 50% ~21s           |++++++++++++++++++++++++++                        | 51% ~21s           |+++++++++++++++++++++++++++                       | 52% ~20s           |+++++++++++++++++++++++++++                       | 54% ~20s           |++++++++++++++++++++++++++++                      | 55% ~19s           |+++++++++++++++++++++++++++++                     | 56% ~19s           |+++++++++++++++++++++++++++++                     | 57% ~18s           |++++++++++++++++++++++++++++++                    | 59% ~17s           |++++++++++++++++++++++++++++++                    | 60% ~17s           |+++++++++++++++++++++++++++++++                   | 61% ~16s           |++++++++++++++++++++++++++++++++                  | 62% ~16s           |++++++++++++++++++++++++++++++++                  | 63% ~15s           |+++++++++++++++++++++++++++++++++                 | 65% ~15s           |+++++++++++++++++++++++++++++++++                 | 66% ~14s           |++++++++++++++++++++++++++++++++++                | 67% ~14s           |+++++++++++++++++++++++++++++++++++               | 68% ~13s           |+++++++++++++++++++++++++++++++++++               | 70% ~13s           |++++++++++++++++++++++++++++++++++++              | 71% ~12s           |++++++++++++++++++++++++++++++++++++              | 72% ~12s           |+++++++++++++++++++++++++++++++++++++             | 73% ~11s           |++++++++++++++++++++++++++++++++++++++            | 74% ~11s           |++++++++++++++++++++++++++++++++++++++            | 76% ~10s           |+++++++++++++++++++++++++++++++++++++++           | 77% ~10s           |++++++++++++++++++++++++++++++++++++++++          | 78% ~09s           |++++++++++++++++++++++++++++++++++++++++          | 79% ~09s           |+++++++++++++++++++++++++++++++++++++++++         | 80% ~08s           |+++++++++++++++++++++++++++++++++++++++++         | 82% ~08s           |++++++++++++++++++++++++++++++++++++++++++        | 83% ~07s           |+++++++++++++++++++++++++++++++++++++++++++       | 84% ~07s           |+++++++++++++++++++++++++++++++++++++++++++       | 85% ~06s           |++++++++++++++++++++++++++++++++++++++++++++      | 87% ~06s           |++++++++++++++++++++++++++++++++++++++++++++      | 88% ~05s           |+++++++++++++++++++++++++++++++++++++++++++++     | 89% ~05s           |++++++++++++++++++++++++++++++++++++++++++++++    | 90% ~04s           |++++++++++++++++++++++++++++++++++++++++++++++    | 91% ~04s           |+++++++++++++++++++++++++++++++++++++++++++++++   | 93% ~03s           |+++++++++++++++++++++++++++++++++++++++++++++++   | 94% ~02s           |++++++++++++++++++++++++++++++++++++++++++++++++  | 95% ~02s           |+++++++++++++++++++++++++++++++++++++++++++++++++ | 96% ~01s           |+++++++++++++++++++++++++++++++++++++++++++++++++ | 98% ~01s           |++++++++++++++++++++++++++++++++++++++++++++++++++| 99% ~01s           |++++++++++++++++++++++++++++++++++++++++++++++++++| 100% elapsed=41s  \n",
      "  |                                                  | 0 % ~calculating   |+                                                 | 1 % ~22s           |++                                                | 2 % ~21s           |++                                                | 3 % ~21s           |+++                                               | 4 % ~20s           |+++                                               | 5 % ~20s           |++++                                              | 7 % ~20s           |++++                                              | 8 % ~20s           |+++++                                             | 9 % ~19s           |+++++                                             | 10% ~19s           |++++++                                            | 11% ~19s           |++++++                                            | 12% ~19s           |+++++++                                           | 13% ~19s           |++++++++                                          | 14% ~18s           |++++++++                                          | 15% ~18s           |+++++++++                                         | 16% ~18s           |+++++++++                                         | 17% ~18s           |++++++++++                                        | 18% ~17s           |++++++++++                                        | 20% ~17s           |+++++++++++                                       | 21% ~17s           |+++++++++++                                       | 22% ~17s           |++++++++++++                                      | 23% ~16s           |++++++++++++                                      | 24% ~16s           |+++++++++++++                                     | 25% ~16s           |++++++++++++++                                    | 26% ~16s           |++++++++++++++                                    | 27% ~15s           |+++++++++++++++                                   | 28% ~15s           |+++++++++++++++                                   | 29% ~15s           |++++++++++++++++                                  | 30% ~15s           |++++++++++++++++                                  | 32% ~14s           |+++++++++++++++++                                 | 33% ~14s           |+++++++++++++++++                                 | 34% ~14s           |++++++++++++++++++                                | 35% ~14s           |++++++++++++++++++                                | 36% ~14s           |+++++++++++++++++++                               | 37% ~14s           |++++++++++++++++++++                              | 38% ~13s           |++++++++++++++++++++                              | 39% ~13s           |+++++++++++++++++++++                             | 40% ~13s           |+++++++++++++++++++++                             | 41% ~13s           |++++++++++++++++++++++                            | 42% ~13s           |++++++++++++++++++++++                            | 43% ~13s           |+++++++++++++++++++++++                           | 45% ~12s           |+++++++++++++++++++++++                           | 46% ~12s           |++++++++++++++++++++++++                          | 47% ~12s           |++++++++++++++++++++++++                          | 48% ~11s           |+++++++++++++++++++++++++                         | 49% ~11s           |+++++++++++++++++++++++++                         | 50% ~11s           |++++++++++++++++++++++++++                        | 51% ~11s           |+++++++++++++++++++++++++++                       | 52% ~10s           |+++++++++++++++++++++++++++                       | 53% ~10s           |++++++++++++++++++++++++++++                      | 54% ~10s           |++++++++++++++++++++++++++++                      | 55% ~10s           |+++++++++++++++++++++++++++++                     | 57% ~09s           |+++++++++++++++++++++++++++++                     | 58% ~09s           |++++++++++++++++++++++++++++++                    | 59% ~09s           |++++++++++++++++++++++++++++++                    | 60% ~09s           |+++++++++++++++++++++++++++++++                   | 61% ~08s           |+++++++++++++++++++++++++++++++                   | 62% ~08s           |++++++++++++++++++++++++++++++++                  | 63% ~08s           |+++++++++++++++++++++++++++++++++                 | 64% ~08s           |+++++++++++++++++++++++++++++++++                 | 65% ~08s           |++++++++++++++++++++++++++++++++++                | 66% ~07s           |++++++++++++++++++++++++++++++++++                | 67% ~07s           |+++++++++++++++++++++++++++++++++++               | 68% ~07s           |+++++++++++++++++++++++++++++++++++               | 70% ~07s           |++++++++++++++++++++++++++++++++++++              | 71% ~06s           |++++++++++++++++++++++++++++++++++++              | 72% ~06s           |+++++++++++++++++++++++++++++++++++++             | 73% ~06s           |+++++++++++++++++++++++++++++++++++++             | 74% ~06s           |++++++++++++++++++++++++++++++++++++++            | 75% ~05s           |+++++++++++++++++++++++++++++++++++++++           | 76% ~05s           |+++++++++++++++++++++++++++++++++++++++           | 77% ~05s           |++++++++++++++++++++++++++++++++++++++++          | 78% ~05s           |++++++++++++++++++++++++++++++++++++++++          | 79% ~04s           |+++++++++++++++++++++++++++++++++++++++++         | 80% ~04s           |+++++++++++++++++++++++++++++++++++++++++         | 82% ~04s           |++++++++++++++++++++++++++++++++++++++++++        | 83% ~04s           |++++++++++++++++++++++++++++++++++++++++++        | 84% ~03s           |+++++++++++++++++++++++++++++++++++++++++++       | 85% ~03s           |+++++++++++++++++++++++++++++++++++++++++++       | 86% ~03s           |++++++++++++++++++++++++++++++++++++++++++++      | 87% ~03s           |+++++++++++++++++++++++++++++++++++++++++++++     | 88% ~03s           |+++++++++++++++++++++++++++++++++++++++++++++     | 89% ~02s           |++++++++++++++++++++++++++++++++++++++++++++++    | 90% ~02s           |++++++++++++++++++++++++++++++++++++++++++++++    | 91% ~02s           |+++++++++++++++++++++++++++++++++++++++++++++++   | 92% ~02s           |+++++++++++++++++++++++++++++++++++++++++++++++   | 93% ~01s           |++++++++++++++++++++++++++++++++++++++++++++++++  | 95% ~01s           |++++++++++++++++++++++++++++++++++++++++++++++++  | 96% ~01s           |+++++++++++++++++++++++++++++++++++++++++++++++++ | 97% ~01s           |+++++++++++++++++++++++++++++++++++++++++++++++++ | 98% ~00s           |++++++++++++++++++++++++++++++++++++++++++++++++++| 99% ~00s           |++++++++++++++++++++++++++++++++++++++++++++++++++| 100% elapsed=21s  \n",
      "  |                                                  | 0 % ~calculating   |+                                                 | 1 % ~39s           |++                                                | 2 % ~40s           |++                                                | 4 % ~38s           |+++                                               | 5 % ~37s           |+++                                               | 6 % ~37s           |++++                                              | 7 % ~37s           |+++++                                             | 8 % ~36s           |+++++                                             | 9 % ~36s           |++++++                                            | 11% ~36s           |++++++                                            | 12% ~35s           |+++++++                                           | 13% ~34s           |++++++++                                          | 14% ~34s           |++++++++                                          | 15% ~34s           |+++++++++                                         | 16% ~33s           |+++++++++                                         | 18% ~33s           |++++++++++                                        | 19% ~32s           |++++++++++                                        | 20% ~32s           |+++++++++++                                       | 21% ~31s           |++++++++++++                                      | 22% ~31s           |++++++++++++                                      | 24% ~30s           |+++++++++++++                                     | 25% ~30s           |+++++++++++++                                     | 26% ~30s           |++++++++++++++                                    | 27% ~29s           |+++++++++++++++                                   | 28% ~28s           |+++++++++++++++                                   | 29% ~28s           |++++++++++++++++                                  | 31% ~27s           |++++++++++++++++                                  | 32% ~27s           |+++++++++++++++++                                 | 33% ~26s           |++++++++++++++++++                                | 34% ~26s           |++++++++++++++++++                                | 35% ~26s           |+++++++++++++++++++                               | 36% ~25s           |+++++++++++++++++++                               | 38% ~25s           |++++++++++++++++++++                              | 39% ~24s           |++++++++++++++++++++                              | 40% ~24s           |+++++++++++++++++++++                             | 41% ~23s           |++++++++++++++++++++++                            | 42% ~23s           |++++++++++++++++++++++                            | 44% ~22s           |+++++++++++++++++++++++                           | 45% ~22s           |+++++++++++++++++++++++                           | 46% ~21s           |++++++++++++++++++++++++                          | 47% ~21s           |+++++++++++++++++++++++++                         | 48% ~20s           |+++++++++++++++++++++++++                         | 49% ~20s           |++++++++++++++++++++++++++                        | 51% ~19s           |++++++++++++++++++++++++++                        | 52% ~19s           |+++++++++++++++++++++++++++                       | 53% ~18s           |++++++++++++++++++++++++++++                      | 54% ~18s           |++++++++++++++++++++++++++++                      | 55% ~17s           |+++++++++++++++++++++++++++++                     | 56% ~17s           |+++++++++++++++++++++++++++++                     | 58% ~16s           |++++++++++++++++++++++++++++++                    | 59% ~16s           |++++++++++++++++++++++++++++++                    | 60% ~16s           |+++++++++++++++++++++++++++++++                   | 61% ~16s           |++++++++++++++++++++++++++++++++                  | 62% ~16s           |++++++++++++++++++++++++++++++++                  | 64% ~15s           |+++++++++++++++++++++++++++++++++                 | 65% ~15s           |+++++++++++++++++++++++++++++++++                 | 66% ~14s           |++++++++++++++++++++++++++++++++++                | 67% ~14s           |+++++++++++++++++++++++++++++++++++               | 68% ~13s           |+++++++++++++++++++++++++++++++++++               | 69% ~13s           |++++++++++++++++++++++++++++++++++++              | 71% ~12s           |++++++++++++++++++++++++++++++++++++              | 72% ~12s           |+++++++++++++++++++++++++++++++++++++             | 73% ~11s           |++++++++++++++++++++++++++++++++++++++            | 74% ~11s           |++++++++++++++++++++++++++++++++++++++            | 75% ~10s           |+++++++++++++++++++++++++++++++++++++++           | 76% ~10s           |+++++++++++++++++++++++++++++++++++++++           | 78% ~09s           |++++++++++++++++++++++++++++++++++++++++          | 79% ~09s           |++++++++++++++++++++++++++++++++++++++++          | 80% ~08s           |+++++++++++++++++++++++++++++++++++++++++         | 81% ~08s           |++++++++++++++++++++++++++++++++++++++++++        | 82% ~07s           |++++++++++++++++++++++++++++++++++++++++++        | 84% ~07s           |+++++++++++++++++++++++++++++++++++++++++++       | 85% ~06s           |+++++++++++++++++++++++++++++++++++++++++++       | 86% ~06s           |++++++++++++++++++++++++++++++++++++++++++++      | 87% ~05s           |+++++++++++++++++++++++++++++++++++++++++++++     | 88% ~05s           |+++++++++++++++++++++++++++++++++++++++++++++     | 89% ~04s           |++++++++++++++++++++++++++++++++++++++++++++++    | 91% ~04s           |++++++++++++++++++++++++++++++++++++++++++++++    | 92% ~03s           |+++++++++++++++++++++++++++++++++++++++++++++++   | 93% ~03s           |++++++++++++++++++++++++++++++++++++++++++++++++  | 94% ~02s           |++++++++++++++++++++++++++++++++++++++++++++++++  | 95% ~02s           |+++++++++++++++++++++++++++++++++++++++++++++++++ | 96% ~01s           |+++++++++++++++++++++++++++++++++++++++++++++++++ | 98% ~01s           |++++++++++++++++++++++++++++++++++++++++++++++++++| 99% ~00s           |++++++++++++++++++++++++++++++++++++++++++++++++++| 100% elapsed=40s  \n",
      "  |                                                  | 0 % ~calculating   |+                                                 | 2 % ~14s           |++                                                | 3 % ~14s           |+++                                               | 5 % ~14s           |++++                                              | 6 % ~14s           |++++                                              | 8 % ~14s           |+++++                                             | 9 % ~14s           |++++++                                            | 11% ~13s           |+++++++                                           | 12% ~13s           |+++++++                                           | 14% ~13s           |++++++++                                          | 15% ~13s           |+++++++++                                         | 17% ~12s           |++++++++++                                        | 18% ~12s           |++++++++++                                        | 20% ~12s           |+++++++++++                                       | 21% ~12s           |++++++++++++                                      | 23% ~11s           |+++++++++++++                                     | 24% ~11s           |+++++++++++++                                     | 26% ~11s           |++++++++++++++                                    | 27% ~11s           |+++++++++++++++                                   | 29% ~11s           |++++++++++++++++                                  | 30% ~10s           |++++++++++++++++                                  | 32% ~10s           |+++++++++++++++++                                 | 33% ~10s           |++++++++++++++++++                                | 35% ~10s           |+++++++++++++++++++                               | 36% ~09s           |+++++++++++++++++++                               | 38% ~09s           |++++++++++++++++++++                              | 39% ~09s           |+++++++++++++++++++++                             | 41% ~09s           |++++++++++++++++++++++                            | 42% ~09s           |++++++++++++++++++++++                            | 44% ~09s           |+++++++++++++++++++++++                           | 45% ~09s           |++++++++++++++++++++++++                          | 47% ~09s           |+++++++++++++++++++++++++                         | 48% ~08s           |+++++++++++++++++++++++++                         | 50% ~08s           |++++++++++++++++++++++++++                        | 52% ~08s           |+++++++++++++++++++++++++++                       | 53% ~08s           |++++++++++++++++++++++++++++                      | 55% ~08s           |+++++++++++++++++++++++++++++                     | 56% ~08s           |+++++++++++++++++++++++++++++                     | 58% ~08s           |++++++++++++++++++++++++++++++                    | 59% ~07s           |+++++++++++++++++++++++++++++++                   | 61% ~07s           |++++++++++++++++++++++++++++++++                  | 62% ~07s           |++++++++++++++++++++++++++++++++                  | 64% ~07s           |+++++++++++++++++++++++++++++++++                 | 65% ~06s           |++++++++++++++++++++++++++++++++++                | 67% ~06s           |+++++++++++++++++++++++++++++++++++               | 68% ~06s           |+++++++++++++++++++++++++++++++++++               | 70% ~05s           |++++++++++++++++++++++++++++++++++++              | 71% ~05s           |+++++++++++++++++++++++++++++++++++++             | 73% ~05s           |++++++++++++++++++++++++++++++++++++++            | 74% ~05s           |++++++++++++++++++++++++++++++++++++++            | 76% ~04s           |+++++++++++++++++++++++++++++++++++++++           | 77% ~04s           |++++++++++++++++++++++++++++++++++++++++          | 79% ~04s           |+++++++++++++++++++++++++++++++++++++++++         | 80% ~03s           |+++++++++++++++++++++++++++++++++++++++++         | 82% ~03s           |++++++++++++++++++++++++++++++++++++++++++        | 83% ~03s           |+++++++++++++++++++++++++++++++++++++++++++       | 85% ~03s           |++++++++++++++++++++++++++++++++++++++++++++      | 86% ~02s           |++++++++++++++++++++++++++++++++++++++++++++      | 88% ~02s           |+++++++++++++++++++++++++++++++++++++++++++++     | 89% ~02s           |++++++++++++++++++++++++++++++++++++++++++++++    | 91% ~02s           |+++++++++++++++++++++++++++++++++++++++++++++++   | 92% ~01s           |+++++++++++++++++++++++++++++++++++++++++++++++   | 94% ~01s           |++++++++++++++++++++++++++++++++++++++++++++++++  | 95% ~01s           |+++++++++++++++++++++++++++++++++++++++++++++++++ | 97% ~01s           |++++++++++++++++++++++++++++++++++++++++++++++++++| 98% ~00s           |++++++++++++++++++++++++++++++++++++++++++++++++++| 100% elapsed=17s  \n",
      "  |                                                  | 0 % ~calculating   |+                                                 | 1 % ~32s           |++                                                | 2 % ~31s           |++                                                | 3 % ~30s           |+++                                               | 4 % ~30s           |+++                                               | 5 % ~29s           |++++                                              | 7 % ~29s           |++++                                              | 8 % ~29s           |+++++                                             | 9 % ~28s           |+++++                                             | 10% ~28s           |++++++                                            | 11% ~28s           |+++++++                                           | 12% ~28s           |+++++++                                           | 13% ~27s           |++++++++                                          | 14% ~27s           |++++++++                                          | 15% ~27s           |+++++++++                                         | 16% ~27s           |+++++++++                                         | 18% ~29s           |++++++++++                                        | 19% ~28s           |++++++++++                                        | 20% ~28s           |+++++++++++                                       | 21% ~27s           |+++++++++++                                       | 22% ~27s           |++++++++++++                                      | 23% ~26s           |+++++++++++++                                     | 24% ~26s           |+++++++++++++                                     | 25% ~25s           |++++++++++++++                                    | 26% ~25s           |++++++++++++++                                    | 27% ~24s           |+++++++++++++++                                   | 29% ~24s           |+++++++++++++++                                   | 30% ~24s           |++++++++++++++++                                  | 31% ~23s           |++++++++++++++++                                  | 32% ~23s           |+++++++++++++++++                                 | 33% ~22s           |++++++++++++++++++                                | 34% ~22s           |++++++++++++++++++                                | 35% ~22s           |+++++++++++++++++++                               | 36% ~22s           |+++++++++++++++++++                               | 37% ~21s           |++++++++++++++++++++                              | 38% ~21s           |++++++++++++++++++++                              | 40% ~20s           |+++++++++++++++++++++                             | 41% ~20s           |+++++++++++++++++++++                             | 42% ~19s           |++++++++++++++++++++++                            | 43% ~20s           |++++++++++++++++++++++                            | 44% ~20s           |+++++++++++++++++++++++                           | 45% ~20s           |++++++++++++++++++++++++                          | 46% ~20s           |++++++++++++++++++++++++                          | 47% ~20s           |+++++++++++++++++++++++++                         | 48% ~19s           |+++++++++++++++++++++++++                         | 49% ~19s           |++++++++++++++++++++++++++                        | 51% ~18s           |++++++++++++++++++++++++++                        | 52% ~18s           |+++++++++++++++++++++++++++                       | 53% ~17s           |+++++++++++++++++++++++++++                       | 54% ~17s           |++++++++++++++++++++++++++++                      | 55% ~16s           |+++++++++++++++++++++++++++++                     | 56% ~16s           |+++++++++++++++++++++++++++++                     | 57% ~15s           |++++++++++++++++++++++++++++++                    | 58% ~15s           |++++++++++++++++++++++++++++++                    | 59% ~15s           |+++++++++++++++++++++++++++++++                   | 60% ~14s           |+++++++++++++++++++++++++++++++                   | 62% ~14s           |++++++++++++++++++++++++++++++++                  | 63% ~13s           |++++++++++++++++++++++++++++++++                  | 64% ~13s           |+++++++++++++++++++++++++++++++++                 | 65% ~13s           |+++++++++++++++++++++++++++++++++                 | 66% ~12s           |++++++++++++++++++++++++++++++++++                | 67% ~12s           |+++++++++++++++++++++++++++++++++++               | 68% ~11s           |+++++++++++++++++++++++++++++++++++               | 69% ~11s           |++++++++++++++++++++++++++++++++++++              | 70% ~10s           |++++++++++++++++++++++++++++++++++++              | 71% ~10s           |+++++++++++++++++++++++++++++++++++++             | 73% ~10s           |+++++++++++++++++++++++++++++++++++++             | 74% ~09s           |++++++++++++++++++++++++++++++++++++++            | 75% ~09s           |++++++++++++++++++++++++++++++++++++++            | 76% ~08s           |+++++++++++++++++++++++++++++++++++++++           | 77% ~08s           |++++++++++++++++++++++++++++++++++++++++          | 78% ~08s           |++++++++++++++++++++++++++++++++++++++++          | 79% ~07s           |+++++++++++++++++++++++++++++++++++++++++         | 80% ~07s           |+++++++++++++++++++++++++++++++++++++++++         | 81% ~06s           |++++++++++++++++++++++++++++++++++++++++++        | 82% ~06s           |++++++++++++++++++++++++++++++++++++++++++        | 84% ~06s           |+++++++++++++++++++++++++++++++++++++++++++       | 85% ~05s           |+++++++++++++++++++++++++++++++++++++++++++       | 86% ~05s           |++++++++++++++++++++++++++++++++++++++++++++      | 87% ~05s           |++++++++++++++++++++++++++++++++++++++++++++      | 88% ~04s           |+++++++++++++++++++++++++++++++++++++++++++++     | 89% ~04s           |++++++++++++++++++++++++++++++++++++++++++++++    | 90% ~03s           |++++++++++++++++++++++++++++++++++++++++++++++    | 91% ~03s           |+++++++++++++++++++++++++++++++++++++++++++++++   | 92% ~03s           |+++++++++++++++++++++++++++++++++++++++++++++++   | 93% ~02s           |++++++++++++++++++++++++++++++++++++++++++++++++  | 95% ~02s           |++++++++++++++++++++++++++++++++++++++++++++++++  | 96% ~02s           |+++++++++++++++++++++++++++++++++++++++++++++++++ | 97% ~01s           |+++++++++++++++++++++++++++++++++++++++++++++++++ | 98% ~01s           |++++++++++++++++++++++++++++++++++++++++++++++++++| 99% ~00s           |++++++++++++++++++++++++++++++++++++++++++++++++++| 100% elapsed=34s  \n",
      "  |                                                  | 0 % ~calculating   |+                                                 | 1 % ~38s           |++                                                | 2 % ~36s           |++                                                | 4 % ~36s           |+++                                               | 5 % ~35s           |++++                                              | 6 % ~34s           |++++                                              | 7 % ~34s           |+++++                                             | 9 % ~33s           |+++++                                             | 10% ~33s           |++++++                                            | 11% ~33s           |+++++++                                           | 12% ~35s           |+++++++                                           | 14% ~37s           |++++++++                                          | 15% ~38s           |+++++++++                                         | 16% ~40s           |+++++++++                                         | 17% ~39s           |++++++++++                                        | 19% ~38s           |++++++++++                                        | 20% ~37s           |+++++++++++                                       | 21% ~36s           |++++++++++++                                      | 22% ~35s           |++++++++++++                                      | 23% ~34s           |+++++++++++++                                     | 25% ~33s           |+++++++++++++                                     | 26% ~32s           |++++++++++++++                                    | 27% ~32s           |+++++++++++++++                                   | 28% ~31s           |+++++++++++++++                                   | 30% ~30s           |++++++++++++++++                                  | 31% ~29s           |+++++++++++++++++                                 | 32% ~29s           |+++++++++++++++++                                 | 33% ~28s           |++++++++++++++++++                                | 35% ~27s           |++++++++++++++++++                                | 36% ~27s           |+++++++++++++++++++                               | 37% ~26s           |++++++++++++++++++++                              | 38% ~25s           |++++++++++++++++++++                              | 40% ~25s           |+++++++++++++++++++++                             | 41% ~25s           |+++++++++++++++++++++                             | 42% ~24s           |++++++++++++++++++++++                            | 43% ~24s           |+++++++++++++++++++++++                           | 44% ~23s           |+++++++++++++++++++++++                           | 46% ~22s           |++++++++++++++++++++++++                          | 47% ~22s           |+++++++++++++++++++++++++                         | 48% ~21s           |+++++++++++++++++++++++++                         | 49% ~21s           |++++++++++++++++++++++++++                        | 51% ~20s           |++++++++++++++++++++++++++                        | 52% ~20s           |+++++++++++++++++++++++++++                       | 53% ~19s           |++++++++++++++++++++++++++++                      | 54% ~18s           |++++++++++++++++++++++++++++                      | 56% ~18s           |+++++++++++++++++++++++++++++                     | 57% ~17s           |++++++++++++++++++++++++++++++                    | 58% ~17s           |++++++++++++++++++++++++++++++                    | 59% ~16s           |+++++++++++++++++++++++++++++++                   | 60% ~16s           |+++++++++++++++++++++++++++++++                   | 62% ~15s           |++++++++++++++++++++++++++++++++                  | 63% ~15s           |+++++++++++++++++++++++++++++++++                 | 64% ~14s           |+++++++++++++++++++++++++++++++++                 | 65% ~14s           |++++++++++++++++++++++++++++++++++                | 67% ~13s           |++++++++++++++++++++++++++++++++++                | 68% ~13s           |+++++++++++++++++++++++++++++++++++               | 69% ~12s           |++++++++++++++++++++++++++++++++++++              | 70% ~12s           |++++++++++++++++++++++++++++++++++++              | 72% ~11s           |+++++++++++++++++++++++++++++++++++++             | 73% ~11s           |++++++++++++++++++++++++++++++++++++++            | 74% ~10s           |++++++++++++++++++++++++++++++++++++++            | 75% ~10s           |+++++++++++++++++++++++++++++++++++++++           | 77% ~09s           |+++++++++++++++++++++++++++++++++++++++           | 78% ~09s           |++++++++++++++++++++++++++++++++++++++++          | 79% ~08s           |+++++++++++++++++++++++++++++++++++++++++         | 80% ~08s           |+++++++++++++++++++++++++++++++++++++++++         | 81% ~07s           |++++++++++++++++++++++++++++++++++++++++++        | 83% ~07s           |++++++++++++++++++++++++++++++++++++++++++        | 84% ~06s           |+++++++++++++++++++++++++++++++++++++++++++       | 85% ~06s           |++++++++++++++++++++++++++++++++++++++++++++      | 86% ~05s           |++++++++++++++++++++++++++++++++++++++++++++      | 88% ~05s           |+++++++++++++++++++++++++++++++++++++++++++++     | 89% ~04s           |++++++++++++++++++++++++++++++++++++++++++++++    | 90% ~04s           |++++++++++++++++++++++++++++++++++++++++++++++    | 91% ~04s           |+++++++++++++++++++++++++++++++++++++++++++++++   | 93% ~03s           |+++++++++++++++++++++++++++++++++++++++++++++++   | 94% ~03s           |++++++++++++++++++++++++++++++++++++++++++++++++  | 95% ~02s           |+++++++++++++++++++++++++++++++++++++++++++++++++ | 96% ~02s           |+++++++++++++++++++++++++++++++++++++++++++++++++ | 98% ~01s           |++++++++++++++++++++++++++++++++++++++++++++++++++| 99% ~01s           |++++++++++++++++++++++++++++++++++++++++++++++++++| 100% elapsed=41s  \n",
      "  |                                                  | 0 % ~calculating   |+                                                 | 1 % ~32s           |++                                                | 2 % ~31s           |++                                                | 3 % ~30s           |+++                                               | 4 % ~30s           |+++                                               | 5 % ~29s           |++++                                              | 7 % ~29s           |++++                                              | 8 % ~28s           |+++++                                             | 9 % ~28s           |+++++                                             | 10% ~28s           |++++++                                            | 11% ~28s           |++++++                                            | 12% ~27s           |+++++++                                           | 13% ~27s           |++++++++                                          | 14% ~26s           |++++++++                                          | 15% ~26s           |+++++++++                                         | 16% ~26s           |+++++++++                                         | 17% ~26s           |++++++++++                                        | 18% ~25s           |++++++++++                                        | 20% ~25s           |+++++++++++                                       | 21% ~25s           |+++++++++++                                       | 22% ~24s           |++++++++++++                                      | 23% ~24s           |++++++++++++                                      | 24% ~24s           |+++++++++++++                                     | 25% ~23s           |++++++++++++++                                    | 26% ~23s           |++++++++++++++                                    | 27% ~23s           |+++++++++++++++                                   | 28% ~22s           |+++++++++++++++                                   | 29% ~22s           |++++++++++++++++                                  | 30% ~21s           |++++++++++++++++                                  | 32% ~21s           |+++++++++++++++++                                 | 33% ~21s           |+++++++++++++++++                                 | 34% ~20s           |++++++++++++++++++                                | 35% ~20s           |++++++++++++++++++                                | 36% ~20s           |+++++++++++++++++++                               | 37% ~19s           |++++++++++++++++++++                              | 38% ~19s           |++++++++++++++++++++                              | 39% ~19s           |+++++++++++++++++++++                             | 40% ~19s           |+++++++++++++++++++++                             | 41% ~19s           |++++++++++++++++++++++                            | 42% ~18s           |++++++++++++++++++++++                            | 43% ~18s           |+++++++++++++++++++++++                           | 45% ~17s           |+++++++++++++++++++++++                           | 46% ~17s           |++++++++++++++++++++++++                          | 47% ~17s           |++++++++++++++++++++++++                          | 48% ~16s           |+++++++++++++++++++++++++                         | 49% ~16s           |+++++++++++++++++++++++++                         | 50% ~16s           |++++++++++++++++++++++++++                        | 51% ~15s           |+++++++++++++++++++++++++++                       | 52% ~15s           |+++++++++++++++++++++++++++                       | 53% ~15s           |++++++++++++++++++++++++++++                      | 54% ~14s           |++++++++++++++++++++++++++++                      | 55% ~14s           |+++++++++++++++++++++++++++++                     | 57% ~14s           |+++++++++++++++++++++++++++++                     | 58% ~13s           |++++++++++++++++++++++++++++++                    | 59% ~13s           |++++++++++++++++++++++++++++++                    | 60% ~13s           |+++++++++++++++++++++++++++++++                   | 61% ~13s           |+++++++++++++++++++++++++++++++                   | 62% ~13s           |++++++++++++++++++++++++++++++++                  | 63% ~12s           |+++++++++++++++++++++++++++++++++                 | 64% ~12s           |+++++++++++++++++++++++++++++++++                 | 65% ~12s           |++++++++++++++++++++++++++++++++++                | 66% ~12s           |++++++++++++++++++++++++++++++++++                | 67% ~11s           |+++++++++++++++++++++++++++++++++++               | 68% ~11s           |+++++++++++++++++++++++++++++++++++               | 70% ~10s           |++++++++++++++++++++++++++++++++++++              | 71% ~10s           |++++++++++++++++++++++++++++++++++++              | 72% ~10s           |+++++++++++++++++++++++++++++++++++++             | 73% ~09s           |+++++++++++++++++++++++++++++++++++++             | 74% ~09s           |++++++++++++++++++++++++++++++++++++++            | 75% ~08s           |+++++++++++++++++++++++++++++++++++++++           | 76% ~08s           |+++++++++++++++++++++++++++++++++++++++           | 77% ~08s           |++++++++++++++++++++++++++++++++++++++++          | 78% ~07s           |++++++++++++++++++++++++++++++++++++++++          | 79% ~07s           |+++++++++++++++++++++++++++++++++++++++++         | 80% ~07s           |+++++++++++++++++++++++++++++++++++++++++         | 82% ~06s           |++++++++++++++++++++++++++++++++++++++++++        | 83% ~06s           |++++++++++++++++++++++++++++++++++++++++++        | 84% ~05s           |+++++++++++++++++++++++++++++++++++++++++++       | 85% ~05s           |+++++++++++++++++++++++++++++++++++++++++++       | 86% ~05s           |++++++++++++++++++++++++++++++++++++++++++++      | 87% ~04s           |+++++++++++++++++++++++++++++++++++++++++++++     | 88% ~04s           |+++++++++++++++++++++++++++++++++++++++++++++     | 89% ~04s           |++++++++++++++++++++++++++++++++++++++++++++++    | 90% ~03s           |++++++++++++++++++++++++++++++++++++++++++++++    | 91% ~03s           |+++++++++++++++++++++++++++++++++++++++++++++++   | 92% ~03s           |+++++++++++++++++++++++++++++++++++++++++++++++   | 93% ~02s           |++++++++++++++++++++++++++++++++++++++++++++++++  | 95% ~02s           |++++++++++++++++++++++++++++++++++++++++++++++++  | 96% ~01s           |+++++++++++++++++++++++++++++++++++++++++++++++++ | 97% ~01s           |+++++++++++++++++++++++++++++++++++++++++++++++++ | 98% ~01s           |++++++++++++++++++++++++++++++++++++++++++++++++++| 99% ~00s           |++++++++++++++++++++++++++++++++++++++++++++++++++| 100% elapsed=33s  \n",
      "  |                                                  | 0 % ~calculating   |+                                                 | 1 % ~32s           |++                                                | 2 % ~30s           |++                                                | 3 % ~29s           |+++                                               | 4 % ~29s           |+++                                               | 5 % ~28s           |++++                                              | 6 % ~28s           |++++                                              | 7 % ~28s           |+++++                                             | 8 % ~28s           |+++++                                             | 9 % ~28s           |++++++                                            | 10% ~28s           |++++++                                            | 11% ~28s           |+++++++                                           | 12% ~28s           |+++++++                                           | 14% ~27s           |++++++++                                          | 15% ~27s           |++++++++                                          | 16% ~26s           |+++++++++                                         | 17% ~26s           |+++++++++                                         | 18% ~26s           |++++++++++                                        | 19% ~25s           |++++++++++                                        | 20% ~25s           |+++++++++++                                       | 21% ~25s           |+++++++++++                                       | 22% ~25s           |++++++++++++                                      | 23% ~25s           |++++++++++++                                      | 24% ~25s           |+++++++++++++                                     | 25% ~24s           |++++++++++++++                                    | 26% ~24s           |++++++++++++++                                    | 27% ~24s           |+++++++++++++++                                   | 28% ~23s           |+++++++++++++++                                   | 29% ~23s           |++++++++++++++++                                  | 30% ~23s           |++++++++++++++++                                  | 31% ~23s           |+++++++++++++++++                                 | 32% ~23s           |+++++++++++++++++                                 | 33% ~23s           |++++++++++++++++++                                | 34% ~24s           |++++++++++++++++++                                | 35% ~24s           |+++++++++++++++++++                               | 36% ~24s           |+++++++++++++++++++                               | 38% ~23s           |++++++++++++++++++++                              | 39% ~23s           |++++++++++++++++++++                              | 40% ~22s           |+++++++++++++++++++++                             | 41% ~22s           |+++++++++++++++++++++                             | 42% ~21s           |++++++++++++++++++++++                            | 43% ~21s           |++++++++++++++++++++++                            | 44% ~20s           |+++++++++++++++++++++++                           | 45% ~20s           |+++++++++++++++++++++++                           | 46% ~19s           |++++++++++++++++++++++++                          | 47% ~19s           |++++++++++++++++++++++++                          | 48% ~19s           |+++++++++++++++++++++++++                         | 49% ~18s           |+++++++++++++++++++++++++                         | 50% ~18s           |++++++++++++++++++++++++++                        | 51% ~17s           |+++++++++++++++++++++++++++                       | 52% ~17s           |+++++++++++++++++++++++++++                       | 53% ~16s           |++++++++++++++++++++++++++++                      | 54% ~16s           |++++++++++++++++++++++++++++                      | 55% ~16s           |+++++++++++++++++++++++++++++                     | 56% ~15s           |+++++++++++++++++++++++++++++                     | 57% ~15s           |++++++++++++++++++++++++++++++                    | 58% ~15s           |++++++++++++++++++++++++++++++                    | 59% ~14s           |+++++++++++++++++++++++++++++++                   | 60% ~14s           |+++++++++++++++++++++++++++++++                   | 61% ~13s           |++++++++++++++++++++++++++++++++                  | 62% ~13s           |++++++++++++++++++++++++++++++++                  | 64% ~13s           |+++++++++++++++++++++++++++++++++                 | 65% ~12s           |+++++++++++++++++++++++++++++++++                 | 66% ~12s           |++++++++++++++++++++++++++++++++++                | 67% ~11s           |++++++++++++++++++++++++++++++++++                | 68% ~11s           |+++++++++++++++++++++++++++++++++++               | 69% ~11s           |+++++++++++++++++++++++++++++++++++               | 70% ~10s           |++++++++++++++++++++++++++++++++++++              | 71% ~10s           |++++++++++++++++++++++++++++++++++++              | 72% ~10s           |+++++++++++++++++++++++++++++++++++++             | 73% ~09s           |+++++++++++++++++++++++++++++++++++++             | 74% ~09s           |++++++++++++++++++++++++++++++++++++++            | 75% ~09s           |+++++++++++++++++++++++++++++++++++++++           | 76% ~08s           |+++++++++++++++++++++++++++++++++++++++           | 77% ~08s           |++++++++++++++++++++++++++++++++++++++++          | 78% ~07s           |++++++++++++++++++++++++++++++++++++++++          | 79% ~07s           |+++++++++++++++++++++++++++++++++++++++++         | 80% ~07s           |+++++++++++++++++++++++++++++++++++++++++         | 81% ~06s           |++++++++++++++++++++++++++++++++++++++++++        | 82% ~06s           |++++++++++++++++++++++++++++++++++++++++++        | 83% ~06s           |+++++++++++++++++++++++++++++++++++++++++++       | 84% ~05s           |+++++++++++++++++++++++++++++++++++++++++++       | 85% ~05s           |++++++++++++++++++++++++++++++++++++++++++++      | 86% ~05s           |++++++++++++++++++++++++++++++++++++++++++++      | 88% ~04s           |+++++++++++++++++++++++++++++++++++++++++++++     | 89% ~04s           |+++++++++++++++++++++++++++++++++++++++++++++     | 90% ~03s           |++++++++++++++++++++++++++++++++++++++++++++++    | 91% ~03s           |++++++++++++++++++++++++++++++++++++++++++++++    | 92% ~03s           |+++++++++++++++++++++++++++++++++++++++++++++++   | 93% ~02s           |+++++++++++++++++++++++++++++++++++++++++++++++   | 94% ~02s           |++++++++++++++++++++++++++++++++++++++++++++++++  | 95% ~02s           |++++++++++++++++++++++++++++++++++++++++++++++++  | 96% ~01s           |+++++++++++++++++++++++++++++++++++++++++++++++++ | 97% ~01s           |+++++++++++++++++++++++++++++++++++++++++++++++++ | 98% ~01s           |++++++++++++++++++++++++++++++++++++++++++++++++++| 99% ~00s           |++++++++++++++++++++++++++++++++++++++++++++++++++| 100% elapsed=33s  \n",
      "  |                                                  | 0 % ~calculating   |+                                                 | 1 % ~26s           |++                                                | 3 % ~25s           |++                                                | 4 % ~24s           |+++                                               | 5 % ~24s           |++++                                              | 6 % ~23s           |++++                                              | 8 % ~27s           |+++++                                             | 9 % ~30s           |++++++                                            | 10% ~32s           |++++++                                            | 12% ~34s           |+++++++                                           | 13% ~34s           |++++++++                                          | 14% ~34s           |++++++++                                          | 15% ~33s           |+++++++++                                         | 17% ~31s           |+++++++++                                         | 18% ~30s           |++++++++++                                        | 19% ~29s           |+++++++++++                                       | 21% ~28s           |+++++++++++                                       | 22% ~27s           |++++++++++++                                      | 23% ~26s           |+++++++++++++                                     | 24% ~26s           |+++++++++++++                                     | 26% ~25s           |++++++++++++++                                    | 27% ~24s           |+++++++++++++++                                   | 28% ~24s           |+++++++++++++++                                   | 29% ~23s           |++++++++++++++++                                  | 31% ~22s           |+++++++++++++++++                                 | 32% ~22s           |+++++++++++++++++                                 | 33% ~21s           |++++++++++++++++++                                | 35% ~21s           |++++++++++++++++++                                | 36% ~20s           |+++++++++++++++++++                               | 37% ~20s           |++++++++++++++++++++                              | 38% ~19s           |++++++++++++++++++++                              | 40% ~19s           |+++++++++++++++++++++                             | 41% ~18s           |++++++++++++++++++++++                            | 42% ~18s           |++++++++++++++++++++++                            | 44% ~17s           |+++++++++++++++++++++++                           | 45% ~17s           |++++++++++++++++++++++++                          | 46% ~16s           |++++++++++++++++++++++++                          | 47% ~16s           |+++++++++++++++++++++++++                         | 49% ~15s           |+++++++++++++++++++++++++                         | 50% ~15s           |++++++++++++++++++++++++++                        | 51% ~15s           |+++++++++++++++++++++++++++                       | 53% ~14s           |+++++++++++++++++++++++++++                       | 54% ~14s           |++++++++++++++++++++++++++++                      | 55% ~13s           |+++++++++++++++++++++++++++++                     | 56% ~13s           |+++++++++++++++++++++++++++++                     | 58% ~12s           |++++++++++++++++++++++++++++++                    | 59% ~12s           |+++++++++++++++++++++++++++++++                   | 60% ~12s           |+++++++++++++++++++++++++++++++                   | 62% ~11s           |++++++++++++++++++++++++++++++++                  | 63% ~11s           |+++++++++++++++++++++++++++++++++                 | 64% ~10s           |+++++++++++++++++++++++++++++++++                 | 65% ~10s           |++++++++++++++++++++++++++++++++++                | 67% ~10s           |++++++++++++++++++++++++++++++++++                | 68% ~09s           |+++++++++++++++++++++++++++++++++++               | 69% ~09s           |++++++++++++++++++++++++++++++++++++              | 71% ~09s           |++++++++++++++++++++++++++++++++++++              | 72% ~08s           |+++++++++++++++++++++++++++++++++++++             | 73% ~08s           |++++++++++++++++++++++++++++++++++++++            | 74% ~07s           |++++++++++++++++++++++++++++++++++++++            | 76% ~07s           |+++++++++++++++++++++++++++++++++++++++           | 77% ~07s           |++++++++++++++++++++++++++++++++++++++++          | 78% ~06s           |++++++++++++++++++++++++++++++++++++++++          | 79% ~06s           |+++++++++++++++++++++++++++++++++++++++++         | 81% ~05s           |++++++++++++++++++++++++++++++++++++++++++        | 82% ~05s           |++++++++++++++++++++++++++++++++++++++++++        | 83% ~05s           |+++++++++++++++++++++++++++++++++++++++++++       | 85% ~04s           |+++++++++++++++++++++++++++++++++++++++++++       | 86% ~04s           |++++++++++++++++++++++++++++++++++++++++++++      | 87% ~04s           |+++++++++++++++++++++++++++++++++++++++++++++     | 88% ~03s           |+++++++++++++++++++++++++++++++++++++++++++++     | 90% ~03s           |++++++++++++++++++++++++++++++++++++++++++++++    | 91% ~03s           |+++++++++++++++++++++++++++++++++++++++++++++++   | 92% ~02s           |+++++++++++++++++++++++++++++++++++++++++++++++   | 94% ~02s           |++++++++++++++++++++++++++++++++++++++++++++++++  | 95% ~01s           |+++++++++++++++++++++++++++++++++++++++++++++++++ | 96% ~01s           |+++++++++++++++++++++++++++++++++++++++++++++++++ | 97% ~01s           |++++++++++++++++++++++++++++++++++++++++++++++++++| 99% ~00s           |++++++++++++++++++++++++++++++++++++++++++++++++++| 100% elapsed=28s  \n",
      "  |                                                  | 0 % ~calculating   |+                                                 | 1 % ~41s           |++                                                | 3 % ~32s           |+++                                               | 4 % ~29s           |+++                                               | 6 % ~27s           |++++                                              | 7 % ~26s           |+++++                                             | 8 % ~25s           |+++++                                             | 10% ~24s           |++++++                                            | 11% ~24s           |+++++++                                           | 13% ~23s           |++++++++                                          | 14% ~23s           |++++++++                                          | 15% ~22s           |+++++++++                                         | 17% ~22s           |++++++++++                                        | 18% ~21s           |++++++++++                                        | 20% ~21s           |+++++++++++                                       | 21% ~20s           |++++++++++++                                      | 23% ~20s           |++++++++++++                                      | 24% ~19s           |+++++++++++++                                     | 25% ~19s           |++++++++++++++                                    | 27% ~19s           |+++++++++++++++                                   | 28% ~18s           |+++++++++++++++                                   | 30% ~18s           |++++++++++++++++                                  | 31% ~17s           |+++++++++++++++++                                 | 32% ~17s           |+++++++++++++++++                                 | 34% ~17s           |++++++++++++++++++                                | 35% ~17s           |+++++++++++++++++++                               | 37% ~16s           |++++++++++++++++++++                              | 38% ~16s           |++++++++++++++++++++                              | 39% ~16s           |+++++++++++++++++++++                             | 41% ~16s           |++++++++++++++++++++++                            | 42% ~15s           |++++++++++++++++++++++                            | 44% ~15s           |+++++++++++++++++++++++                           | 45% ~15s           |++++++++++++++++++++++++                          | 46% ~14s           |++++++++++++++++++++++++                          | 48% ~14s           |+++++++++++++++++++++++++                         | 49% ~14s           |++++++++++++++++++++++++++                        | 51% ~13s           |+++++++++++++++++++++++++++                       | 52% ~13s           |+++++++++++++++++++++++++++                       | 54% ~12s           |++++++++++++++++++++++++++++                      | 55% ~12s           |+++++++++++++++++++++++++++++                     | 56% ~12s           |+++++++++++++++++++++++++++++                     | 58% ~11s           |++++++++++++++++++++++++++++++                    | 59% ~11s           |+++++++++++++++++++++++++++++++                   | 61% ~10s           |+++++++++++++++++++++++++++++++                   | 62% ~10s           |++++++++++++++++++++++++++++++++                  | 63% ~10s           |+++++++++++++++++++++++++++++++++                 | 65% ~09s           |++++++++++++++++++++++++++++++++++                | 66% ~09s           |++++++++++++++++++++++++++++++++++                | 68% ~08s           |+++++++++++++++++++++++++++++++++++               | 69% ~08s           |++++++++++++++++++++++++++++++++++++              | 70% ~08s           |++++++++++++++++++++++++++++++++++++              | 72% ~07s           |+++++++++++++++++++++++++++++++++++++             | 73% ~07s           |++++++++++++++++++++++++++++++++++++++            | 75% ~07s           |+++++++++++++++++++++++++++++++++++++++           | 76% ~06s           |+++++++++++++++++++++++++++++++++++++++           | 77% ~06s           |++++++++++++++++++++++++++++++++++++++++          | 79% ~06s           |+++++++++++++++++++++++++++++++++++++++++         | 80% ~05s           |+++++++++++++++++++++++++++++++++++++++++         | 82% ~05s           |++++++++++++++++++++++++++++++++++++++++++        | 83% ~04s           |+++++++++++++++++++++++++++++++++++++++++++       | 85% ~04s           |+++++++++++++++++++++++++++++++++++++++++++       | 86% ~04s           |++++++++++++++++++++++++++++++++++++++++++++      | 87% ~03s           |+++++++++++++++++++++++++++++++++++++++++++++     | 89% ~03s           |++++++++++++++++++++++++++++++++++++++++++++++    | 90% ~03s           |++++++++++++++++++++++++++++++++++++++++++++++    | 92% ~02s           |+++++++++++++++++++++++++++++++++++++++++++++++   | 93% ~02s           |++++++++++++++++++++++++++++++++++++++++++++++++  | 94% ~01s           |++++++++++++++++++++++++++++++++++++++++++++++++  | 96% ~01s           |+++++++++++++++++++++++++++++++++++++++++++++++++ | 97% ~01s           |++++++++++++++++++++++++++++++++++++++++++++++++++| 99% ~00s           |++++++++++++++++++++++++++++++++++++++++++++++++++| 100% elapsed=26s  \n",
      "  |                                                  | 0 % ~calculating   |+                                                 | 1 % ~21s           |++                                                | 2 % ~21s           |++                                                | 3 % ~21s           |+++                                               | 4 % ~21s           |+++                                               | 5 % ~21s           |++++                                              | 6 % ~21s           |++++                                              | 7 % ~21s           |+++++                                             | 8 % ~20s           |+++++                                             | 9 % ~20s           |++++++                                            | 10% ~20s           |++++++                                            | 11% ~20s           |+++++++                                           | 12% ~19s           |+++++++                                           | 13% ~19s           |++++++++                                          | 14% ~19s           |++++++++                                          | 15% ~19s           |+++++++++                                         | 16% ~18s           |+++++++++                                         | 18% ~18s           |++++++++++                                        | 19% ~18s           |++++++++++                                        | 20% ~18s           |+++++++++++                                       | 21% ~17s           |+++++++++++                                       | 22% ~17s           |++++++++++++                                      | 23% ~17s           |++++++++++++                                      | 24% ~17s           |+++++++++++++                                     | 25% ~16s           |+++++++++++++                                     | 26% ~16s           |++++++++++++++                                    | 27% ~16s           |++++++++++++++                                    | 28% ~16s           |+++++++++++++++                                   | 29% ~15s           |+++++++++++++++                                   | 30% ~15s           |++++++++++++++++                                  | 31% ~15s           |++++++++++++++++                                  | 32% ~15s           |+++++++++++++++++                                 | 33% ~14s           |++++++++++++++++++                                | 34% ~14s           |++++++++++++++++++                                | 35% ~14s           |+++++++++++++++++++                               | 36% ~14s           |+++++++++++++++++++                               | 37% ~13s           |++++++++++++++++++++                              | 38% ~13s           |++++++++++++++++++++                              | 39% ~13s           |+++++++++++++++++++++                             | 40% ~13s           |+++++++++++++++++++++                             | 41% ~13s           |++++++++++++++++++++++                            | 42% ~13s           |++++++++++++++++++++++                            | 43% ~12s           |+++++++++++++++++++++++                           | 44% ~12s           |+++++++++++++++++++++++                           | 45% ~12s           |++++++++++++++++++++++++                          | 46% ~12s           |++++++++++++++++++++++++                          | 47% ~11s           |+++++++++++++++++++++++++                         | 48% ~11s           |+++++++++++++++++++++++++                         | 49% ~11s           |++++++++++++++++++++++++++                        | 51% ~11s           |++++++++++++++++++++++++++                        | 52% ~11s           |+++++++++++++++++++++++++++                       | 53% ~10s           |+++++++++++++++++++++++++++                       | 54% ~10s           |++++++++++++++++++++++++++++                      | 55% ~10s           |++++++++++++++++++++++++++++                      | 56% ~10s           |+++++++++++++++++++++++++++++                     | 57% ~09s           |+++++++++++++++++++++++++++++                     | 58% ~09s           |++++++++++++++++++++++++++++++                    | 59% ~09s           |++++++++++++++++++++++++++++++                    | 60% ~09s           |+++++++++++++++++++++++++++++++                   | 61% ~08s           |+++++++++++++++++++++++++++++++                   | 62% ~08s           |++++++++++++++++++++++++++++++++                  | 63% ~08s           |++++++++++++++++++++++++++++++++                  | 64% ~08s           |+++++++++++++++++++++++++++++++++                 | 65% ~08s           |+++++++++++++++++++++++++++++++++                 | 66% ~07s           |++++++++++++++++++++++++++++++++++                | 67% ~07s           |+++++++++++++++++++++++++++++++++++               | 68% ~07s           |+++++++++++++++++++++++++++++++++++               | 69% ~07s           |++++++++++++++++++++++++++++++++++++              | 70% ~06s           |++++++++++++++++++++++++++++++++++++              | 71% ~06s           |+++++++++++++++++++++++++++++++++++++             | 72% ~06s           |+++++++++++++++++++++++++++++++++++++             | 73% ~06s           |++++++++++++++++++++++++++++++++++++++            | 74% ~06s           |++++++++++++++++++++++++++++++++++++++            | 75% ~05s           |+++++++++++++++++++++++++++++++++++++++           | 76% ~05s           |+++++++++++++++++++++++++++++++++++++++           | 77% ~05s           |++++++++++++++++++++++++++++++++++++++++          | 78% ~05s           |++++++++++++++++++++++++++++++++++++++++          | 79% ~04s           |+++++++++++++++++++++++++++++++++++++++++         | 80% ~04s           |+++++++++++++++++++++++++++++++++++++++++         | 81% ~04s           |++++++++++++++++++++++++++++++++++++++++++        | 82% ~04s           |++++++++++++++++++++++++++++++++++++++++++        | 84% ~04s           |+++++++++++++++++++++++++++++++++++++++++++       | 85% ~03s           |+++++++++++++++++++++++++++++++++++++++++++       | 86% ~03s           |++++++++++++++++++++++++++++++++++++++++++++      | 87% ~03s           |++++++++++++++++++++++++++++++++++++++++++++      | 88% ~03s           |+++++++++++++++++++++++++++++++++++++++++++++     | 89% ~02s           |+++++++++++++++++++++++++++++++++++++++++++++     | 90% ~02s           |++++++++++++++++++++++++++++++++++++++++++++++    | 91% ~02s           |++++++++++++++++++++++++++++++++++++++++++++++    | 92% ~02s           |+++++++++++++++++++++++++++++++++++++++++++++++   | 93% ~02s           |+++++++++++++++++++++++++++++++++++++++++++++++   | 94% ~01s           |++++++++++++++++++++++++++++++++++++++++++++++++  | 95% ~01s           |++++++++++++++++++++++++++++++++++++++++++++++++  | 96% ~01s           |+++++++++++++++++++++++++++++++++++++++++++++++++ | 97% ~01s           |+++++++++++++++++++++++++++++++++++++++++++++++++ | 98% ~00s           |++++++++++++++++++++++++++++++++++++++++++++++++++| 99% ~00s           |++++++++++++++++++++++++++++++++++++++++++++++++++| 100% elapsed=22s  \n",
      "  |                                                  | 0 % ~calculating   |+                                                 | 1 % ~34s           |++                                                | 2 % ~31s           |++                                                | 3 % ~31s           |+++                                               | 4 % ~31s           |+++                                               | 5 % ~30s           |++++                                              | 6 % ~29s           |++++                                              | 7 % ~29s           |+++++                                             | 9 % ~29s           |+++++                                             | 10% ~29s           |++++++                                            | 11% ~28s           |++++++                                            | 12% ~28s           |+++++++                                           | 13% ~28s           |+++++++                                           | 14% ~27s           |++++++++                                          | 15% ~27s           |++++++++                                          | 16% ~26s           |+++++++++                                         | 17% ~26s           |++++++++++                                        | 18% ~26s           |++++++++++                                        | 19% ~26s           |+++++++++++                                       | 20% ~25s           |+++++++++++                                       | 21% ~25s           |++++++++++++                                      | 22% ~25s           |++++++++++++                                      | 23% ~25s           |+++++++++++++                                     | 24% ~24s           |+++++++++++++                                     | 26% ~24s           |++++++++++++++                                    | 27% ~24s           |++++++++++++++                                    | 28% ~23s           |+++++++++++++++                                   | 29% ~23s           |+++++++++++++++                                   | 30% ~23s           |++++++++++++++++                                  | 31% ~22s           |++++++++++++++++                                  | 32% ~22s           |+++++++++++++++++                                 | 33% ~22s           |++++++++++++++++++                                | 34% ~21s           |++++++++++++++++++                                | 35% ~21s           |+++++++++++++++++++                               | 36% ~21s           |+++++++++++++++++++                               | 37% ~20s           |++++++++++++++++++++                              | 38% ~20s           |++++++++++++++++++++                              | 39% ~20s           |+++++++++++++++++++++                             | 40% ~19s           |+++++++++++++++++++++                             | 41% ~19s           |++++++++++++++++++++++                            | 43% ~19s           |++++++++++++++++++++++                            | 44% ~18s           |+++++++++++++++++++++++                           | 45% ~18s           |+++++++++++++++++++++++                           | 46% ~18s           |++++++++++++++++++++++++                          | 47% ~17s           |++++++++++++++++++++++++                          | 48% ~17s           |+++++++++++++++++++++++++                         | 49% ~16s           |+++++++++++++++++++++++++                         | 50% ~16s           |++++++++++++++++++++++++++                        | 51% ~16s           |+++++++++++++++++++++++++++                       | 52% ~15s           |+++++++++++++++++++++++++++                       | 53% ~15s           |++++++++++++++++++++++++++++                      | 54% ~15s           |++++++++++++++++++++++++++++                      | 55% ~14s           |+++++++++++++++++++++++++++++                     | 56% ~14s           |+++++++++++++++++++++++++++++                     | 57% ~14s           |++++++++++++++++++++++++++++++                    | 59% ~13s           |++++++++++++++++++++++++++++++                    | 60% ~13s           |+++++++++++++++++++++++++++++++                   | 61% ~13s           |+++++++++++++++++++++++++++++++                   | 62% ~12s           |++++++++++++++++++++++++++++++++                  | 63% ~12s           |++++++++++++++++++++++++++++++++                  | 64% ~12s           |+++++++++++++++++++++++++++++++++                 | 65% ~11s           |+++++++++++++++++++++++++++++++++                 | 66% ~11s           |++++++++++++++++++++++++++++++++++                | 67% ~11s           |+++++++++++++++++++++++++++++++++++               | 68% ~10s           |+++++++++++++++++++++++++++++++++++               | 69% ~10s           |++++++++++++++++++++++++++++++++++++              | 70% ~10s           |++++++++++++++++++++++++++++++++++++              | 71% ~09s           |+++++++++++++++++++++++++++++++++++++             | 72% ~09s           |+++++++++++++++++++++++++++++++++++++             | 73% ~09s           |++++++++++++++++++++++++++++++++++++++            | 74% ~08s           |++++++++++++++++++++++++++++++++++++++            | 76% ~08s           |+++++++++++++++++++++++++++++++++++++++           | 77% ~07s           |+++++++++++++++++++++++++++++++++++++++           | 78% ~07s           |++++++++++++++++++++++++++++++++++++++++          | 79% ~07s           |++++++++++++++++++++++++++++++++++++++++          | 80% ~07s           |+++++++++++++++++++++++++++++++++++++++++         | 81% ~06s           |+++++++++++++++++++++++++++++++++++++++++         | 82% ~06s           |++++++++++++++++++++++++++++++++++++++++++        | 83% ~06s           |+++++++++++++++++++++++++++++++++++++++++++       | 84% ~05s           |+++++++++++++++++++++++++++++++++++++++++++       | 85% ~05s           |++++++++++++++++++++++++++++++++++++++++++++      | 86% ~05s           |++++++++++++++++++++++++++++++++++++++++++++      | 87% ~04s           |+++++++++++++++++++++++++++++++++++++++++++++     | 88% ~04s           |+++++++++++++++++++++++++++++++++++++++++++++     | 89% ~04s           |++++++++++++++++++++++++++++++++++++++++++++++    | 90% ~03s           |++++++++++++++++++++++++++++++++++++++++++++++    | 91% ~03s           |+++++++++++++++++++++++++++++++++++++++++++++++   | 93% ~03s           |+++++++++++++++++++++++++++++++++++++++++++++++   | 94% ~02s           |++++++++++++++++++++++++++++++++++++++++++++++++  | 95% ~02s           |++++++++++++++++++++++++++++++++++++++++++++++++  | 96% ~01s           |+++++++++++++++++++++++++++++++++++++++++++++++++ | 97% ~01s           |+++++++++++++++++++++++++++++++++++++++++++++++++ | 98% ~01s           |++++++++++++++++++++++++++++++++++++++++++++++++++| 99% ~00s           |++++++++++++++++++++++++++++++++++++++++++++++++++| 100% elapsed=34s  \n",
      "  |                                                  | 0 % ~calculating   |+                                                 | 1 % ~27s           |++                                                | 3 % ~27s           |++                                                | 4 % ~26s           |+++                                               | 5 % ~26s           |++++                                              | 6 % ~26s           |++++                                              | 8 % ~25s           |+++++                                             | 9 % ~25s           |++++++                                            | 10% ~24s           |++++++                                            | 12% ~24s           |+++++++                                           | 13% ~23s           |++++++++                                          | 14% ~23s           |++++++++                                          | 16% ~23s           |+++++++++                                         | 17% ~23s           |++++++++++                                        | 18% ~22s           |++++++++++                                        | 19% ~22s           |+++++++++++                                       | 21% ~22s           |++++++++++++                                      | 22% ~21s           |++++++++++++                                      | 23% ~21s           |+++++++++++++                                     | 25% ~20s           |+++++++++++++                                     | 26% ~20s           |++++++++++++++                                    | 27% ~20s           |+++++++++++++++                                   | 29% ~19s           |+++++++++++++++                                   | 30% ~19s           |++++++++++++++++                                  | 31% ~19s           |+++++++++++++++++                                 | 32% ~18s           |+++++++++++++++++                                 | 34% ~18s           |++++++++++++++++++                                | 35% ~18s           |+++++++++++++++++++                               | 36% ~17s           |+++++++++++++++++++                               | 38% ~17s           |++++++++++++++++++++                              | 39% ~17s           |+++++++++++++++++++++                             | 40% ~17s           |+++++++++++++++++++++                             | 42% ~17s           |++++++++++++++++++++++                            | 43% ~16s           |+++++++++++++++++++++++                           | 44% ~16s           |+++++++++++++++++++++++                           | 45% ~16s           |++++++++++++++++++++++++                          | 47% ~15s           |+++++++++++++++++++++++++                         | 48% ~15s           |+++++++++++++++++++++++++                         | 49% ~15s           |++++++++++++++++++++++++++                        | 51% ~14s           |++++++++++++++++++++++++++                        | 52% ~14s           |+++++++++++++++++++++++++++                       | 53% ~13s           |++++++++++++++++++++++++++++                      | 55% ~13s           |++++++++++++++++++++++++++++                      | 56% ~13s           |+++++++++++++++++++++++++++++                     | 57% ~13s           |++++++++++++++++++++++++++++++                    | 58% ~13s           |++++++++++++++++++++++++++++++                    | 60% ~13s           |+++++++++++++++++++++++++++++++                   | 61% ~12s           |++++++++++++++++++++++++++++++++                  | 62% ~12s           |++++++++++++++++++++++++++++++++                  | 64% ~12s           |+++++++++++++++++++++++++++++++++                 | 65% ~11s           |++++++++++++++++++++++++++++++++++                | 66% ~11s           |++++++++++++++++++++++++++++++++++                | 68% ~10s           |+++++++++++++++++++++++++++++++++++               | 69% ~10s           |++++++++++++++++++++++++++++++++++++              | 70% ~09s           |++++++++++++++++++++++++++++++++++++              | 71% ~09s           |+++++++++++++++++++++++++++++++++++++             | 73% ~09s           |++++++++++++++++++++++++++++++++++++++            | 74% ~08s           |++++++++++++++++++++++++++++++++++++++            | 75% ~08s           |+++++++++++++++++++++++++++++++++++++++           | 77% ~07s           |+++++++++++++++++++++++++++++++++++++++           | 78% ~07s           |++++++++++++++++++++++++++++++++++++++++          | 79% ~06s           |+++++++++++++++++++++++++++++++++++++++++         | 81% ~06s           |+++++++++++++++++++++++++++++++++++++++++         | 82% ~06s           |++++++++++++++++++++++++++++++++++++++++++        | 83% ~05s           |+++++++++++++++++++++++++++++++++++++++++++       | 84% ~05s           |+++++++++++++++++++++++++++++++++++++++++++       | 86% ~04s           |++++++++++++++++++++++++++++++++++++++++++++      | 87% ~04s           |+++++++++++++++++++++++++++++++++++++++++++++     | 88% ~04s           |+++++++++++++++++++++++++++++++++++++++++++++     | 90% ~03s           |++++++++++++++++++++++++++++++++++++++++++++++    | 91% ~03s           |+++++++++++++++++++++++++++++++++++++++++++++++   | 92% ~02s           |+++++++++++++++++++++++++++++++++++++++++++++++   | 94% ~02s           |++++++++++++++++++++++++++++++++++++++++++++++++  | 95% ~02s           |+++++++++++++++++++++++++++++++++++++++++++++++++ | 96% ~01s           |+++++++++++++++++++++++++++++++++++++++++++++++++ | 97% ~01s           |++++++++++++++++++++++++++++++++++++++++++++++++++| 99% ~00s           |++++++++++++++++++++++++++++++++++++++++++++++++++| 100% elapsed=30s  \n",
      "  |                                                  | 0 % ~calculating   |+                                                 | 1 % ~21s           |++                                                | 2 % ~20s           |++                                                | 4 % ~20s           |+++                                               | 5 % ~19s           |+++                                               | 6 % ~19s           |++++                                              | 7 % ~19s           |+++++                                             | 8 % ~19s           |+++++                                             | 10% ~19s           |++++++                                            | 11% ~18s           |++++++                                            | 12% ~18s           |+++++++                                           | 13% ~17s           |++++++++                                          | 14% ~17s           |++++++++                                          | 15% ~17s           |+++++++++                                         | 17% ~17s           |+++++++++                                         | 18% ~16s           |++++++++++                                        | 19% ~16s           |+++++++++++                                       | 20% ~16s           |+++++++++++                                       | 21% ~16s           |++++++++++++                                      | 23% ~15s           |++++++++++++                                      | 24% ~15s           |+++++++++++++                                     | 25% ~15s           |++++++++++++++                                    | 26% ~15s           |++++++++++++++                                    | 27% ~14s           |+++++++++++++++                                   | 29% ~14s           |+++++++++++++++                                   | 30% ~14s           |++++++++++++++++                                  | 31% ~14s           |+++++++++++++++++                                 | 32% ~13s           |+++++++++++++++++                                 | 33% ~13s           |++++++++++++++++++                                | 35% ~13s           |++++++++++++++++++                                | 36% ~13s           |+++++++++++++++++++                               | 37% ~13s           |++++++++++++++++++++                              | 38% ~13s           |++++++++++++++++++++                              | 39% ~12s           |+++++++++++++++++++++                             | 40% ~12s           |+++++++++++++++++++++                             | 42% ~12s           |++++++++++++++++++++++                            | 43% ~12s           |+++++++++++++++++++++++                           | 44% ~11s           |+++++++++++++++++++++++                           | 45% ~11s           |++++++++++++++++++++++++                          | 46% ~11s           |++++++++++++++++++++++++                          | 48% ~11s           |+++++++++++++++++++++++++                         | 49% ~10s           |+++++++++++++++++++++++++                         | 50% ~10s           |++++++++++++++++++++++++++                        | 51% ~10s           |+++++++++++++++++++++++++++                       | 52% ~10s           |+++++++++++++++++++++++++++                       | 54% ~10s           |++++++++++++++++++++++++++++                      | 55% ~10s           |++++++++++++++++++++++++++++                      | 56% ~10s           |+++++++++++++++++++++++++++++                     | 57% ~10s           |++++++++++++++++++++++++++++++                    | 58% ~10s           |++++++++++++++++++++++++++++++                    | 60% ~10s           |+++++++++++++++++++++++++++++++                   | 61% ~09s           |+++++++++++++++++++++++++++++++                   | 62% ~09s           |++++++++++++++++++++++++++++++++                  | 63% ~09s           |+++++++++++++++++++++++++++++++++                 | 64% ~08s           |+++++++++++++++++++++++++++++++++                 | 65% ~08s           |++++++++++++++++++++++++++++++++++                | 67% ~08s           |++++++++++++++++++++++++++++++++++                | 68% ~07s           |+++++++++++++++++++++++++++++++++++               | 69% ~07s           |++++++++++++++++++++++++++++++++++++              | 70% ~07s           |++++++++++++++++++++++++++++++++++++              | 71% ~07s           |+++++++++++++++++++++++++++++++++++++             | 73% ~06s           |+++++++++++++++++++++++++++++++++++++             | 74% ~06s           |++++++++++++++++++++++++++++++++++++++            | 75% ~06s           |+++++++++++++++++++++++++++++++++++++++           | 76% ~05s           |+++++++++++++++++++++++++++++++++++++++           | 77% ~05s           |++++++++++++++++++++++++++++++++++++++++          | 79% ~05s           |++++++++++++++++++++++++++++++++++++++++          | 80% ~05s           |+++++++++++++++++++++++++++++++++++++++++         | 81% ~04s           |++++++++++++++++++++++++++++++++++++++++++        | 82% ~04s           |++++++++++++++++++++++++++++++++++++++++++        | 83% ~04s           |+++++++++++++++++++++++++++++++++++++++++++       | 85% ~04s           |+++++++++++++++++++++++++++++++++++++++++++       | 86% ~03s           |++++++++++++++++++++++++++++++++++++++++++++      | 87% ~03s           |+++++++++++++++++++++++++++++++++++++++++++++     | 88% ~03s           |+++++++++++++++++++++++++++++++++++++++++++++     | 89% ~02s           |++++++++++++++++++++++++++++++++++++++++++++++    | 90% ~02s           |++++++++++++++++++++++++++++++++++++++++++++++    | 92% ~02s           |+++++++++++++++++++++++++++++++++++++++++++++++   | 93% ~02s           |++++++++++++++++++++++++++++++++++++++++++++++++  | 94% ~01s           |++++++++++++++++++++++++++++++++++++++++++++++++  | 95% ~01s           |+++++++++++++++++++++++++++++++++++++++++++++++++ | 96% ~01s           |+++++++++++++++++++++++++++++++++++++++++++++++++ | 98% ~01s           |++++++++++++++++++++++++++++++++++++++++++++++++++| 99% ~00s           |++++++++++++++++++++++++++++++++++++++++++++++++++| 100% elapsed=22s  \n",
      "  |                                                  | 0 % ~calculating   |+                                                 | 1 % ~18s           |++                                                | 3 % ~18s           |++                                                | 4 % ~18s           |+++                                               | 5 % ~18s           |++++                                              | 6 % ~18s           |++++                                              | 8 % ~17s           |+++++                                             | 9 % ~17s           |++++++                                            | 10% ~17s           |++++++                                            | 12% ~17s           |+++++++                                           | 13% ~16s           |++++++++                                          | 14% ~16s           |++++++++                                          | 15% ~16s           |+++++++++                                         | 17% ~15s           |+++++++++                                         | 18% ~15s           |++++++++++                                        | 19% ~15s           |+++++++++++                                       | 21% ~15s           |+++++++++++                                       | 22% ~14s           |++++++++++++                                      | 23% ~14s           |+++++++++++++                                     | 24% ~14s           |+++++++++++++                                     | 26% ~14s           |++++++++++++++                                    | 27% ~14s           |+++++++++++++++                                   | 28% ~14s           |+++++++++++++++                                   | 29% ~13s           |++++++++++++++++                                  | 31% ~13s           |+++++++++++++++++                                 | 32% ~13s           |+++++++++++++++++                                 | 33% ~13s           |++++++++++++++++++                                | 35% ~13s           |++++++++++++++++++                                | 36% ~13s           |+++++++++++++++++++                               | 37% ~13s           |++++++++++++++++++++                              | 38% ~12s           |++++++++++++++++++++                              | 40% ~12s           |+++++++++++++++++++++                             | 41% ~12s           |++++++++++++++++++++++                            | 42% ~12s           |++++++++++++++++++++++                            | 44% ~11s           |+++++++++++++++++++++++                           | 45% ~11s           |++++++++++++++++++++++++                          | 46% ~11s           |++++++++++++++++++++++++                          | 47% ~10s           |+++++++++++++++++++++++++                         | 49% ~10s           |+++++++++++++++++++++++++                         | 50% ~10s           |++++++++++++++++++++++++++                        | 51% ~10s           |+++++++++++++++++++++++++++                       | 53% ~09s           |+++++++++++++++++++++++++++                       | 54% ~09s           |++++++++++++++++++++++++++++                      | 55% ~09s           |+++++++++++++++++++++++++++++                     | 56% ~09s           |+++++++++++++++++++++++++++++                     | 58% ~08s           |++++++++++++++++++++++++++++++                    | 59% ~08s           |+++++++++++++++++++++++++++++++                   | 60% ~08s           |+++++++++++++++++++++++++++++++                   | 62% ~08s           |++++++++++++++++++++++++++++++++                  | 63% ~07s           |+++++++++++++++++++++++++++++++++                 | 64% ~07s           |+++++++++++++++++++++++++++++++++                 | 65% ~07s           |++++++++++++++++++++++++++++++++++                | 67% ~07s           |++++++++++++++++++++++++++++++++++                | 68% ~07s           |+++++++++++++++++++++++++++++++++++               | 69% ~07s           |++++++++++++++++++++++++++++++++++++              | 71% ~06s           |++++++++++++++++++++++++++++++++++++              | 72% ~06s           |+++++++++++++++++++++++++++++++++++++             | 73% ~06s           |++++++++++++++++++++++++++++++++++++++            | 74% ~06s           |++++++++++++++++++++++++++++++++++++++            | 76% ~05s           |+++++++++++++++++++++++++++++++++++++++           | 77% ~05s           |++++++++++++++++++++++++++++++++++++++++          | 78% ~05s           |++++++++++++++++++++++++++++++++++++++++          | 79% ~05s           |+++++++++++++++++++++++++++++++++++++++++         | 81% ~04s           |++++++++++++++++++++++++++++++++++++++++++        | 82% ~04s           |++++++++++++++++++++++++++++++++++++++++++        | 83% ~04s           |+++++++++++++++++++++++++++++++++++++++++++       | 85% ~03s           |+++++++++++++++++++++++++++++++++++++++++++       | 86% ~03s           |++++++++++++++++++++++++++++++++++++++++++++      | 87% ~03s           |+++++++++++++++++++++++++++++++++++++++++++++     | 88% ~03s           |+++++++++++++++++++++++++++++++++++++++++++++     | 90% ~02s           |++++++++++++++++++++++++++++++++++++++++++++++    | 91% ~02s           |+++++++++++++++++++++++++++++++++++++++++++++++   | 92% ~02s           |+++++++++++++++++++++++++++++++++++++++++++++++   | 94% ~01s           |++++++++++++++++++++++++++++++++++++++++++++++++  | 95% ~01s           |+++++++++++++++++++++++++++++++++++++++++++++++++ | 96% ~01s           |+++++++++++++++++++++++++++++++++++++++++++++++++ | 97% ~01s           |++++++++++++++++++++++++++++++++++++++++++++++++++| 99% ~00s           |++++++++++++++++++++++++++++++++++++++++++++++++++| 100% elapsed=22s  \n",
      "  |                                                  | 0 % ~calculating   |+                                                 | 1 % ~24s           |++                                                | 2 % ~23s           |++                                                | 3 % ~23s           |+++                                               | 4 % ~22s           |+++                                               | 5 % ~23s           |++++                                              | 6 % ~22s           |++++                                              | 7 % ~22s           |+++++                                             | 8 % ~21s           |+++++                                             | 9 % ~21s           |++++++                                            | 10% ~21s           |++++++                                            | 11% ~20s           |+++++++                                           | 12% ~20s           |+++++++                                           | 13% ~20s           |++++++++                                          | 14% ~20s           |++++++++                                          | 15% ~20s           |+++++++++                                         | 16% ~19s           |+++++++++                                         | 18% ~19s           |++++++++++                                        | 19% ~19s           |++++++++++                                        | 20% ~18s           |+++++++++++                                       | 21% ~18s           |+++++++++++                                       | 22% ~18s           |++++++++++++                                      | 23% ~18s           |++++++++++++                                      | 24% ~18s           |+++++++++++++                                     | 25% ~17s           |+++++++++++++                                     | 26% ~17s           |++++++++++++++                                    | 27% ~17s           |++++++++++++++                                    | 28% ~17s           |+++++++++++++++                                   | 29% ~16s           |+++++++++++++++                                   | 30% ~16s           |++++++++++++++++                                  | 31% ~16s           |++++++++++++++++                                  | 32% ~16s           |+++++++++++++++++                                 | 33% ~16s           |++++++++++++++++++                                | 34% ~15s           |++++++++++++++++++                                | 35% ~15s           |+++++++++++++++++++                               | 36% ~15s           |+++++++++++++++++++                               | 37% ~15s           |++++++++++++++++++++                              | 38% ~14s           |++++++++++++++++++++                              | 39% ~14s           |+++++++++++++++++++++                             | 40% ~14s           |+++++++++++++++++++++                             | 41% ~14s           |++++++++++++++++++++++                            | 42% ~14s           |++++++++++++++++++++++                            | 43% ~13s           |+++++++++++++++++++++++                           | 44% ~13s           |+++++++++++++++++++++++                           | 45% ~13s           |++++++++++++++++++++++++                          | 46% ~13s           |++++++++++++++++++++++++                          | 47% ~12s           |+++++++++++++++++++++++++                         | 48% ~12s           |+++++++++++++++++++++++++                         | 49% ~12s           |++++++++++++++++++++++++++                        | 51% ~12s           |++++++++++++++++++++++++++                        | 52% ~11s           |+++++++++++++++++++++++++++                       | 53% ~11s           |+++++++++++++++++++++++++++                       | 54% ~11s           |++++++++++++++++++++++++++++                      | 55% ~11s           |++++++++++++++++++++++++++++                      | 56% ~10s           |+++++++++++++++++++++++++++++                     | 57% ~10s           |+++++++++++++++++++++++++++++                     | 58% ~10s           |++++++++++++++++++++++++++++++                    | 59% ~10s           |++++++++++++++++++++++++++++++                    | 60% ~09s           |+++++++++++++++++++++++++++++++                   | 61% ~09s           |+++++++++++++++++++++++++++++++                   | 62% ~09s           |++++++++++++++++++++++++++++++++                  | 63% ~09s           |++++++++++++++++++++++++++++++++                  | 64% ~09s           |+++++++++++++++++++++++++++++++++                 | 65% ~08s           |+++++++++++++++++++++++++++++++++                 | 66% ~08s           |++++++++++++++++++++++++++++++++++                | 67% ~08s           |+++++++++++++++++++++++++++++++++++               | 68% ~08s           |+++++++++++++++++++++++++++++++++++               | 69% ~08s           |++++++++++++++++++++++++++++++++++++              | 70% ~07s           |++++++++++++++++++++++++++++++++++++              | 71% ~07s           |+++++++++++++++++++++++++++++++++++++             | 72% ~07s           |+++++++++++++++++++++++++++++++++++++             | 73% ~07s           |++++++++++++++++++++++++++++++++++++++            | 74% ~07s           |++++++++++++++++++++++++++++++++++++++            | 75% ~06s           |+++++++++++++++++++++++++++++++++++++++           | 76% ~06s           |+++++++++++++++++++++++++++++++++++++++           | 77% ~06s           |++++++++++++++++++++++++++++++++++++++++          | 78% ~06s           |++++++++++++++++++++++++++++++++++++++++          | 79% ~05s           |+++++++++++++++++++++++++++++++++++++++++         | 80% ~05s           |+++++++++++++++++++++++++++++++++++++++++         | 81% ~05s           |++++++++++++++++++++++++++++++++++++++++++        | 82% ~05s           |++++++++++++++++++++++++++++++++++++++++++        | 84% ~04s           |+++++++++++++++++++++++++++++++++++++++++++       | 85% ~04s           |+++++++++++++++++++++++++++++++++++++++++++       | 86% ~04s           |++++++++++++++++++++++++++++++++++++++++++++      | 87% ~03s           |++++++++++++++++++++++++++++++++++++++++++++      | 88% ~03s           |+++++++++++++++++++++++++++++++++++++++++++++     | 89% ~03s           |+++++++++++++++++++++++++++++++++++++++++++++     | 90% ~03s           |++++++++++++++++++++++++++++++++++++++++++++++    | 91% ~02s           |++++++++++++++++++++++++++++++++++++++++++++++    | 92% ~02s           |+++++++++++++++++++++++++++++++++++++++++++++++   | 93% ~02s           |+++++++++++++++++++++++++++++++++++++++++++++++   | 94% ~02s           |++++++++++++++++++++++++++++++++++++++++++++++++  | 95% ~01s           |++++++++++++++++++++++++++++++++++++++++++++++++  | 96% ~01s           |+++++++++++++++++++++++++++++++++++++++++++++++++ | 97% ~01s           |+++++++++++++++++++++++++++++++++++++++++++++++++ | 98% ~01s           |++++++++++++++++++++++++++++++++++++++++++++++++++| 99% ~00s           |++++++++++++++++++++++++++++++++++++++++++++++++++| 100% elapsed=26s  \n",
      "  |                                                  | 0 % ~calculating   |+                                                 | 1 % ~25s           |++                                                | 2 % ~23s           |++                                                | 3 % ~22s           |+++                                               | 4 % ~22s           |+++                                               | 5 % ~22s           |++++                                              | 6 % ~22s           |++++                                              | 7 % ~21s           |+++++                                             | 8 % ~21s           |+++++                                             | 9 % ~21s           |++++++                                            | 10% ~21s           |++++++                                            | 11% ~20s           |+++++++                                           | 12% ~20s           |+++++++                                           | 13% ~20s           |++++++++                                          | 14% ~20s           |++++++++                                          | 15% ~20s           |+++++++++                                         | 16% ~19s           |+++++++++                                         | 17% ~19s           |++++++++++                                        | 18% ~19s           |++++++++++                                        | 19% ~19s           |+++++++++++                                       | 20% ~18s           |+++++++++++                                       | 21% ~18s           |++++++++++++                                      | 22% ~18s           |++++++++++++                                      | 23% ~18s           |+++++++++++++                                     | 24% ~18s           |+++++++++++++                                     | 26% ~17s           |++++++++++++++                                    | 27% ~17s           |++++++++++++++                                    | 28% ~17s           |+++++++++++++++                                   | 29% ~17s           |+++++++++++++++                                   | 30% ~16s           |++++++++++++++++                                  | 31% ~16s           |++++++++++++++++                                  | 32% ~16s           |+++++++++++++++++                                 | 33% ~16s           |+++++++++++++++++                                 | 34% ~15s           |++++++++++++++++++                                | 35% ~15s           |++++++++++++++++++                                | 36% ~15s           |+++++++++++++++++++                               | 37% ~15s           |+++++++++++++++++++                               | 38% ~15s           |++++++++++++++++++++                              | 39% ~15s           |++++++++++++++++++++                              | 40% ~15s           |+++++++++++++++++++++                             | 41% ~15s           |+++++++++++++++++++++                             | 42% ~14s           |++++++++++++++++++++++                            | 43% ~14s           |++++++++++++++++++++++                            | 44% ~14s           |+++++++++++++++++++++++                           | 45% ~14s           |+++++++++++++++++++++++                           | 46% ~13s           |++++++++++++++++++++++++                          | 47% ~13s           |++++++++++++++++++++++++                          | 48% ~13s           |+++++++++++++++++++++++++                         | 49% ~13s           |+++++++++++++++++++++++++                         | 50% ~12s           |++++++++++++++++++++++++++                        | 51% ~12s           |+++++++++++++++++++++++++++                       | 52% ~12s           |+++++++++++++++++++++++++++                       | 53% ~11s           |++++++++++++++++++++++++++++                      | 54% ~11s           |++++++++++++++++++++++++++++                      | 55% ~11s           |+++++++++++++++++++++++++++++                     | 56% ~11s           |+++++++++++++++++++++++++++++                     | 57% ~10s           |++++++++++++++++++++++++++++++                    | 58% ~10s           |++++++++++++++++++++++++++++++                    | 59% ~10s           |+++++++++++++++++++++++++++++++                   | 60% ~10s           |+++++++++++++++++++++++++++++++                   | 61% ~10s           |++++++++++++++++++++++++++++++++                  | 62% ~10s           |++++++++++++++++++++++++++++++++                  | 63% ~09s           |+++++++++++++++++++++++++++++++++                 | 64% ~09s           |+++++++++++++++++++++++++++++++++                 | 65% ~09s           |++++++++++++++++++++++++++++++++++                | 66% ~09s           |++++++++++++++++++++++++++++++++++                | 67% ~09s           |+++++++++++++++++++++++++++++++++++               | 68% ~09s           |+++++++++++++++++++++++++++++++++++               | 69% ~08s           |++++++++++++++++++++++++++++++++++++              | 70% ~08s           |++++++++++++++++++++++++++++++++++++              | 71% ~08s           |+++++++++++++++++++++++++++++++++++++             | 72% ~08s           |+++++++++++++++++++++++++++++++++++++             | 73% ~07s           |++++++++++++++++++++++++++++++++++++++            | 74% ~07s           |++++++++++++++++++++++++++++++++++++++            | 76% ~07s           |+++++++++++++++++++++++++++++++++++++++           | 77% ~06s           |+++++++++++++++++++++++++++++++++++++++           | 78% ~06s           |++++++++++++++++++++++++++++++++++++++++          | 79% ~06s           |++++++++++++++++++++++++++++++++++++++++          | 80% ~06s           |+++++++++++++++++++++++++++++++++++++++++         | 81% ~05s           |+++++++++++++++++++++++++++++++++++++++++         | 82% ~05s           |++++++++++++++++++++++++++++++++++++++++++        | 83% ~05s           |++++++++++++++++++++++++++++++++++++++++++        | 84% ~04s           |+++++++++++++++++++++++++++++++++++++++++++       | 85% ~04s           |+++++++++++++++++++++++++++++++++++++++++++       | 86% ~04s           |++++++++++++++++++++++++++++++++++++++++++++      | 87% ~04s           |++++++++++++++++++++++++++++++++++++++++++++      | 88% ~03s           |+++++++++++++++++++++++++++++++++++++++++++++     | 89% ~03s           |+++++++++++++++++++++++++++++++++++++++++++++     | 90% ~03s           |++++++++++++++++++++++++++++++++++++++++++++++    | 91% ~02s           |++++++++++++++++++++++++++++++++++++++++++++++    | 92% ~02s           |+++++++++++++++++++++++++++++++++++++++++++++++   | 93% ~02s           |+++++++++++++++++++++++++++++++++++++++++++++++   | 94% ~02s           |++++++++++++++++++++++++++++++++++++++++++++++++  | 95% ~01s           |++++++++++++++++++++++++++++++++++++++++++++++++  | 96% ~01s           |+++++++++++++++++++++++++++++++++++++++++++++++++ | 97% ~01s           |+++++++++++++++++++++++++++++++++++++++++++++++++ | 98% ~01s           |++++++++++++++++++++++++++++++++++++++++++++++++++| 99% ~00s           |++++++++++++++++++++++++++++++++++++++++++++++++++| 100% elapsed=26s  \n",
      "  |                                                  | 0 % ~calculating   |+                                                 | 1 % ~23s           |++                                                | 2 % ~22s           |++                                                | 3 % ~22s           |+++                                               | 4 % ~23s           |+++                                               | 5 % ~23s           |++++                                              | 6 % ~22s           |++++                                              | 7 % ~22s           |+++++                                             | 8 % ~21s           |+++++                                             | 9 % ~21s           |++++++                                            | 10% ~21s           |++++++                                            | 11% ~21s           |+++++++                                           | 12% ~20s           |+++++++                                           | 13% ~20s           |++++++++                                          | 14% ~20s           |++++++++                                          | 15% ~20s           |+++++++++                                         | 16% ~20s           |+++++++++                                         | 17% ~20s           |++++++++++                                        | 18% ~19s           |++++++++++                                        | 19% ~19s           |+++++++++++                                       | 20% ~19s           |+++++++++++                                       | 21% ~19s           |++++++++++++                                      | 22% ~18s           |++++++++++++                                      | 23% ~18s           |+++++++++++++                                     | 24% ~18s           |+++++++++++++                                     | 25% ~18s           |++++++++++++++                                    | 26% ~18s           |++++++++++++++                                    | 27% ~17s           |+++++++++++++++                                   | 28% ~17s           |+++++++++++++++                                   | 29% ~17s           |++++++++++++++++                                  | 30% ~17s           |++++++++++++++++                                  | 31% ~17s           |+++++++++++++++++                                 | 32% ~16s           |+++++++++++++++++                                 | 33% ~16s           |++++++++++++++++++                                | 34% ~16s           |++++++++++++++++++                                | 35% ~16s           |+++++++++++++++++++                               | 36% ~16s           |+++++++++++++++++++                               | 37% ~16s           |++++++++++++++++++++                              | 38% ~16s           |++++++++++++++++++++                              | 39% ~15s           |+++++++++++++++++++++                             | 40% ~15s           |+++++++++++++++++++++                             | 41% ~15s           |++++++++++++++++++++++                            | 42% ~15s           |++++++++++++++++++++++                            | 43% ~14s           |+++++++++++++++++++++++                           | 44% ~14s           |+++++++++++++++++++++++                           | 45% ~14s           |++++++++++++++++++++++++                          | 46% ~14s           |++++++++++++++++++++++++                          | 47% ~14s           |+++++++++++++++++++++++++                         | 48% ~13s           |+++++++++++++++++++++++++                         | 49% ~13s           |++++++++++++++++++++++++++                        | 51% ~13s           |++++++++++++++++++++++++++                        | 52% ~12s           |+++++++++++++++++++++++++++                       | 53% ~12s           |+++++++++++++++++++++++++++                       | 54% ~12s           |++++++++++++++++++++++++++++                      | 55% ~12s           |++++++++++++++++++++++++++++                      | 56% ~12s           |+++++++++++++++++++++++++++++                     | 57% ~12s           |+++++++++++++++++++++++++++++                     | 58% ~12s           |++++++++++++++++++++++++++++++                    | 59% ~11s           |++++++++++++++++++++++++++++++                    | 60% ~11s           |+++++++++++++++++++++++++++++++                   | 61% ~11s           |+++++++++++++++++++++++++++++++                   | 62% ~11s           |++++++++++++++++++++++++++++++++                  | 63% ~11s           |++++++++++++++++++++++++++++++++                  | 64% ~10s           |+++++++++++++++++++++++++++++++++                 | 65% ~10s           |+++++++++++++++++++++++++++++++++                 | 66% ~10s           |++++++++++++++++++++++++++++++++++                | 67% ~09s           |++++++++++++++++++++++++++++++++++                | 68% ~09s           |+++++++++++++++++++++++++++++++++++               | 69% ~09s           |+++++++++++++++++++++++++++++++++++               | 70% ~09s           |++++++++++++++++++++++++++++++++++++              | 71% ~08s           |++++++++++++++++++++++++++++++++++++              | 72% ~08s           |+++++++++++++++++++++++++++++++++++++             | 73% ~08s           |+++++++++++++++++++++++++++++++++++++             | 74% ~07s           |++++++++++++++++++++++++++++++++++++++            | 75% ~07s           |++++++++++++++++++++++++++++++++++++++            | 76% ~07s           |+++++++++++++++++++++++++++++++++++++++           | 77% ~06s           |+++++++++++++++++++++++++++++++++++++++           | 78% ~06s           |++++++++++++++++++++++++++++++++++++++++          | 79% ~06s           |++++++++++++++++++++++++++++++++++++++++          | 80% ~06s           |+++++++++++++++++++++++++++++++++++++++++         | 81% ~05s           |+++++++++++++++++++++++++++++++++++++++++         | 82% ~05s           |++++++++++++++++++++++++++++++++++++++++++        | 83% ~05s           |++++++++++++++++++++++++++++++++++++++++++        | 84% ~04s           |+++++++++++++++++++++++++++++++++++++++++++       | 85% ~04s           |+++++++++++++++++++++++++++++++++++++++++++       | 86% ~04s           |++++++++++++++++++++++++++++++++++++++++++++      | 87% ~04s           |++++++++++++++++++++++++++++++++++++++++++++      | 88% ~03s           |+++++++++++++++++++++++++++++++++++++++++++++     | 89% ~03s           |+++++++++++++++++++++++++++++++++++++++++++++     | 90% ~03s           |++++++++++++++++++++++++++++++++++++++++++++++    | 91% ~02s           |++++++++++++++++++++++++++++++++++++++++++++++    | 92% ~02s           |+++++++++++++++++++++++++++++++++++++++++++++++   | 93% ~02s           |+++++++++++++++++++++++++++++++++++++++++++++++   | 94% ~02s           |++++++++++++++++++++++++++++++++++++++++++++++++  | 95% ~01s           |++++++++++++++++++++++++++++++++++++++++++++++++  | 96% ~01s           |+++++++++++++++++++++++++++++++++++++++++++++++++ | 97% ~01s           |+++++++++++++++++++++++++++++++++++++++++++++++++ | 98% ~01s           |++++++++++++++++++++++++++++++++++++++++++++++++++| 99% ~00s           |++++++++++++++++++++++++++++++++++++++++++++++++++| 100% elapsed=27s  \n",
      "  |                                                  | 0 % ~calculating   |+                                                 | 1 % ~34s           |++                                                | 3 % ~35s           |++                                                | 4 % ~34s           |+++                                               | 5 % ~33s           |++++                                              | 6 % ~33s           |++++                                              | 8 % ~32s           |+++++                                             | 9 % ~32s           |++++++                                            | 10% ~32s           |++++++                                            | 11% ~32s           |+++++++                                           | 13% ~31s           |+++++++                                           | 14% ~31s           |++++++++                                          | 15% ~30s           |+++++++++                                         | 16% ~30s           |+++++++++                                         | 18% ~29s           |++++++++++                                        | 19% ~29s           |+++++++++++                                       | 20% ~28s           |+++++++++++                                       | 22% ~28s           |++++++++++++                                      | 23% ~28s           |+++++++++++++                                     | 24% ~27s           |+++++++++++++                                     | 25% ~27s           |++++++++++++++                                    | 27% ~26s           |++++++++++++++                                    | 28% ~26s           |+++++++++++++++                                   | 29% ~25s           |++++++++++++++++                                  | 30% ~25s           |++++++++++++++++                                  | 32% ~25s           |+++++++++++++++++                                 | 33% ~24s           |++++++++++++++++++                                | 34% ~25s           |++++++++++++++++++                                | 35% ~25s           |+++++++++++++++++++                               | 37% ~26s           |+++++++++++++++++++                               | 38% ~25s           |++++++++++++++++++++                              | 39% ~25s           |+++++++++++++++++++++                             | 41% ~24s           |+++++++++++++++++++++                             | 42% ~24s           |++++++++++++++++++++++                            | 43% ~23s           |+++++++++++++++++++++++                           | 44% ~23s           |+++++++++++++++++++++++                           | 46% ~22s           |++++++++++++++++++++++++                          | 47% ~21s           |+++++++++++++++++++++++++                         | 48% ~21s           |+++++++++++++++++++++++++                         | 49% ~21s           |++++++++++++++++++++++++++                        | 51% ~20s           |++++++++++++++++++++++++++                        | 52% ~19s           |+++++++++++++++++++++++++++                       | 53% ~19s           |++++++++++++++++++++++++++++                      | 54% ~18s           |++++++++++++++++++++++++++++                      | 56% ~18s           |+++++++++++++++++++++++++++++                     | 57% ~17s           |++++++++++++++++++++++++++++++                    | 58% ~17s           |++++++++++++++++++++++++++++++                    | 59% ~16s           |+++++++++++++++++++++++++++++++                   | 61% ~16s           |++++++++++++++++++++++++++++++++                  | 62% ~15s           |++++++++++++++++++++++++++++++++                  | 63% ~15s           |+++++++++++++++++++++++++++++++++                 | 65% ~14s           |+++++++++++++++++++++++++++++++++                 | 66% ~14s           |++++++++++++++++++++++++++++++++++                | 67% ~13s           |+++++++++++++++++++++++++++++++++++               | 68% ~13s           |+++++++++++++++++++++++++++++++++++               | 70% ~12s           |++++++++++++++++++++++++++++++++++++              | 71% ~12s           |+++++++++++++++++++++++++++++++++++++             | 72% ~11s           |+++++++++++++++++++++++++++++++++++++             | 73% ~10s           |++++++++++++++++++++++++++++++++++++++            | 75% ~10s           |++++++++++++++++++++++++++++++++++++++            | 76% ~09s           |+++++++++++++++++++++++++++++++++++++++           | 77% ~09s           |++++++++++++++++++++++++++++++++++++++++          | 78% ~08s           |++++++++++++++++++++++++++++++++++++++++          | 80% ~08s           |+++++++++++++++++++++++++++++++++++++++++         | 81% ~07s           |++++++++++++++++++++++++++++++++++++++++++        | 82% ~07s           |++++++++++++++++++++++++++++++++++++++++++        | 84% ~06s           |+++++++++++++++++++++++++++++++++++++++++++       | 85% ~06s           |++++++++++++++++++++++++++++++++++++++++++++      | 86% ~05s           |++++++++++++++++++++++++++++++++++++++++++++      | 87% ~05s           |+++++++++++++++++++++++++++++++++++++++++++++     | 89% ~04s           |+++++++++++++++++++++++++++++++++++++++++++++     | 90% ~04s           |++++++++++++++++++++++++++++++++++++++++++++++    | 91% ~03s           |+++++++++++++++++++++++++++++++++++++++++++++++   | 92% ~03s           |+++++++++++++++++++++++++++++++++++++++++++++++   | 94% ~02s           |++++++++++++++++++++++++++++++++++++++++++++++++  | 95% ~02s           |+++++++++++++++++++++++++++++++++++++++++++++++++ | 96% ~01s           |+++++++++++++++++++++++++++++++++++++++++++++++++ | 97% ~01s           |++++++++++++++++++++++++++++++++++++++++++++++++++| 99% ~00s           |++++++++++++++++++++++++++++++++++++++++++++++++++| 100% elapsed=39s  \n",
      "  |                                                  | 0 % ~calculating   |+                                                 | 1 % ~22s           |++                                                | 2 % ~22s           |++                                                | 3 % ~21s           |+++                                               | 4 % ~21s           |+++                                               | 5 % ~20s           |++++                                              | 7 % ~20s           |++++                                              | 8 % ~20s           |+++++                                             | 9 % ~20s           |+++++                                             | 10% ~19s           |++++++                                            | 11% ~20s           |+++++++                                           | 12% ~19s           |+++++++                                           | 13% ~19s           |++++++++                                          | 14% ~19s           |++++++++                                          | 15% ~18s           |+++++++++                                         | 16% ~18s           |+++++++++                                         | 18% ~18s           |++++++++++                                        | 19% ~18s           |++++++++++                                        | 20% ~18s           |+++++++++++                                       | 21% ~17s           |+++++++++++                                       | 22% ~17s           |++++++++++++                                      | 23% ~17s           |+++++++++++++                                     | 24% ~16s           |+++++++++++++                                     | 25% ~16s           |++++++++++++++                                    | 26% ~16s           |++++++++++++++                                    | 27% ~16s           |+++++++++++++++                                   | 29% ~15s           |+++++++++++++++                                   | 30% ~15s           |++++++++++++++++                                  | 31% ~15s           |++++++++++++++++                                  | 32% ~15s           |+++++++++++++++++                                 | 33% ~14s           |++++++++++++++++++                                | 34% ~14s           |++++++++++++++++++                                | 35% ~14s           |+++++++++++++++++++                               | 36% ~14s           |+++++++++++++++++++                               | 37% ~14s           |++++++++++++++++++++                              | 38% ~13s           |++++++++++++++++++++                              | 40% ~13s           |+++++++++++++++++++++                             | 41% ~13s           |+++++++++++++++++++++                             | 42% ~13s           |++++++++++++++++++++++                            | 43% ~13s           |++++++++++++++++++++++                            | 44% ~13s           |+++++++++++++++++++++++                           | 45% ~12s           |++++++++++++++++++++++++                          | 46% ~12s           |++++++++++++++++++++++++                          | 47% ~12s           |+++++++++++++++++++++++++                         | 48% ~12s           |+++++++++++++++++++++++++                         | 49% ~11s           |++++++++++++++++++++++++++                        | 51% ~11s           |++++++++++++++++++++++++++                        | 52% ~11s           |+++++++++++++++++++++++++++                       | 53% ~11s           |+++++++++++++++++++++++++++                       | 54% ~10s           |++++++++++++++++++++++++++++                      | 55% ~10s           |+++++++++++++++++++++++++++++                     | 56% ~10s           |+++++++++++++++++++++++++++++                     | 57% ~10s           |++++++++++++++++++++++++++++++                    | 58% ~09s           |++++++++++++++++++++++++++++++                    | 59% ~09s           |+++++++++++++++++++++++++++++++                   | 60% ~09s           |+++++++++++++++++++++++++++++++                   | 62% ~09s           |++++++++++++++++++++++++++++++++                  | 63% ~08s           |++++++++++++++++++++++++++++++++                  | 64% ~08s           |+++++++++++++++++++++++++++++++++                 | 65% ~08s           |+++++++++++++++++++++++++++++++++                 | 66% ~08s           |++++++++++++++++++++++++++++++++++                | 67% ~07s           |+++++++++++++++++++++++++++++++++++               | 68% ~07s           |+++++++++++++++++++++++++++++++++++               | 69% ~07s           |++++++++++++++++++++++++++++++++++++              | 70% ~07s           |++++++++++++++++++++++++++++++++++++              | 71% ~06s           |+++++++++++++++++++++++++++++++++++++             | 73% ~06s           |+++++++++++++++++++++++++++++++++++++             | 74% ~06s           |++++++++++++++++++++++++++++++++++++++            | 75% ~06s           |++++++++++++++++++++++++++++++++++++++            | 76% ~05s           |+++++++++++++++++++++++++++++++++++++++           | 77% ~05s           |++++++++++++++++++++++++++++++++++++++++          | 78% ~05s           |++++++++++++++++++++++++++++++++++++++++          | 79% ~05s           |+++++++++++++++++++++++++++++++++++++++++         | 80% ~04s           |+++++++++++++++++++++++++++++++++++++++++         | 81% ~04s           |++++++++++++++++++++++++++++++++++++++++++        | 82% ~04s           |++++++++++++++++++++++++++++++++++++++++++        | 84% ~04s           |+++++++++++++++++++++++++++++++++++++++++++       | 85% ~03s           |+++++++++++++++++++++++++++++++++++++++++++       | 86% ~03s           |++++++++++++++++++++++++++++++++++++++++++++      | 87% ~03s           |++++++++++++++++++++++++++++++++++++++++++++      | 88% ~03s           |+++++++++++++++++++++++++++++++++++++++++++++     | 89% ~02s           |++++++++++++++++++++++++++++++++++++++++++++++    | 90% ~02s           |++++++++++++++++++++++++++++++++++++++++++++++    | 91% ~02s           |+++++++++++++++++++++++++++++++++++++++++++++++   | 92% ~02s           |+++++++++++++++++++++++++++++++++++++++++++++++   | 93% ~01s           |++++++++++++++++++++++++++++++++++++++++++++++++  | 95% ~01s           |++++++++++++++++++++++++++++++++++++++++++++++++  | 96% ~01s           |+++++++++++++++++++++++++++++++++++++++++++++++++ | 97% ~01s           |+++++++++++++++++++++++++++++++++++++++++++++++++ | 98% ~00s           |++++++++++++++++++++++++++++++++++++++++++++++++++| 99% ~00s           |++++++++++++++++++++++++++++++++++++++++++++++++++| 100% elapsed=22s  \n",
      "  |                                                  | 0 % ~calculating   |+                                                 | 1 % ~24s           |++                                                | 3 % ~23s           |+++                                               | 4 % ~23s           |+++                                               | 6 % ~22s           |++++                                              | 7 % ~22s           |+++++                                             | 9 % ~22s           |+++++                                             | 10% ~22s           |++++++                                            | 11% ~22s           |+++++++                                           | 13% ~21s           |++++++++                                          | 14% ~21s           |++++++++                                          | 16% ~21s           |+++++++++                                         | 17% ~20s           |++++++++++                                        | 19% ~20s           |++++++++++                                        | 20% ~20s           |+++++++++++                                       | 21% ~19s           |++++++++++++                                      | 23% ~19s           |+++++++++++++                                     | 24% ~18s           |+++++++++++++                                     | 26% ~18s           |++++++++++++++                                    | 27% ~18s           |+++++++++++++++                                   | 29% ~17s           |+++++++++++++++                                   | 30% ~17s           |++++++++++++++++                                  | 31% ~17s           |+++++++++++++++++                                 | 33% ~16s           |++++++++++++++++++                                | 34% ~16s           |++++++++++++++++++                                | 36% ~16s           |+++++++++++++++++++                               | 37% ~15s           |++++++++++++++++++++                              | 39% ~15s           |++++++++++++++++++++                              | 40% ~14s           |+++++++++++++++++++++                             | 41% ~14s           |++++++++++++++++++++++                            | 43% ~14s           |+++++++++++++++++++++++                           | 44% ~13s           |+++++++++++++++++++++++                           | 46% ~13s           |++++++++++++++++++++++++                          | 47% ~13s           |+++++++++++++++++++++++++                         | 49% ~12s           |+++++++++++++++++++++++++                         | 50% ~12s           |++++++++++++++++++++++++++                        | 51% ~12s           |+++++++++++++++++++++++++++                       | 53% ~11s           |++++++++++++++++++++++++++++                      | 54% ~11s           |++++++++++++++++++++++++++++                      | 56% ~11s           |+++++++++++++++++++++++++++++                     | 57% ~10s           |++++++++++++++++++++++++++++++                    | 59% ~10s           |++++++++++++++++++++++++++++++                    | 60% ~10s           |+++++++++++++++++++++++++++++++                   | 61% ~09s           |++++++++++++++++++++++++++++++++                  | 63% ~09s           |+++++++++++++++++++++++++++++++++                 | 64% ~09s           |+++++++++++++++++++++++++++++++++                 | 66% ~08s           |++++++++++++++++++++++++++++++++++                | 67% ~08s           |+++++++++++++++++++++++++++++++++++               | 69% ~08s           |+++++++++++++++++++++++++++++++++++               | 70% ~07s           |++++++++++++++++++++++++++++++++++++              | 71% ~07s           |+++++++++++++++++++++++++++++++++++++             | 73% ~07s           |++++++++++++++++++++++++++++++++++++++            | 74% ~06s           |++++++++++++++++++++++++++++++++++++++            | 76% ~06s           |+++++++++++++++++++++++++++++++++++++++           | 77% ~05s           |++++++++++++++++++++++++++++++++++++++++          | 79% ~05s           |++++++++++++++++++++++++++++++++++++++++          | 80% ~05s           |+++++++++++++++++++++++++++++++++++++++++         | 81% ~04s           |++++++++++++++++++++++++++++++++++++++++++        | 83% ~04s           |+++++++++++++++++++++++++++++++++++++++++++       | 84% ~04s           |+++++++++++++++++++++++++++++++++++++++++++       | 86% ~03s           |++++++++++++++++++++++++++++++++++++++++++++      | 87% ~03s           |+++++++++++++++++++++++++++++++++++++++++++++     | 89% ~03s           |+++++++++++++++++++++++++++++++++++++++++++++     | 90% ~02s           |++++++++++++++++++++++++++++++++++++++++++++++    | 91% ~02s           |+++++++++++++++++++++++++++++++++++++++++++++++   | 93% ~02s           |++++++++++++++++++++++++++++++++++++++++++++++++  | 94% ~01s           |++++++++++++++++++++++++++++++++++++++++++++++++  | 96% ~01s           |+++++++++++++++++++++++++++++++++++++++++++++++++ | 97% ~01s           |++++++++++++++++++++++++++++++++++++++++++++++++++| 99% ~00s           |++++++++++++++++++++++++++++++++++++++++++++++++++| 100% elapsed=24s  \n",
      "  |                                                  | 0 % ~calculating   |+                                                 | 1 % ~40s           |++                                                | 2 % ~40s           |++                                                | 3 % ~39s           |+++                                               | 4 % ~39s           |+++                                               | 5 % ~39s           |++++                                              | 6 % ~39s           |++++                                              | 7 % ~39s           |+++++                                             | 8 % ~38s           |+++++                                             | 9 % ~38s           |++++++                                            | 10% ~37s           |++++++                                            | 11% ~37s           |+++++++                                           | 12% ~36s           |+++++++                                           | 14% ~36s           |++++++++                                          | 15% ~35s           |++++++++                                          | 16% ~35s           |+++++++++                                         | 17% ~35s           |+++++++++                                         | 18% ~34s           |++++++++++                                        | 19% ~34s           |++++++++++                                        | 20% ~34s           |+++++++++++                                       | 21% ~33s           |+++++++++++                                       | 22% ~33s           |++++++++++++                                      | 23% ~32s           |++++++++++++                                      | 24% ~32s           |+++++++++++++                                     | 25% ~32s           |++++++++++++++                                    | 26% ~31s           |++++++++++++++                                    | 27% ~31s           |+++++++++++++++                                   | 28% ~30s           |+++++++++++++++                                   | 29% ~30s           |++++++++++++++++                                  | 30% ~29s           |++++++++++++++++                                  | 31% ~29s           |+++++++++++++++++                                 | 32% ~28s           |+++++++++++++++++                                 | 33% ~28s           |++++++++++++++++++                                | 34% ~28s           |++++++++++++++++++                                | 35% ~27s           |+++++++++++++++++++                               | 36% ~27s           |+++++++++++++++++++                               | 38% ~26s           |++++++++++++++++++++                              | 39% ~26s           |++++++++++++++++++++                              | 40% ~25s           |+++++++++++++++++++++                             | 41% ~25s           |+++++++++++++++++++++                             | 42% ~24s           |++++++++++++++++++++++                            | 43% ~24s           |++++++++++++++++++++++                            | 44% ~24s           |+++++++++++++++++++++++                           | 45% ~23s           |+++++++++++++++++++++++                           | 46% ~23s           |++++++++++++++++++++++++                          | 47% ~22s           |++++++++++++++++++++++++                          | 48% ~22s           |+++++++++++++++++++++++++                         | 49% ~21s           |+++++++++++++++++++++++++                         | 50% ~21s           |++++++++++++++++++++++++++                        | 51% ~21s           |+++++++++++++++++++++++++++                       | 52% ~20s           |+++++++++++++++++++++++++++                       | 53% ~20s           |++++++++++++++++++++++++++++                      | 54% ~19s           |++++++++++++++++++++++++++++                      | 55% ~19s           |+++++++++++++++++++++++++++++                     | 56% ~18s           |+++++++++++++++++++++++++++++                     | 57% ~18s           |++++++++++++++++++++++++++++++                    | 58% ~17s           |++++++++++++++++++++++++++++++                    | 59% ~17s           |+++++++++++++++++++++++++++++++                   | 60% ~17s           |+++++++++++++++++++++++++++++++                   | 61% ~17s           |++++++++++++++++++++++++++++++++                  | 62% ~17s           |++++++++++++++++++++++++++++++++                  | 64% ~16s           |+++++++++++++++++++++++++++++++++                 | 65% ~16s           |+++++++++++++++++++++++++++++++++                 | 66% ~15s           |++++++++++++++++++++++++++++++++++                | 67% ~15s           |++++++++++++++++++++++++++++++++++                | 68% ~14s           |+++++++++++++++++++++++++++++++++++               | 69% ~14s           |+++++++++++++++++++++++++++++++++++               | 70% ~14s           |++++++++++++++++++++++++++++++++++++              | 71% ~13s           |++++++++++++++++++++++++++++++++++++              | 72% ~13s           |+++++++++++++++++++++++++++++++++++++             | 73% ~12s           |+++++++++++++++++++++++++++++++++++++             | 74% ~12s           |++++++++++++++++++++++++++++++++++++++            | 75% ~11s           |+++++++++++++++++++++++++++++++++++++++           | 76% ~11s           |+++++++++++++++++++++++++++++++++++++++           | 77% ~10s           |++++++++++++++++++++++++++++++++++++++++          | 78% ~10s           |++++++++++++++++++++++++++++++++++++++++          | 79% ~09s           |+++++++++++++++++++++++++++++++++++++++++         | 80% ~09s           |+++++++++++++++++++++++++++++++++++++++++         | 81% ~08s           |++++++++++++++++++++++++++++++++++++++++++        | 82% ~08s           |++++++++++++++++++++++++++++++++++++++++++        | 83% ~07s           |+++++++++++++++++++++++++++++++++++++++++++       | 84% ~07s           |+++++++++++++++++++++++++++++++++++++++++++       | 85% ~07s           |++++++++++++++++++++++++++++++++++++++++++++      | 86% ~06s           |++++++++++++++++++++++++++++++++++++++++++++      | 88% ~06s           |+++++++++++++++++++++++++++++++++++++++++++++     | 89% ~05s           |+++++++++++++++++++++++++++++++++++++++++++++     | 90% ~05s           |++++++++++++++++++++++++++++++++++++++++++++++    | 91% ~04s           |++++++++++++++++++++++++++++++++++++++++++++++    | 92% ~04s           |+++++++++++++++++++++++++++++++++++++++++++++++   | 93% ~03s           |+++++++++++++++++++++++++++++++++++++++++++++++   | 94% ~03s           |++++++++++++++++++++++++++++++++++++++++++++++++  | 95% ~02s           |++++++++++++++++++++++++++++++++++++++++++++++++  | 96% ~02s           |+++++++++++++++++++++++++++++++++++++++++++++++++ | 97% ~01s           |+++++++++++++++++++++++++++++++++++++++++++++++++ | 98% ~01s           |++++++++++++++++++++++++++++++++++++++++++++++++++| 99% ~00s           |++++++++++++++++++++++++++++++++++++++++++++++++++| 100% elapsed=44s  \n",
      "  |                                                  | 0 % ~calculating   |+                                                 | 1 % ~28s           |++                                                | 2 % ~26s           |++                                                | 4 % ~26s           |+++                                               | 5 % ~25s           |++++                                              | 6 % ~25s           |++++                                              | 7 % ~24s           |+++++                                             | 9 % ~24s           |+++++                                             | 10% ~24s           |++++++                                            | 11% ~23s           |+++++++                                           | 12% ~23s           |+++++++                                           | 14% ~23s           |++++++++                                          | 15% ~22s           |+++++++++                                         | 16% ~22s           |+++++++++                                         | 17% ~22s           |++++++++++                                        | 19% ~22s           |++++++++++                                        | 20% ~21s           |+++++++++++                                       | 21% ~21s           |++++++++++++                                      | 22% ~21s           |++++++++++++                                      | 23% ~22s           |+++++++++++++                                     | 25% ~23s           |+++++++++++++                                     | 26% ~23s           |++++++++++++++                                    | 27% ~24s           |+++++++++++++++                                   | 28% ~24s           |+++++++++++++++                                   | 30% ~23s           |++++++++++++++++                                  | 31% ~23s           |+++++++++++++++++                                 | 32% ~22s           |+++++++++++++++++                                 | 33% ~22s           |++++++++++++++++++                                | 35% ~21s           |++++++++++++++++++                                | 36% ~21s           |+++++++++++++++++++                               | 37% ~20s           |++++++++++++++++++++                              | 38% ~20s           |++++++++++++++++++++                              | 40% ~19s           |+++++++++++++++++++++                             | 41% ~19s           |+++++++++++++++++++++                             | 42% ~19s           |++++++++++++++++++++++                            | 43% ~18s           |+++++++++++++++++++++++                           | 44% ~18s           |+++++++++++++++++++++++                           | 46% ~17s           |++++++++++++++++++++++++                          | 47% ~17s           |+++++++++++++++++++++++++                         | 48% ~16s           |+++++++++++++++++++++++++                         | 49% ~16s           |++++++++++++++++++++++++++                        | 51% ~15s           |++++++++++++++++++++++++++                        | 52% ~15s           |+++++++++++++++++++++++++++                       | 53% ~15s           |++++++++++++++++++++++++++++                      | 54% ~14s           |++++++++++++++++++++++++++++                      | 56% ~14s           |+++++++++++++++++++++++++++++                     | 57% ~13s           |++++++++++++++++++++++++++++++                    | 58% ~13s           |++++++++++++++++++++++++++++++                    | 59% ~12s           |+++++++++++++++++++++++++++++++                   | 60% ~12s           |+++++++++++++++++++++++++++++++                   | 62% ~12s           |++++++++++++++++++++++++++++++++                  | 63% ~11s           |+++++++++++++++++++++++++++++++++                 | 64% ~11s           |+++++++++++++++++++++++++++++++++                 | 65% ~10s           |++++++++++++++++++++++++++++++++++                | 67% ~10s           |++++++++++++++++++++++++++++++++++                | 68% ~10s           |+++++++++++++++++++++++++++++++++++               | 69% ~09s           |++++++++++++++++++++++++++++++++++++              | 70% ~09s           |++++++++++++++++++++++++++++++++++++              | 72% ~08s           |+++++++++++++++++++++++++++++++++++++             | 73% ~08s           |++++++++++++++++++++++++++++++++++++++            | 74% ~08s           |++++++++++++++++++++++++++++++++++++++            | 75% ~07s           |+++++++++++++++++++++++++++++++++++++++           | 77% ~07s           |+++++++++++++++++++++++++++++++++++++++           | 78% ~07s           |++++++++++++++++++++++++++++++++++++++++          | 79% ~06s           |+++++++++++++++++++++++++++++++++++++++++         | 80% ~06s           |+++++++++++++++++++++++++++++++++++++++++         | 81% ~05s           |++++++++++++++++++++++++++++++++++++++++++        | 83% ~05s           |++++++++++++++++++++++++++++++++++++++++++        | 84% ~05s           |+++++++++++++++++++++++++++++++++++++++++++       | 85% ~04s           |++++++++++++++++++++++++++++++++++++++++++++      | 86% ~04s           |++++++++++++++++++++++++++++++++++++++++++++      | 88% ~04s           |+++++++++++++++++++++++++++++++++++++++++++++     | 89% ~03s           |++++++++++++++++++++++++++++++++++++++++++++++    | 90% ~03s           |++++++++++++++++++++++++++++++++++++++++++++++    | 91% ~03s           |+++++++++++++++++++++++++++++++++++++++++++++++   | 93% ~02s           |+++++++++++++++++++++++++++++++++++++++++++++++   | 94% ~02s           |++++++++++++++++++++++++++++++++++++++++++++++++  | 95% ~01s           |+++++++++++++++++++++++++++++++++++++++++++++++++ | 96% ~01s           |+++++++++++++++++++++++++++++++++++++++++++++++++ | 98% ~01s           |++++++++++++++++++++++++++++++++++++++++++++++++++| 99% ~00s           |++++++++++++++++++++++++++++++++++++++++++++++++++| 100% elapsed=29s  \n",
      "  |                                                  | 0 % ~calculating   |+                                                 | 1 % ~35s           |++                                                | 2 % ~35s           |++                                                | 4 % ~34s           |+++                                               | 5 % ~41s           |++++                                              | 6 % ~45s           |++++                                              | 7 % ~48s           |+++++                                             | 9 % ~50s           |+++++                                             | 10% ~50s           |++++++                                            | 11% ~47s           |+++++++                                           | 12% ~45s           |+++++++                                           | 14% ~43s           |++++++++                                          | 15% ~41s           |+++++++++                                         | 16% ~40s           |+++++++++                                         | 17% ~39s           |++++++++++                                        | 19% ~37s           |++++++++++                                        | 20% ~36s           |+++++++++++                                       | 21% ~35s           |++++++++++++                                      | 22% ~34s           |++++++++++++                                      | 23% ~33s           |+++++++++++++                                     | 25% ~32s           |+++++++++++++                                     | 26% ~32s           |++++++++++++++                                    | 27% ~31s           |+++++++++++++++                                   | 28% ~30s           |+++++++++++++++                                   | 30% ~29s           |++++++++++++++++                                  | 31% ~29s           |+++++++++++++++++                                 | 32% ~28s           |+++++++++++++++++                                 | 33% ~27s           |++++++++++++++++++                                | 35% ~27s           |++++++++++++++++++                                | 36% ~26s           |+++++++++++++++++++                               | 37% ~25s           |++++++++++++++++++++                              | 38% ~25s           |++++++++++++++++++++                              | 40% ~24s           |+++++++++++++++++++++                             | 41% ~24s           |+++++++++++++++++++++                             | 42% ~23s           |++++++++++++++++++++++                            | 43% ~22s           |+++++++++++++++++++++++                           | 44% ~22s           |+++++++++++++++++++++++                           | 46% ~21s           |++++++++++++++++++++++++                          | 47% ~21s           |+++++++++++++++++++++++++                         | 48% ~20s           |+++++++++++++++++++++++++                         | 49% ~20s           |++++++++++++++++++++++++++                        | 51% ~19s           |++++++++++++++++++++++++++                        | 52% ~19s           |+++++++++++++++++++++++++++                       | 53% ~18s           |++++++++++++++++++++++++++++                      | 54% ~18s           |++++++++++++++++++++++++++++                      | 56% ~17s           |+++++++++++++++++++++++++++++                     | 57% ~17s           |++++++++++++++++++++++++++++++                    | 58% ~16s           |++++++++++++++++++++++++++++++                    | 59% ~16s           |+++++++++++++++++++++++++++++++                   | 60% ~15s           |+++++++++++++++++++++++++++++++                   | 62% ~15s           |++++++++++++++++++++++++++++++++                  | 63% ~14s           |+++++++++++++++++++++++++++++++++                 | 64% ~14s           |+++++++++++++++++++++++++++++++++                 | 65% ~13s           |++++++++++++++++++++++++++++++++++                | 67% ~13s           |++++++++++++++++++++++++++++++++++                | 68% ~12s           |+++++++++++++++++++++++++++++++++++               | 69% ~12s           |++++++++++++++++++++++++++++++++++++              | 70% ~11s           |++++++++++++++++++++++++++++++++++++              | 72% ~11s           |+++++++++++++++++++++++++++++++++++++             | 73% ~10s           |++++++++++++++++++++++++++++++++++++++            | 74% ~10s           |++++++++++++++++++++++++++++++++++++++            | 75% ~09s           |+++++++++++++++++++++++++++++++++++++++           | 77% ~09s           |+++++++++++++++++++++++++++++++++++++++           | 78% ~08s           |++++++++++++++++++++++++++++++++++++++++          | 79% ~08s           |+++++++++++++++++++++++++++++++++++++++++         | 80% ~08s           |+++++++++++++++++++++++++++++++++++++++++         | 81% ~07s           |++++++++++++++++++++++++++++++++++++++++++        | 83% ~07s           |++++++++++++++++++++++++++++++++++++++++++        | 84% ~06s           |+++++++++++++++++++++++++++++++++++++++++++       | 85% ~06s           |++++++++++++++++++++++++++++++++++++++++++++      | 86% ~05s           |++++++++++++++++++++++++++++++++++++++++++++      | 88% ~05s           |+++++++++++++++++++++++++++++++++++++++++++++     | 89% ~04s           |++++++++++++++++++++++++++++++++++++++++++++++    | 90% ~04s           |++++++++++++++++++++++++++++++++++++++++++++++    | 91% ~03s           |+++++++++++++++++++++++++++++++++++++++++++++++   | 93% ~03s           |+++++++++++++++++++++++++++++++++++++++++++++++   | 94% ~02s           |++++++++++++++++++++++++++++++++++++++++++++++++  | 95% ~02s           |+++++++++++++++++++++++++++++++++++++++++++++++++ | 96% ~01s           |+++++++++++++++++++++++++++++++++++++++++++++++++ | 98% ~01s           |++++++++++++++++++++++++++++++++++++++++++++++++++| 99% ~00s           |++++++++++++++++++++++++++++++++++++++++++++++++++| 100% elapsed=39s  \n",
      "  |                                                  | 0 % ~calculating   |+                                                 | 1 % ~30s           |++                                                | 2 % ~29s           |++                                                | 3 % ~28s           |+++                                               | 4 % ~29s           |+++                                               | 5 % ~29s           |++++                                              | 6 % ~29s           |++++                                              | 8 % ~29s           |+++++                                             | 9 % ~28s           |+++++                                             | 10% ~28s           |++++++                                            | 11% ~28s           |++++++                                            | 12% ~27s           |+++++++                                           | 13% ~27s           |+++++++                                           | 14% ~27s           |++++++++                                          | 15% ~26s           |+++++++++                                         | 16% ~26s           |+++++++++                                         | 17% ~26s           |++++++++++                                        | 18% ~25s           |++++++++++                                        | 19% ~25s           |+++++++++++                                       | 20% ~25s           |+++++++++++                                       | 22% ~24s           |++++++++++++                                      | 23% ~24s           |++++++++++++                                      | 24% ~24s           |+++++++++++++                                     | 25% ~23s           |+++++++++++++                                     | 26% ~23s           |++++++++++++++                                    | 27% ~23s           |++++++++++++++                                    | 28% ~22s           |+++++++++++++++                                   | 29% ~22s           |++++++++++++++++                                  | 30% ~22s           |++++++++++++++++                                  | 31% ~21s           |+++++++++++++++++                                 | 32% ~21s           |+++++++++++++++++                                 | 33% ~20s           |++++++++++++++++++                                | 34% ~20s           |++++++++++++++++++                                | 35% ~20s           |+++++++++++++++++++                               | 37% ~19s           |+++++++++++++++++++                               | 38% ~19s           |++++++++++++++++++++                              | 39% ~19s           |++++++++++++++++++++                              | 40% ~18s           |+++++++++++++++++++++                             | 41% ~18s           |+++++++++++++++++++++                             | 42% ~18s           |++++++++++++++++++++++                            | 43% ~17s           |+++++++++++++++++++++++                           | 44% ~17s           |+++++++++++++++++++++++                           | 45% ~17s           |++++++++++++++++++++++++                          | 46% ~16s           |++++++++++++++++++++++++                          | 47% ~16s           |+++++++++++++++++++++++++                         | 48% ~16s           |+++++++++++++++++++++++++                         | 49% ~15s           |++++++++++++++++++++++++++                        | 51% ~15s           |++++++++++++++++++++++++++                        | 52% ~15s           |+++++++++++++++++++++++++++                       | 53% ~14s           |+++++++++++++++++++++++++++                       | 54% ~14s           |++++++++++++++++++++++++++++                      | 55% ~14s           |++++++++++++++++++++++++++++                      | 56% ~14s           |+++++++++++++++++++++++++++++                     | 57% ~14s           |++++++++++++++++++++++++++++++                    | 58% ~14s           |++++++++++++++++++++++++++++++                    | 59% ~13s           |+++++++++++++++++++++++++++++++                   | 60% ~13s           |+++++++++++++++++++++++++++++++                   | 61% ~13s           |++++++++++++++++++++++++++++++++                  | 62% ~13s           |++++++++++++++++++++++++++++++++                  | 63% ~12s           |+++++++++++++++++++++++++++++++++                 | 65% ~12s           |+++++++++++++++++++++++++++++++++                 | 66% ~12s           |++++++++++++++++++++++++++++++++++                | 67% ~11s           |++++++++++++++++++++++++++++++++++                | 68% ~11s           |+++++++++++++++++++++++++++++++++++               | 69% ~10s           |+++++++++++++++++++++++++++++++++++               | 70% ~10s           |++++++++++++++++++++++++++++++++++++              | 71% ~10s           |+++++++++++++++++++++++++++++++++++++             | 72% ~09s           |+++++++++++++++++++++++++++++++++++++             | 73% ~09s           |++++++++++++++++++++++++++++++++++++++            | 74% ~09s           |++++++++++++++++++++++++++++++++++++++            | 75% ~08s           |+++++++++++++++++++++++++++++++++++++++           | 76% ~08s           |+++++++++++++++++++++++++++++++++++++++           | 77% ~08s           |++++++++++++++++++++++++++++++++++++++++          | 78% ~07s           |++++++++++++++++++++++++++++++++++++++++          | 80% ~07s           |+++++++++++++++++++++++++++++++++++++++++         | 81% ~06s          "
     ]
    }
   ],
   "source": [
    "%%R\n",
    "cell_chat_object_list1 <- lapply(\n",
    "    get_condition_list(parameter_list1),\n",
    "    get_cellchat_obj,\n",
    "    metadata,\n",
    "    input_df\n",
    ")\n",
    "\n",
    "saveRDS(cell_chat_object_list1, file = \"CellChat_IPF.rds\")"
   ]
  },
  {
   "cell_type": "code",
   "execution_count": null,
   "id": "382b47e4-47e1-4824-9f99-4977163c7d50",
   "metadata": {
    "tags": []
   },
   "outputs": [],
   "source": [
    "%%R\n",
    "cell_chat_object_list2 <- lapply(\n",
    "    get_condition_list(parameter_list2),\n",
    "    get_cellchat_obj,\n",
    "    metadata,\n",
    "    input_df\n",
    ")\n",
    "saveRDS(cell_chat_object_list2, file = \"CellChat_control.rds\")"
   ]
  },
  {
   "cell_type": "code",
   "execution_count": null,
   "id": "596c34e7-8c2d-4acf-b289-dc90785eeda6",
   "metadata": {},
   "outputs": [],
   "source": [
    "## Done --> see single or combined analysis file"
   ]
  }
 ],
 "metadata": {
  "interpreter": {
   "hash": "176c31c854d4303ad5651056b57116b461e441fe153afde77b1f4219522be4ef"
  },
  "kernelspec": {
   "display_name": "scanpy-env-hpc-CM",
   "language": "python",
   "name": "scanpy-env-hpc-cm"
  },
  "language_info": {
   "codemirror_mode": {
    "name": "ipython",
    "version": 3
   },
   "file_extension": ".py",
   "mimetype": "text/x-python",
   "name": "python",
   "nbconvert_exporter": "python",
   "pygments_lexer": "ipython3",
   "version": "3.9.5"
  }
 },
 "nbformat": 4,
 "nbformat_minor": 5
}
